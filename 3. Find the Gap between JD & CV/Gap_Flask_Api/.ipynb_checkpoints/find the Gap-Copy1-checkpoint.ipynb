{
 "cells": [
  {
   "cell_type": "code",
   "execution_count": null,
   "metadata": {},
   "outputs": [],
   "source": [
    "import pandas as pd\n",
    "import spacy,re,json\n",
    "from flask import Flask, render_template, request\n",
    "import pandas as pd\n",
    "from pprint import pprint\n",
    "from IPython.core.display import display, HTML\n",
    "\n",
    "import warnings\n",
    "warnings.filterwarnings('ignore')"
   ]
  },
  {
   "cell_type": "markdown",
   "metadata": {},
   "source": [
    "# import NER model"
   ]
  },
  {
   "cell_type": "code",
   "execution_count": null,
   "metadata": {},
   "outputs": [],
   "source": [
    "ner_model = spacy.load('ner_model_Skills_me/')"
   ]
  },
  {
   "cell_type": "markdown",
   "metadata": {},
   "source": [
    "# import Skill Hierarchical  relation"
   ]
  },
  {
   "cell_type": "code",
   "execution_count": null,
   "metadata": {},
   "outputs": [],
   "source": [
    "SKILL_Hierarchical_relation_DF = pd.read_excel(r'Hierarchical_relation_DF.xls')\n",
    "SKILL_Hierarchical_relation_DF = SKILL_Hierarchical_relation_DF.drop_duplicates()\n",
    "SKILL_Hierarchical_relation_DF"
   ]
  },
  {
   "cell_type": "markdown",
   "metadata": {},
   "source": [
    "# import Skill Correlation relation"
   ]
  },
  {
   "cell_type": "code",
   "execution_count": null,
   "metadata": {},
   "outputs": [],
   "source": [
    "# SKILL_Correlation_relation_DF = pd.read_excel(r'Correlation_relation_Link.xls')\n",
    "# SKILL_Correlation_relation_DF = SKILL_Correlation_relation_DF.drop_duplicates()\n",
    "# SKILL_Correlation_relation_DF"
   ]
  },
  {
   "cell_type": "code",
   "execution_count": null,
   "metadata": {},
   "outputs": [],
   "source": []
  },
  {
   "cell_type": "code",
   "execution_count": null,
   "metadata": {},
   "outputs": [],
   "source": [
    "def get_HTML(my_doc, ent_list):\n",
    "    total_html = ''\n",
    "    for tem in my_doc:\n",
    "        if  r'/r' in tem.text or  r'/n' in tem.text or  '\\\\r' in tem.text or '\\\\n' in tem.text:\n",
    "            total_html += '<br/>'\n",
    "\n",
    "        if tem not in ent_list:\n",
    "            total_html += tem.text + ' '\n",
    "        else:\n",
    "            total_html += \"<span style='background:yellow'>\"+ tem.text +' ' + \"</span>\"\n",
    "\n",
    "    display(HTML( '<html>'+ total_html + '</html>' ))\n",
    "    return '<html>'+ total_html + '</html>'"
   ]
  },
  {
   "cell_type": "code",
   "execution_count": null,
   "metadata": {},
   "outputs": [],
   "source": [
    "def get_HTML_JD(my_doc, ent_list, cv_ent_list):\n",
    "    total_html = ''\n",
    "    for tem in my_doc:\n",
    "        if  r'/r' in tem.text or  r'/n' in tem.text or  '\\\\r' in tem.text or '\\\\n' in tem.text:\n",
    "            total_html += '<br/>'\n",
    "\n",
    "        if tem not in ent_list:\n",
    "            total_html += tem.text + ' '\n",
    "        elif tem not in cv_ent_list:\n",
    "            total_html += \"<span style='background:red'>\"+ tem.text +' ' + \"</span>\"\n",
    "        else:\n",
    "            total_html += \"<span style='background:yellow'>\"+ tem.text +' ' + \"</span>\"\n",
    "\n",
    "    display(HTML( '<html>'+ total_html + '</html>' ))\n",
    "    return '<html>'+ total_html + '</html>'"
   ]
  },
  {
   "cell_type": "markdown",
   "metadata": {},
   "source": [
    "# Skill relation Dict"
   ]
  },
  {
   "cell_type": "code",
   "execution_count": null,
   "metadata": {},
   "outputs": [],
   "source": [
    "SKILL_relation_Dict = {}\n",
    "\n",
    "for ind, row in SKILL_Hierarchical_relation_DF.iterrows():\n",
    "    SKILL_relation_Dict[row['node1']] = row['node2']\n",
    "    \n",
    "    \n",
    "# for ind, row in SKILL_Correlation_relation_DF.iterrows():\n",
    "#     SKILL_relation_Dict[row['node1']] = row['node2']\n",
    "    \n",
    "SKILL_relation_Dict"
   ]
  },
  {
   "cell_type": "code",
   "execution_count": null,
   "metadata": {},
   "outputs": [],
   "source": []
  },
  {
   "cell_type": "code",
   "execution_count": null,
   "metadata": {
    "scrolled": true
   },
   "outputs": [],
   "source": [
    "app = Flask(__name__)\n",
    "\n",
    "@app.route('/get_gap/', methods=['POST'])\n",
    "# 返回最接近的向量\n",
    "def get_simmilar():\n",
    "    print( 'get_gap:' )\n",
    "    \n",
    "    print( 'JD:' )\n",
    "    JD = eval(request.get_data())['JD']\n",
    "    CV = eval(request.get_data())['CV']\n",
    "    \n",
    "    ## skill word in JD\n",
    "    doc1 = ner_model(JD)\n",
    "    JD_tem_list = []\n",
    "    for chunk in doc1.ents:\n",
    "        JD_tem_list.append( chunk.text )\n",
    "    JD_tem_list = list(set(JD_tem_list))\n",
    "\n",
    "    JD_ent_list = [t.root for t in doc1.ents]\n",
    "    JD_HTML = get_HTML( doc1, JD_ent_list)\n",
    "    print( 'skill word in JD:', JD_tem_list)\n",
    "    \n",
    "    print('='*120)\n",
    "    ## skill word in CV\n",
    "    print( 'CV:' )\n",
    "    doc2 = ner_model(CV)\n",
    "    CV_tem_list = []\n",
    "    for chunk in doc2.ents:\n",
    "        CV_tem_list.append( chunk.text )\n",
    "    CV_tem_list = list(set(CV_tem_list))\n",
    "\n",
    "    CV_tem_list_expand = []\n",
    "    for tem in CV_tem_list:\n",
    "        CV_tem_list_expand.append( str(tem) )\n",
    "        if SKILL_relation_Dict.get( str(tem),None ) != None:\n",
    "            CV_tem_list_expand.append( SKILL_relation_Dict.get( str(tem),None ) )\n",
    "\n",
    "    CV_tem_list_expand = list(set(CV_tem_list_expand))\n",
    "\n",
    "    CV_ent_list = [t.root for t in doc2.ents]\n",
    "    CV_HTML = get_HTML( doc2, CV_ent_list)\n",
    "    \n",
    "    print( 'skill word in CV:', CV_tem_list_expand)\n",
    "    CV_tem_list_expand = [w.lower() for w in CV_tem_list_expand]\n",
    "    \n",
    "    gap_tem_list = []\n",
    "    for t1 in JD_tem_list:\n",
    "        if t1.lower() not in CV_tem_list_expand:\n",
    "            gap_tem_list.append( t1 )\n",
    "    \n",
    "    print('='*120)\n",
    "    print( 'gap_list', gap_tem_list)\n",
    "    response = { \n",
    "        'JD_HTML': JD_HTML,\n",
    "        'CV_HTML': CV_HTML,\n",
    "        'gap_list': gap_tem_list}\n",
    "    \n",
    "    return str(response)\n",
    "\n",
    "if __name__ == '__main__':\n",
    "    app.run(host=\"0.0.0.0\", port=5553)"
   ]
  },
  {
   "cell_type": "code",
   "execution_count": null,
   "metadata": {},
   "outputs": [],
   "source": []
  },
  {
   "cell_type": "code",
   "execution_count": null,
   "metadata": {},
   "outputs": [],
   "source": []
  },
  {
   "cell_type": "code",
   "execution_count": null,
   "metadata": {},
   "outputs": [],
   "source": []
  }
 ],
 "metadata": {
  "kernelspec": {
   "display_name": "Python 3",
   "language": "python",
   "name": "python3"
  },
  "language_info": {
   "codemirror_mode": {
    "name": "ipython",
    "version": 3
   },
   "file_extension": ".py",
   "mimetype": "text/x-python",
   "name": "python",
   "nbconvert_exporter": "python",
   "pygments_lexer": "ipython3",
   "version": "3.7.6"
  }
 },
 "nbformat": 4,
 "nbformat_minor": 2
}
