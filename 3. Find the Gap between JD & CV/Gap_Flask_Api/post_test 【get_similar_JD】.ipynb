{
 "cells": [
  {
   "cell_type": "markdown",
   "metadata": {},
   "source": [
    "# get_similar_JD"
   ]
  },
  {
   "cell_type": "code",
   "execution_count": 3,
   "metadata": {},
   "outputs": [
    {
     "name": "stdout",
     "output_type": "stream",
     "text": [
      "<Response [200]>\n",
      "{'plot_name': '7612907945528279464.png',\n",
      " 'results': [{'jd_desc': '<p>We are looking to identify at least 5 more '\n",
      "                         'developers for an Army Contract in Springfield, '\n",
      "                         'VA.&nbsp; Many of the requirements below are ideal '\n",
      "                         \"but if you don't possess all of them training will \"\n",
      "                         'be provided on the job.&nbsp; Must be able to obtain '\n",
      "                         'a DOD Secret Clearance.&nbsp; '\n",
      "                         '<br>\\\\r<br>\\\\r</p>\\\\r<p><b><span>Position '\n",
      "                         'Description </span></b></p>\\\\r<p><span>Designs, '\n",
      "                         'develops, and implements web-based Java applications '\n",
      "                         'to support business requirements. Follows approved '\n",
      "                         'life cycle methodologies, creates design documents, '\n",
      "                         'and performs program coding and testing. Resolves '\n",
      "                         'technical issues through troubleshooting, debugging, '\n",
      "                         'research, and investigation.&nbsp; Familiar with '\n",
      "                         'software development concepts, practices, and '\n",
      "                         'procedures (i.e. Java, EJB 3.0, JSP, JSF, HTML, SQL, '\n",
      "                         'Javascript). Relies on extensive experience and '\n",
      "                         'judgment to plan and accomplish goals.&nbsp; '\n",
      "                         '</span></p>\\\\r<p><b><span>Principle Duties and '\n",
      "                         'Responsibilities:</span></b></p>\\\\r<ul>\\\\r    '\n",
      "                         '<li>Experience in building enterprise software or '\n",
      "                         'large scale web application required</li>\\\\r    '\n",
      "                         '<li>Strong Java and J EE software development '\n",
      "                         'required</li>\\\\r    <li>Experience in servlets and '\n",
      "                         'JSP development required</li>\\\\r    <li>Hands-on '\n",
      "                         'experience with EJB3 or ORM software (hibernate, '\n",
      "                         'toplink, JDO, etc) required</li>\\\\r    <li>Ability '\n",
      "                         'to work across all layers of the application, from '\n",
      "                         'back-end databases through to the user '\n",
      "                         'interface</li>\\\\r    <li>In-depth knowledge with '\n",
      "                         'relational database, such SQL Server or Oracle, is '\n",
      "                         'required</li>\\\\r    <li>Agile/Iterative development '\n",
      "                         'methodology</li>\\\\r    <li>SQL; AJAX; JBoss; Jasper '\n",
      "                         'Reports</li>\\\\r    <li>Working knowledge of database '\n",
      "                         'relational design, data normalization and experience '\n",
      "                         'with JDBC drivers</li>\\\\r    <li>Experience in '\n",
      "                         'JavaServer Faces (JSF) is highly '\n",
      "                         'desirable</li>\\\\r    <li>Experience working on high '\n",
      "                         'scalable, distributed, high transaction applications '\n",
      "                         'is a plus</li>\\\\r    <li>Experience with creating '\n",
      "                         'web services or implementing client portion of web '\n",
      "                         'service is desirable</li>\\\\r    <li>Experience in '\n",
      "                         'Software as a Service (SaaS) is a plus</li>\\\\r    '\n",
      "                         '<li>Knowledge of design patterns is a '\n",
      "                         'plus</li>\\\\r    <li>Experience in JavaScript is a '\n",
      "                         'plus.</li>\\\\r</ul>\\\\r<p><span><b><span>Job '\n",
      "                         'Specifications:</span></b></span></p>\\\\r<ul>\\\\r    '\n",
      "                         '<li>A bachelors degree in Computer Science or '\n",
      "                         'Engineering and at least 6 years of Java experience '\n",
      "                         'working with server side applications, 7 years of '\n",
      "                         'experience can be substituted for a '\n",
      "                         'degree</li>\\\\r    <li>Candidates must be clearable '\n",
      "                         'US Citizens or hold at least an interim DOD security '\n",
      "                         'clearance</li>\\\\r</ul>',\n",
      "              'jd_id': '1',\n",
      "              'jd_type': 'Java Developer'}],\n",
      " 'total_results': 1}\n"
     ]
    }
   ],
   "source": [
    "import requests,json\n",
    "from pprint import pprint\n",
    "\n",
    "url='http://127.0.0.1:6001/predict_cv'\n",
    "res = requests.post(url, data= \n",
    "                    json.dumps({\n",
    "            \"cv_id\": \"7612907945528279464\",\n",
    "            \"cv_desc\": \" IT SKILLS Languages : C ( Basic ) , JAVA ( Basic ) Web Technologies : HTML5 , CSS3 , Bootstrap , JavaScript , jQuery , Corel Draw , Photoshop , Illustrator Databases : MySQL5.0 IDE & Tools : Sublime Text , Notepad Operating Systems : Windows XP , Windows 7Education Details September 2015 Bachelor of Engineer Information technology Nagpur , Maharashtra Nagpur University May 2011 HSC Secondary & Higher Secondary State Board of Secondary June 2009 SSC Secondary & Higher Secondary Maharashtra State Board of SecondaryWeb and Graphics DesignerWeb and Graphics Designer - Virtuous Media Point , PuneSkill Details BOOTSTRAP- Exprience - 24 months HTML5- Exprience - 24 months JAVASCRIPT- Exprience - 24 months jQuery- Exprience - 24 months COREL DRAW- Exprience - 24 months Adobe Photoshop- Exprience - 24 months Adobe Illustrator- Exprience - 12 months CSS3- Exprience - 24 monthsCompany Details company - Virtuous Media Point description - company - CNC Web World description - Internship Program : At e - sense IT Solution pvt.ltd . Nagpur as a Web Designing and Developement . * Presented in Project Competition in Innovesta 15 of Priyadarshini Indira Gandhi College of Engineering , Nagpur . * Presented in National Level Paper Presentation in TECH - WAVE 2015 of S.R.M.C.E. , Nagpur . company - e - sense IT Solution pvt.ltd description - Key Result Areas : * Designed websites solutions by studying information needs , conferring with users , and studying systems flow , data usage , and work processes . * Understood process requirements and provided use cases for business , functional & technical requirements . * Interacted with users for requirement gathering , prepared functional specifications and low - level design documents . * Participated in the Software Development Life cycle ( SDLC ) and Agile methodology right from requirement analysis , * Performed detailed design of modules along with their implementation , and documentation integrated software modules Developed by other team members . Highlights : * Developed various modules as per customer requirement and identified and fixed number of bugs related to code , Database connectivity , UI Defects and so on . * Analyzed and modified existing codes to incorporate a number of changes in the application / user requirements , wrote new codes as required . * Coded , implemented and integrated complex programs using technologies such as HTML5 , CSS3 , JavaScript , jQuery , bootstrap . * Having good command on Graphics designing with effective ideas . PROJECTS * www.nitka.com , Nagpur united corporation ( admin ) , Mintmetrix.com , Tagline videos ( admin ) , Smartbadge ( admin ) : - In all projects I have used technologies like HTML5 , CSS3 , Bootstrap , JavaScript , jQuery and text editor as sublime text . * www.shreekiaspack.co.in , www.3staragroproducts.com , www.luckystationery.co.in : - used technologies like HTML5 , CSS3 , Bootstrap , javascript and text editor as notepad++ . * Design various Logos , Brochures , Advertising Banners , Visiting Cards , Pamphlet , Hoardings etc . B.E. FINAL YEAR PROJECT * Major Project : - Title : WEB BASED DISEASE DIAGNOSIS EXPERT SYSTEM . Duration : 1 Year Description : In this project we provide a website in which doctor gives online consultation for particular disease . System gives better suggestions for any health problems . * Mini Project Development- * SHOPPING MANAGEMENT SYSTEM Developed in C++ . CURRICULUM & EXTRA CURRICULUM ACTIVITIES company - FACE - IT description - Co - ordinator in project competition . \"\n",
    "        }\n",
    "                    )\n",
    ")\n",
    "\n",
    "print(res)\n",
    "pprint( eval(res.text) )"
   ]
  },
  {
   "cell_type": "code",
   "execution_count": null,
   "metadata": {},
   "outputs": [],
   "source": []
  },
  {
   "cell_type": "code",
   "execution_count": null,
   "metadata": {},
   "outputs": [],
   "source": []
  }
 ],
 "metadata": {
  "kernelspec": {
   "display_name": "Python 3",
   "language": "python",
   "name": "python3"
  },
  "language_info": {
   "codemirror_mode": {
    "name": "ipython",
    "version": 3
   },
   "file_extension": ".py",
   "mimetype": "text/x-python",
   "name": "python",
   "nbconvert_exporter": "python",
   "pygments_lexer": "ipython3",
   "version": "3.7.6"
  }
 },
 "nbformat": 4,
 "nbformat_minor": 2
}
