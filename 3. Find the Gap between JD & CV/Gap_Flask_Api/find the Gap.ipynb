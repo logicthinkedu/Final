{
 "cells": [
  {
   "cell_type": "code",
   "execution_count": 1,
   "metadata": {},
   "outputs": [],
   "source": [
    "import pandas as pd\n",
    "import spacy,re,json\n",
    "from flask import Flask, render_template, request\n",
    "import pandas as pd\n",
    "from pprint import pprint\n",
    "from IPython.core.display import display, HTML\n",
    "\n",
    "import warnings\n",
    "warnings.filterwarnings('ignore')"
   ]
  },
  {
   "cell_type": "markdown",
   "metadata": {},
   "source": [
    "# import NER model"
   ]
  },
  {
   "cell_type": "code",
   "execution_count": 2,
   "metadata": {},
   "outputs": [],
   "source": [
    "ner_model = spacy.load('ner_model_Skills_me/')"
   ]
  },
  {
   "cell_type": "markdown",
   "metadata": {},
   "source": [
    "# import Skill Hierarchical  relation"
   ]
  },
  {
   "cell_type": "code",
   "execution_count": 3,
   "metadata": {},
   "outputs": [
    {
     "data": {
      "text/html": [
       "<div>\n",
       "<style scoped>\n",
       "    .dataframe tbody tr th:only-of-type {\n",
       "        vertical-align: middle;\n",
       "    }\n",
       "\n",
       "    .dataframe tbody tr th {\n",
       "        vertical-align: top;\n",
       "    }\n",
       "\n",
       "    .dataframe thead th {\n",
       "        text-align: right;\n",
       "    }\n",
       "</style>\n",
       "<table border=\"1\" class=\"dataframe\">\n",
       "  <thead>\n",
       "    <tr style=\"text-align: right;\">\n",
       "      <th></th>\n",
       "      <th>node1</th>\n",
       "      <th>node2</th>\n",
       "    </tr>\n",
       "  </thead>\n",
       "  <tbody>\n",
       "    <tr>\n",
       "      <th>0</th>\n",
       "      <td>data</td>\n",
       "      <td>Extract</td>\n",
       "    </tr>\n",
       "    <tr>\n",
       "      <th>1</th>\n",
       "      <td>Tableau</td>\n",
       "      <td>data visualization</td>\n",
       "    </tr>\n",
       "    <tr>\n",
       "      <th>2</th>\n",
       "      <td>Qlik</td>\n",
       "      <td>data visualization</td>\n",
       "    </tr>\n",
       "    <tr>\n",
       "      <th>3</th>\n",
       "      <td>algorithms</td>\n",
       "      <td>Deep learning</td>\n",
       "    </tr>\n",
       "    <tr>\n",
       "      <th>4</th>\n",
       "      <td>analytics</td>\n",
       "      <td>support</td>\n",
       "    </tr>\n",
       "    <tr>\n",
       "      <th>...</th>\n",
       "      <td>...</td>\n",
       "      <td>...</td>\n",
       "    </tr>\n",
       "    <tr>\n",
       "      <th>1174</th>\n",
       "      <td>machine learning</td>\n",
       "      <td>data</td>\n",
       "    </tr>\n",
       "    <tr>\n",
       "      <th>1187</th>\n",
       "      <td>statistics</td>\n",
       "      <td>data analytics</td>\n",
       "    </tr>\n",
       "    <tr>\n",
       "      <th>1189</th>\n",
       "      <td>design</td>\n",
       "      <td>A/B testing</td>\n",
       "    </tr>\n",
       "    <tr>\n",
       "      <th>1222</th>\n",
       "      <td>CSS3</td>\n",
       "      <td>CSS</td>\n",
       "    </tr>\n",
       "    <tr>\n",
       "      <th>1223</th>\n",
       "      <td>HTML5</td>\n",
       "      <td>HTML</td>\n",
       "    </tr>\n",
       "  </tbody>\n",
       "</table>\n",
       "<p>254 rows × 2 columns</p>\n",
       "</div>"
      ],
      "text/plain": [
       "                 node1               node2\n",
       "0                 data             Extract\n",
       "1              Tableau  data visualization\n",
       "2                 Qlik  data visualization\n",
       "3           algorithms       Deep learning\n",
       "4            analytics             support\n",
       "...                ...                 ...\n",
       "1174  machine learning                data\n",
       "1187        statistics      data analytics\n",
       "1189            design         A/B testing\n",
       "1222              CSS3                 CSS\n",
       "1223             HTML5                HTML\n",
       "\n",
       "[254 rows x 2 columns]"
      ]
     },
     "execution_count": 3,
     "metadata": {},
     "output_type": "execute_result"
    }
   ],
   "source": [
    "SKILL_Hierarchical_relation_DF = pd.read_excel(r'Hierarchical_relation_DF.xls')\n",
    "SKILL_Hierarchical_relation_DF = SKILL_Hierarchical_relation_DF.drop_duplicates()\n",
    "SKILL_Hierarchical_relation_DF"
   ]
  },
  {
   "cell_type": "markdown",
   "metadata": {},
   "source": [
    "# import Skill Correlation relation"
   ]
  },
  {
   "cell_type": "code",
   "execution_count": 4,
   "metadata": {},
   "outputs": [],
   "source": [
    "# SKILL_Correlation_relation_DF = pd.read_excel(r'Correlation_relation_Link.xls')\n",
    "# SKILL_Correlation_relation_DF = SKILL_Correlation_relation_DF.drop_duplicates()\n",
    "# SKILL_Correlation_relation_DF"
   ]
  },
  {
   "cell_type": "code",
   "execution_count": null,
   "metadata": {},
   "outputs": [],
   "source": []
  },
  {
   "cell_type": "code",
   "execution_count": 5,
   "metadata": {},
   "outputs": [],
   "source": [
    "def get_HTML(my_doc, ent_list):\n",
    "    total_html = ''\n",
    "    for tem in my_doc:\n",
    "        if  r'/r' in tem.text or  r'/n' in tem.text or  '\\\\r' in tem.text or '\\\\n' in tem.text:\n",
    "            total_html += '<br/>'\n",
    "\n",
    "        if tem not in ent_list:\n",
    "            total_html += tem.text + ' '\n",
    "        else:\n",
    "            total_html += \"<span style='background:yellow'>\"+ tem.text +' ' + \"</span>\"\n",
    "\n",
    "    display(HTML( '<html>'+ total_html + '</html>' ))\n",
    "    return '<html>'+ total_html + '</html>'"
   ]
  },
  {
   "cell_type": "code",
   "execution_count": 6,
   "metadata": {},
   "outputs": [],
   "source": [
    "def get_HTML_JD(my_doc, ent_list, cv_ent_list):\n",
    "    total_html = ''\n",
    "    for tem in my_doc:\n",
    "        if  r'/r' in tem.text or  r'/n' in tem.text or  '\\\\r' in tem.text or '\\\\n' in tem.text:\n",
    "            total_html += '<br/>'\n",
    "\n",
    "        if tem not in ent_list:\n",
    "            total_html += tem.text + ' '\n",
    "        elif tem.text.lower() not in cv_ent_list:\n",
    "            total_html += \"<span style='background:red'>\"+ tem.text +' ' + \"</span>\"\n",
    "        else:\n",
    "            total_html += \"<span style='background:yellow'>\"+ tem.text +' ' + \"</span>\"\n",
    "\n",
    "    display(HTML( '<html>'+ total_html + '</html>' ))\n",
    "    return '<html>'+ total_html + '</html>'"
   ]
  },
  {
   "cell_type": "markdown",
   "metadata": {},
   "source": [
    "# Skill relation Dict"
   ]
  },
  {
   "cell_type": "code",
   "execution_count": 7,
   "metadata": {},
   "outputs": [
    {
     "data": {
      "text/plain": [
       "{'data': 'data consumption',\n",
       " 'tableau': 'data',\n",
       " 'qlik': 'tableau',\n",
       " 'algorithms': 'data exploration',\n",
       " 'analytics': 'architecture',\n",
       " 'software': 'dashboards',\n",
       " 'statistical modeling': 'data',\n",
       " 'mechanics': 'research',\n",
       " 'relational databases': 'data',\n",
       " 'sql server': 'ms office',\n",
       " 'outlook': 'microsoft office',\n",
       " 'excel': 'ms office',\n",
       " 'word': 'ms office',\n",
       " 'powerpoint': 'ms office',\n",
       " 'python': 'data consumption',\n",
       " 'pandas': 'analytics',\n",
       " 'mongodb': 'neo4j',\n",
       " 'sql': 'data analysis',\n",
       " 'statistics': 'data analytics',\n",
       " 'predictive modeling': 'data',\n",
       " 'machine learning': 'data',\n",
       " 'optimization': 'dashboards',\n",
       " 'hypothesis testing': 'hypothesis testing',\n",
       " 'r': 'data consumption',\n",
       " 'matlab': 'scripting',\n",
       " 'spotfire': 'data visualization',\n",
       " 'tensorflow': 'deep learning',\n",
       " 'keras': 'deep learning',\n",
       " 'architecture': 'minimum',\n",
       " 'analysis': 'advanced analytics',\n",
       " 'python/r': 'software',\n",
       " 'testing': 'business analytics',\n",
       " 'spark': 'big data',\n",
       " 'h2o': 'learning',\n",
       " 'mysql': 'sql server',\n",
       " 'neural networks': 'machine learning',\n",
       " 'nosql': 'databases',\n",
       " 'julia': 'statistical software',\n",
       " 'cisco': 'cisco',\n",
       " 'statistical algorithms': 'models',\n",
       " 'scala': 'languages',\n",
       " 'java': 'data',\n",
       " 'predictive analytics': 'automation',\n",
       " 'statistical software': 'data',\n",
       " 'research': 'machine learning',\n",
       " 'skills': 'research',\n",
       " 'data visualization': 'data analytics',\n",
       " 'design': 'a/b testing',\n",
       " 'support': 'software development',\n",
       " 'sas': 'advanced statistical analysis',\n",
       " 'learning': 'computer science',\n",
       " 'database': 'computer science',\n",
       " 'visualization': 'dashboards',\n",
       " 'performance': 'models',\n",
       " 'loading': 'support',\n",
       " 'language': 'scripting',\n",
       " 'hr': 'research',\n",
       " 'artificial intelligence': 'algorithms',\n",
       " 'ai': 'data analysis',\n",
       " 'nlp': 'models',\n",
       " 'bachelors': 'r',\n",
       " 'ms access': 'data',\n",
       " 'data management': 'data',\n",
       " 'data intelligence': 'data',\n",
       " 'iot': 'data',\n",
       " 'graphics': 'excel',\n",
       " 't-sql': 'microsoft sql server',\n",
       " 's3': 'emr',\n",
       " 'dashboards': 'data analytics',\n",
       " 'deep learning': 'deep learning',\n",
       " 'data structuring': 'data analysis',\n",
       " 'hdfs': 'design',\n",
       " 'rdbms': 'databases',\n",
       " 'ssis': 'data',\n",
       " 'relational': 'databases',\n",
       " 'graph': 'databases',\n",
       " 'automation': 'models',\n",
       " 'visual basic': 'microsoft excel',\n",
       " 'wrangling': 'data analysis',\n",
       " 'surveys': 'troubleshooting',\n",
       " 'spark ml': 'design',\n",
       " 'hive': 'design',\n",
       " 'spring': 'design',\n",
       " 'hadoop': 'big data',\n",
       " 'elasticsearch': 'mongodb',\n",
       " 'economics': 'advanced degree',\n",
       " 'mathematics': 'advanced degree',\n",
       " 'engineering': 'advanced degree',\n",
       " 'operations research': 'advanced degree',\n",
       " 'data analysis': 'advanced degree',\n",
       " 'compensation': 'analysis',\n",
       " 'sagemaker': 's3',\n",
       " 'models': 'design',\n",
       " 'marketing': 'support',\n",
       " 'c++': 'programming',\n",
       " 'jmp': 'statistical software',\n",
       " 'statistical analysis': 'data processing',\n",
       " 'languages': 'scripting',\n",
       " 'pytorch': 'deep learning',\n",
       " 'network modeling': 'optimization',\n",
       " 'pyspark': 'languages',\n",
       " 'text mining': 'advanced analytics',\n",
       " 'decision trees': 'algorithms',\n",
       " 'svm': 'algorithms',\n",
       " 'logistic regression': 'algorithms',\n",
       " 'sales': 'support',\n",
       " 'convolutional neural networks': 'deep learning',\n",
       " 'xgboost': 'algorithms',\n",
       " 'css3': 'css',\n",
       " 'html5': 'html'}"
      ]
     },
     "execution_count": 7,
     "metadata": {},
     "output_type": "execute_result"
    }
   ],
   "source": [
    "SKILL_relation_Dict = {}\n",
    "\n",
    "for ind, row in SKILL_Hierarchical_relation_DF.iterrows():\n",
    "    SKILL_relation_Dict[row['node1'].lower()] = row['node2'].lower()\n",
    "    \n",
    "    \n",
    "# for ind, row in SKILL_Correlation_relation_DF.iterrows():\n",
    "#     SKILL_relation_Dict[row['node1']] = row['node2']\n",
    "    \n",
    "SKILL_relation_Dict"
   ]
  },
  {
   "cell_type": "code",
   "execution_count": null,
   "metadata": {},
   "outputs": [],
   "source": []
  },
  {
   "cell_type": "code",
   "execution_count": null,
   "metadata": {
    "scrolled": false
   },
   "outputs": [
    {
     "name": "stdout",
     "output_type": "stream",
     "text": [
      " * Serving Flask app \"__main__\" (lazy loading)\n",
      " * Environment: production\n",
      "   WARNING: This is a development server. Do not use it in a production deployment.\n",
      "   Use a production WSGI server instead.\n",
      " * Debug mode: off\n"
     ]
    },
    {
     "name": "stderr",
     "output_type": "stream",
     "text": [
      " * Running on http://0.0.0.0:5553/ (Press CTRL+C to quit)\n"
     ]
    },
    {
     "name": "stdout",
     "output_type": "stream",
     "text": [
      "get_gap:\n"
     ]
    },
    {
     "data": {
      "text/html": [
       "<html>\n",
       "          Web Developer Job Responsibilities : \n",
       "                 The role is responsible for designing , coding and modifying websites , from layout to function and <span style='background:red'>according </span>to a client 's specifications . <span style='background:red'>Strive </span>to create visually appealing sites that feature user - friendly design and clear <span style='background:red'>navigation </span>. \n",
       "\n",
       "                 Web Developer Job Duties : \n",
       "                 Regular exposure to business stakeholders and executive <span style='background:red'>management </span>, as well as the authority and scope to apply your expertise to many interesting technical problems . \n",
       "                 Candidate must have a strong understanding of UI , cross - browser compatibility , general web functions and standards . \n",
       "                 The position requires constant communication with colleagues . \n",
       "                 Experience in planning and delivering software <span style='background:red'>platforms </span>used across multiple products and organizational units . \n",
       "                 Deep expertise and hands on experience with Web <span style='background:red'>Applications </span>and programming <span style='background:red'>languages </span>such as <span style='background:yellow'>HTML </span>, <span style='background:yellow'>CSS </span>, <span style='background:yellow'>JavaScript </span>, <span style='background:yellow'>JQuery </span>and <span style='background:red'>API </span>'s . \n",
       "                 Deep functional knowledge or hands on design <span style='background:red'>experience </span>with Web <span style='background:red'>Services </span>( <span style='background:red'>REST </span>, <span style='background:red'>SOAP </span>, etc .. ) is needed to be successful in this position . \n",
       "                 Strong grasp of security principles and how they apply to E - Commerce applications . \n",
       "                 Web Developer Skills and Qualifications : \n",
       "                 <span style='background:yellow'>JavaScript </span>, <span style='background:yellow'>JQuery </span>, <span style='background:yellow'>HTML </span>, <span style='background:yellow'>HTML5 </span>, <span style='background:yellow'>CSS </span>, <span style='background:yellow'>CSS3 </span>, Web Programming <span style='background:yellow'>Skills </span>, E - Commerce , <span style='background:red'>Teamwork </span>, Verbal <span style='background:red'>Communication </span>, cross - browser compatibility , Web User Interface <span style='background:red'>Design </span>( <span style='background:red'>UI </span>) , Security Principles , Object - Oriented <span style='background:red'>Design </span>, Web <span style='background:red'>Services </span>( <span style='background:red'>REST </span>/ <span style='background:red'>SOAP </span>) , Multimedia Content <span style='background:red'>Development </span>, <span style='background:red'>API </span>'s \n",
       "                \n",
       "         </html>"
      ],
      "text/plain": [
       "<IPython.core.display.HTML object>"
      ]
     },
     "metadata": {},
     "output_type": "display_data"
    },
    {
     "name": "stdout",
     "output_type": "stream",
     "text": [
      "skill word in JD: ['software platforms', 'web user interface design', 'design experience', 'object-oriented design', 'ui', 'programming languages', 'api', 'javascript', 'web programming skills', 'web applications', 'according', 'web services', 'css3', 'jquery', 'strive', 'verbal communication', 'navigation', 'executive management', 'soap', 'multimedia content development', 'html5', 'css', 'html', 'rest', 'teamwork']\n",
      "====================================================================================================\n"
     ]
    },
    {
     "data": {
      "text/html": [
       "<html>IT <span style='background:yellow'>SKILLS </span>Languages : C ( Basic ) , <span style='background:yellow'>JAVA </span>( <span style='background:yellow'>Basic </span>) Web <span style='background:yellow'>Technologies </span>: <span style='background:yellow'>HTML5 </span>, <span style='background:yellow'>CSS3 </span>, <span style='background:yellow'>Bootstrap </span>, <span style='background:yellow'>JavaScript </span>, <span style='background:yellow'>jQuery </span>, Corel <span style='background:yellow'>Draw </span>, <span style='background:yellow'>Photoshop </span>, Illustrator <span style='background:yellow'>Databases </span>: MySQL5.0 <span style='background:yellow'>IDE </span>& Tools : Sublime <span style='background:yellow'>Text </span>, <span style='background:yellow'>Notepad </span>Operating Systems : Windows XP , Windows 7Education Details \n",
       "\n",
       " September 2015 Bachelor of Engineer Information technology Nagpur , Maharashtra Nagpur University \n",
       "\n",
       " May 2011 HSC Secondary & Higher Secondary   State Board of Secondary \n",
       "\n",
       " June 2009 SSC <span style='background:yellow'>Secondary </span>& Higher Secondary   Maharashtra State Board of SecondaryWeb and Graphics DesignerWeb and Graphics <span style='background:yellow'>Designer </span>- Virtuous Media Point , PuneSkill <span style='background:yellow'>Details </span>\n",
       "\n",
       " BOOTSTRAP- Exprience - 24 months \n",
       "\n",
       " HTML5- Exprience - 24 months \n",
       "\n",
       " <span style='background:yellow'>JAVASCRIPT- </span>Exprience - 24 months \n",
       "\n",
       " <span style='background:yellow'>jQuery- </span>Exprience - 24 months \n",
       "\n",
       " <span style='background:yellow'>COREL </span>DRAW- Exprience - 24 months \n",
       "\n",
       " Adobe Photoshop- Exprience - 24 months \n",
       "\n",
       " Adobe Illustrator- Exprience - 12 months \n",
       "\n",
       " CSS3- Exprience - 24 monthsCompany <span style='background:yellow'>Details </span>\n",
       "\n",
       " company - Virtuous Media Point \n",
       "\n",
       " description - \n",
       "\n",
       " company - CNC Web World \n",
       "\n",
       " description - Internship Program : At e - sense IT Solution pvt.ltd . <span style='background:yellow'>Nagpur </span>as a Web <span style='background:yellow'>Designing </span>and Developement . \n",
       "\n",
       " * Presented in Project Competition in Innovesta 15 of Priyadarshini Indira Gandhi College of <span style='background:yellow'>Engineering </span>, <span style='background:yellow'>Nagpur </span>. \n",
       "\n",
       " * Presented in National Level Paper Presentation in <span style='background:yellow'>TECH </span>- <span style='background:yellow'>WAVE </span>2015 of <span style='background:yellow'>S.R.M.C.E. </span>, <span style='background:yellow'>Nagpur </span>. \n",
       "\n",
       " company - e - sense IT Solution pvt.ltd \n",
       "\n",
       " description - Key Result Areas : \n",
       "\n",
       " * Designed websites solutions by studying information needs , conferring with users , and studying systems flow , data usage , and work processes . \n",
       "\n",
       " * Understood process requirements and provided use cases for business , functional & technical requirements . \n",
       "\n",
       " * Interacted with users for requirement gathering , prepared functional specifications and low - level design <span style='background:yellow'>documents </span>. \n",
       "\n",
       " * Participated in the Software <span style='background:yellow'>Development </span>Life cycle ( <span style='background:yellow'>SDLC </span>) and <span style='background:yellow'>Agile </span>methodology right from requirement <span style='background:yellow'>analysis </span>, \n",
       "\n",
       " * Performed detailed design of modules along with their implementation , and documentation integrated software modules \n",
       "\n",
       " Developed by other team members . \n",
       "\n",
       "\n",
       "\n",
       " Highlights : \n",
       "\n",
       " * Developed various modules as per customer requirement and identified and fixed number of bugs related to code , Database connectivity , UI Defects and so on . \n",
       "\n",
       " * Analyzed and modified existing codes to incorporate a number of changes in the application / user requirements , wrote new codes as required . \n",
       "\n",
       " * <span style='background:yellow'>Coded </span>, implemented and integrated complex programs using technologies such as <span style='background:yellow'>HTML5 </span>, <span style='background:yellow'>CSS3 </span>, <span style='background:yellow'>JavaScript </span>, <span style='background:yellow'>jQuery </span>, <span style='background:yellow'>bootstrap </span>. \n",
       "\n",
       " * Having good command on Graphics designing with effective ideas . \n",
       "\n",
       "\n",
       "\n",
       " <span style='background:yellow'>PROJECTS </span>\n",
       "\n",
       "\n",
       "\n",
       " * www.nitka.com , Nagpur united <span style='background:yellow'>corporation </span>( <span style='background:yellow'>admin </span>) , <span style='background:yellow'>Mintmetrix.com </span>, Tagline <span style='background:yellow'>videos </span>( admin ) , <span style='background:yellow'>Smartbadge </span>( admin ) : - \n",
       "\n",
       " In all projects I have used technologies like <span style='background:yellow'>HTML5 </span>, <span style='background:yellow'>CSS3 </span>, <span style='background:yellow'>Bootstrap </span>, <span style='background:yellow'>JavaScript </span>, jQuery and text editor as sublime text . \n",
       "\n",
       "\n",
       "\n",
       " * www.shreekiaspack.co.in , www.3staragroproducts.com , www.luckystationery.co.in : - used technologies like <span style='background:yellow'>HTML5 </span>, <span style='background:yellow'>CSS3 </span>, \n",
       "\n",
       " <span style='background:yellow'>Bootstrap </span>, <span style='background:yellow'>javascript </span>and text <span style='background:yellow'>editor </span>as notepad++ . \n",
       "\n",
       "\n",
       "\n",
       " * Design various <span style='background:yellow'>Logos </span>, <span style='background:yellow'>Brochures </span>, Advertising <span style='background:yellow'>Banners </span>, Visiting <span style='background:yellow'>Cards </span>, <span style='background:yellow'>Pamphlet </span>, <span style='background:yellow'>Hoardings </span>etc . \n",
       "\n",
       "\n",
       "\n",
       " B.E. FINAL YEAR PROJECT \n",
       "\n",
       "\n",
       "\n",
       " * Major Project : - \n",
       "\n",
       "\n",
       "\n",
       " Title : <span style='background:yellow'>WEB </span>BASED DISEASE <span style='background:yellow'>DIAGNOSIS </span>EXPERT <span style='background:yellow'>SYSTEM </span>. \n",
       "\n",
       " Duration : 1 Year \n",
       "\n",
       "\n",
       "\n",
       " Description : In this project we provide a website in which doctor gives online consultation for particular <span style='background:yellow'>disease </span>. System gives better suggestions for any health problems . \n",
       "\n",
       "\n",
       "\n",
       " * Mini Project Development- \n",
       "\n",
       "\n",
       "\n",
       " * <span style='background:yellow'>SHOPPING </span>MANAGEMENT SYSTEM Developed in <span style='background:yellow'>C++ </span>. \n",
       "\n",
       "\n",
       "\n",
       " <span style='background:yellow'>CURRICULUM </span>& EXTRA CURRICULUM   ACTIVITIES \n",
       "\n",
       " company - FACE - IT \n",
       "\n",
       " description - Co - ordinator in project <span style='background:yellow'>competition </span>. </html>"
      ],
      "text/plain": [
       "<IPython.core.display.HTML object>"
      ]
     },
     "metadata": {},
     "output_type": "display_data"
    },
    {
     "name": "stderr",
     "output_type": "stream",
     "text": [
      "127.0.0.1 - - [28/Sep/2020 05:40:48] \"\u001b[37mPOST /get_gap/ HTTP/1.1\u001b[0m\" 200 -\n"
     ]
    },
    {
     "name": "stdout",
     "output_type": "stream",
     "text": [
      "skill word in CV: ['nagpur united corporation', 'notepad', 'corel', 'visiting cards', 'advanced degree', 'project competition', 'skills', 'ssc secondary', 'javascript- exprience', 's.r.m.c.e.', 'requirement analysis', 'engineering', 'web technologies', 'research', 'graphics designer', 'java', 'javascript', 'tech', 'admin', 'tagline videos', 'text editor', 'brochures', 'pamphlet', 'bootstrap', 'nagpur', 'photoshop', 'css3', 'web designing', 'data', 'jquery', 'basic', 'design documents', 'agile', 'smartbadge', 'hoardings', 'logos', 'shopping', 'mintmetrix.com', 'puneskill details', 'coded', 'mysql5.0 ide & tools', 'disease', 'programming', 'curriculum', 'sdlc', 'sublime text', 'monthscompany details', 'wave', 'advertising banners', 'html5', 'css', 'html', 'projects', 'illustrator databases', 'diagnosis', 'web based', 'corel draw', 'c++', 'system', 'jquery- exprience', 'software development']\n",
      "====================================================================================================\n",
      "gap_list ['software platforms', 'web user interface design', 'design experience', 'object-oriented design', 'ui', 'programming languages', 'api', 'web programming skills', 'web applications', 'according', 'web services', 'strive', 'verbal communication', 'navigation', 'executive management', 'soap', 'multimedia content development', 'rest', 'teamwork']\n",
      "get_gap:\n"
     ]
    },
    {
     "data": {
      "text/html": [
       "<html>\n",
       "      Job <span style='background:red'>Classification </span>: <span style='background:red'>Contract </span><br/>\\r\\n\\r\\nJob Description : <br/>\\n\\nWe are looking for a mid to senior level <span style='background:yellow'>Java </span>Developer with good front - end experience . <span style='background:red'>ANYONE </span>WITH EXTENSIVE <span style='background:red'>HIBERNATE </span>EXPERIENCE WILL HAVE A GOOD <span style='background:red'>CHANCE </span>OF <span style='background:red'>GETTING </span>THIS ROLE . Other technologies such as <span style='background:red'>Jboss </span>, <span style='background:red'>Tomcat </span>, <span style='background:yellow'>HTML </span>, and <span style='background:yellow'>CSS </span>are needed as well , but the most important piece is <br/>Hibernate.\\n\\nThe requirements for this position include a Bachelor ’s <span style='background:red'>degree </span>in Computer <span style='background:red'>Science </span>or a related field , or equivalent work experience . The position also requires 3 + years experience in web application development and proficiency in writing <span style='background:red'>servlets </span>, <span style='background:red'>JSPs </span>, and EJBs , as well as a thorough knowledge of <span style='background:yellow'>HTML </span>, <span style='background:yellow'>CSS </span>, <span style='background:yellow'>JavaScript </span>, and <span style='background:red'>AJAX </span>. Familiarity with deploying to Tomcat , JBoss and Apache is required , along with a familiarity with <span style='background:red'>Linux </span>/ <span style='background:red'>Unix </span>and strong <span style='background:red'>SQL </span>skills . Other requirements include a background in formal development processes , an understanding of networking concepts and web security , and a demonstrated ability to leverage open source tools to increase productivity . Experience with content management <span style='background:red'>systems </span>is a <br/>plus.\\n\\n\\t\\t\\t\\t\\t\\t\\r\\r\\r\\n\\t\\t\\t\\t\\t\\tJoin TEKsystems < sup> ® </sup > and get your career on the fast track . As the leading technology staffing and services firm , we are passionate about deploying high - caliber IT and communications expertise . To satisfy our constant need for expertise , we actively seek talented Technical Professionals with all levels of information <span style='background:red'>technology </span>and communications <span style='background:red'>skills </span>. TEKsystems knows that every professional has different needs , so we 'll work together to determine a suitable benefits package . We offer options to our Technical Professionals that could include : a health plan , <span style='background:red'>401k </span>, <span style='background:red'>provisions </span>for <span style='background:red'>vacation </span>and <span style='background:red'>holiday </span>pay , and technical and professional <span style='background:yellow'>training </span>. With a foundation as the <span style='background:red'>nation </span>'s largest IT staffing firm , we 've become a billion - dollar services company by blending superior client service with an unrivaled ability to source and manage talent to precise specifications , resulting in <span style='background:red'>successful </span>technology executions . Allegis Group and its subsidiaries are equal opportunity employers . M / F / <span style='background:red'>D </span>/ <span style='background:red'>V </span>\" \n",
       "      </html>"
      ],
      "text/plain": [
       "<IPython.core.display.HTML object>"
      ]
     },
     "metadata": {},
     "output_type": "display_data"
    },
    {
     "name": "stdout",
     "output_type": "stream",
     "text": [
      "skill word in JD: ['sql', 'information technology', 'servlets', 'linux', 'provisions', 'successful technology', 'java', 'javascript', 'getting', 'unix', 'content management systems', 'communications skills', 'ajax', 'classification', 'jsps', 'anyone', 'chance', 'computer science', 'm/f/d', 'bachelor’s degree', 'contract', 'v\"\\n     ', 'jboss', 'training', 'hibernate', 'css', 'html', 'vacation', \"nation's largest\", 'holiday', 'tomcat', '401k']\n",
      "====================================================================================================\n"
     ]
    },
    {
     "data": {
      "text/html": [
       "<html>\n",
       "      lead java developer - deloitte consulting llp- ➢ over 3 years of programming <span style='background:yellow'>experience </span>and knowledge of full software <span style='background:yellow'>development </span>life cycle ( sldc ) ➢ made immense client impact for the state of virginia , by creating an automation process to communicate with interface partners , wells fargo and xerox to disburse benefits to the citizens ; ➢ technical lead in developing snap ebt ( food <span style='background:yellow'>stamps </span>) and tanf ( cash assistance ) programs for the state of virginia . till date , this system has issued $ 1.3 billion dollars covering over 350,000 families per month ; ➢ knowledge of web <span style='background:yellow'>technologies </span>including <span style='background:yellow'>html5 </span>, <span style='background:yellow'>javascript </span>, node.js , php , angular , <span style='background:yellow'>css3 </span>, <span style='background:yellow'>bootstrap </span>; ➢ 3 years of experience in <span style='background:yellow'>java </span>, <span style='background:yellow'>java </span>ee , ejb with hands on experience with <span style='background:yellow'>mysql </span>and oracle <span style='background:yellow'>databases </span>; ➢ experience working in <span style='background:yellow'>agile </span>development ( scrum methodology)lead java developerdeloitte <span style='background:yellow'>consulting </span>llp - mechanicsburg , pa-2017 9      va integrated eligibility modernization - virginia dept . of social <span style='background:yellow'>services </span>( va - ie ) ; ; va eligibility <span style='background:yellow'>modernization </span>is to extend the deloitte implementations of virginia case management ; system ( vacms ) to enable residents of virginia to apply for assistance , determine eligibility and issue benefits for various programs . ; as development and technical lead , i 've lead a team of 4 developers to design , develop and deliver self - sustained automated process to issue benefits for snap ebt ( food <span style='background:yellow'>assistance </span>) , <span style='background:yellow'>tanf </span>( cash assistance ) and top ( treasury offset program ) programs . my responsibilities include : ; ➢ conduct sessions with clients and business analysts to discuss requirements , scope and <span style='background:yellow'>design </span>; ➢ led technical <span style='background:yellow'>design </span>and <span style='background:yellow'>implementation </span>activities ; ➢ develop initial <span style='background:yellow'>framework </span>using appropriate design <span style='background:yellow'>patterns </span>and by accommodating principles of object - oriented <span style='background:yellow'>programming </span>; ➢ help team in accomplishing development tasks ; ➢ coordinate with <span style='background:yellow'>testing </span>, <span style='background:yellow'>training </span>and deployment teams to support development activities ; ➢ interface with various partners viz . irs , equifax , xerox , wells fargo , and federal <span style='background:yellow'>treasury </span>; ➢ support qat , uat and provide quick turnaround to any defects raised ; ➢ after production release , support for enhancement and maintenance activities ; environment : <span style='background:yellow'>java </span>1.6 , <span style='background:yellow'>jsp </span>, <span style='background:yellow'>java </span>ee , ejb , deloitte custom bridges , oracle <span style='background:yellow'>sql </span>, ibm rad 8.5.1 , websphere application server ( was ) , clear - <span style='background:yellow'>case </span>, <span style='background:yellow'>javascript </span>, clear questjava developerdeloitte <span style='background:yellow'>consulting </span>llp-2015 5     2017 8 developed front - end and back - end of the application using <span style='background:yellow'>java </span>and <span style='background:yellow'>java </span>ee technologies ; ➢ developed web layer , screens of the applications using deloitte custom framework , jsp and ejb ; ➢ using javamail api , developed e - mail notification system for sending reports and errors ; ➢ prepared and maintained technical design document ( tdd ) and business design <span style='background:yellow'>document </span>; ➢ participated in client demos , provided sit , uat and production support for defect fixing ; environment : <span style='background:yellow'>java </span>, <span style='background:yellow'>j2ee </span>, <span style='background:yellow'>ejb </span>, <span style='background:yellow'>jsp </span>, oracle sql <span style='background:yellow'>technologies </span>and websphere , ibm rad , oracle sqlandroid <span style='background:yellow'>developer </span>( intern)cmc <span style='background:yellow'>ltd-2012 </span>6     2012 8 worked on project i - track a gps tracking android mobile app . ; ➢ developed android mobile application which tracks the mobile using the user 's mobile gps . ; ➢ developed a website for above application to view all the tracked locations chronologically . ; ➢   it tracks the current location for every 30 min or for every 500 m change in distance . ; environment : <span style='background:yellow'>java </span>, android , <span style='background:yellow'>php </span>, <span style='background:yellow'>html </span>, and cssmaster of science - computer sciencethe state university of new york at buffalo - buffalo , ny2013 8     2015 2 bachelor of engineering - computer scienceuniversity college of <span style='background:yellow'>engineering </span>, osmania university2009 9     <span style='background:yellow'>2013 </span>5 <span style='background:yellow'>java </span>( 3 ) , ejb ( 3 ) , jsp ( 3 ) , <span style='background:yellow'>oracle </span>( <span style='background:yellow'>3 </span>) , rad ( 3 ) https://www.linkedin.com/in/krishna-teja-kandhibanda-8a22b283更多信息technical <span style='background:yellow'>skills </span>; programming <span style='background:yellow'>languages </span>: c , <span style='background:yellow'>c++ </span>, <span style='background:yellow'>java </span>, <span style='background:yellow'>j2ee </span>, ejb <span style='background:yellow'>bean </span>, jsp , c <span style='background:yellow'># </span>; web <span style='background:yellow'>technologies </span>: <span style='background:yellow'>html </span>, <span style='background:yellow'>javascript </span>, css , node.js , <span style='background:yellow'>bootstrap </span>, <span style='background:yellow'>angularjs </span>and php ; <span style='background:yellow'>databases </span>: <span style='background:yellow'>mysql </span>, <span style='background:yellow'>mongodb </span>, oracle <span style='background:yellow'>sql </span>; cloud <span style='background:yellow'>computing </span>: <span style='background:yellow'>aws </span>; development <span style='background:yellow'>tools </span>: sublime text , vs code , eclipse , rad , <span style='background:yellow'>oracle </span>sql developer , ibm clear <span style='background:yellow'>case </span>; operating systems : windows , mac os x , android , blackberry os \n",
       "      </html>"
      ],
      "text/plain": [
       "<IPython.core.display.HTML object>"
      ]
     },
     "metadata": {},
     "output_type": "display_data"
    },
    {
     "name": "stderr",
     "output_type": "stream",
     "text": [
      "127.0.0.1 - - [28/Sep/2020 05:45:02] \"\u001b[37mPOST /get_gap/ HTTP/1.1\u001b[0m\" 200 -\n"
     ]
    },
    {
     "name": "stdout",
     "output_type": "stream",
     "text": [
      "skill word in CV: ['j2ee', 'testing', 'programming experience', 'java developerdeloitte consulting', 'object-oriented programming', 'angularjs', 'a/b testing', 'initial framework', 'advanced degree', 'tanf', 'cloud computing', 'oracle sqlandroid developer', 'programming languages', 'databases', 'engineering', 'web technologies', 'neo4j', 'java', 'c#', 'javascript', 'questjava developerdeloitte consulting', 'case', 'design patterns', 'eligibility modernization', 'bootstrap', 'oracle sql technologies', 'oracle databases', 'mongodb', 'federal treasury', 'css3', 'data', 'https://www.linkedin.com/in/krishna-teja-kandhibanda-8a22b283更多信息technical skills', 'food stamps', 'oracle sql', 'implementation', 'agile', 'development tools', '2013', 'mysql', 'jsp', 'programming', 'design', 'sql server', 'business design document', 'training', 'social services', 'ejb bean', 'food assistance', 'html5', 'business analytics', 'oracle', 'css', 'html', 'clear-case', 'ejb', '3', 'ltd-2012', 'c++', 'php', 'aws', 'software development']\n",
      "====================================================================================================\n",
      "gap_list ['sql', 'information technology', 'servlets', 'linux', 'provisions', 'successful technology', 'getting', 'unix', 'content management systems', 'communications skills', 'ajax', 'classification', 'jsps', 'anyone', 'chance', 'computer science', 'm/f/d', 'bachelor’s degree', 'contract', 'v\"\\n     ', 'jboss', 'hibernate', 'vacation', \"nation's largest\", 'holiday', 'tomcat', '401k']\n",
      "get_gap:\n"
     ]
    },
    {
     "data": {
      "text/html": [
       "<html>\n",
       "      We are looking to identify at least 5 more developers for an Army Contract in Springfield , VA .    Many of the requirements below are ideal but if you do n't possess all of them training will be provided on the job .    Must be able to obtain a <span style='background:red'>DOD </span>Secret Clearance .       Position Description   <span style='background:red'>Designs </span>, <span style='background:red'>develops </span>, and implements web - <span style='background:red'>based </span>Java applications to support business requirements . Follows approved life cycle <span style='background:red'>methodologies </span>, <span style='background:red'>creates </span>design documents , and performs program coding and <span style='background:yellow'>testing </span>. Resolves technical issues through troubleshooting , <span style='background:red'>debugging </span>, <span style='background:red'>research </span>, and <span style='background:red'>investigation </span>.    Familiar with software development concepts , practices , and procedures ( i.e. <span style='background:yellow'>Java </span>, <span style='background:yellow'>EJB </span>3.0 , <span style='background:yellow'>JSP </span>, <span style='background:red'>JSF </span>, <span style='background:yellow'>HTML </span>, <span style='background:red'>SQL </span>, <span style='background:yellow'>Javascript </span>) . Relies on extensive experience and judgment to plan and accomplish goals .     <span style='background:red'>Principle </span>Duties and Responsibilities :   Experience in building enterprise software or large scale web application required Strong <span style='background:yellow'>Java </span>and J <span style='background:red'>EE </span>software development required Experience in servlets and JSP development required Hands - on experience with <span style='background:red'>EJB3 </span>or ORM <span style='background:red'>software </span>( <span style='background:red'>hibernate </span>, toplink , <span style='background:red'>JDO </span>, etc ) required Ability to work across all layers of the application , from back - end databases through to the user interface In - depth knowledge with relational <span style='background:red'>database </span>, such SQL <span style='background:red'>Server </span>or <span style='background:yellow'>Oracle </span>, is required <span style='background:yellow'>Agile </span>/ <span style='background:red'>Iterative </span>development methodology <span style='background:red'>SQL </span>; <span style='background:red'>AJAX </span>; <span style='background:red'>JBoss </span>; <span style='background:red'>Jasper </span>Reports Working knowledge of database relational design , data <span style='background:red'>normalization </span>and experience with <span style='background:red'>JDBC </span>drivers Experience in JavaServer <span style='background:red'>Faces </span>( <span style='background:red'>JSF </span>) is highly desirable Experience working on high scalable , <span style='background:red'>distributed </span>, high transaction applications is a plus Experience with creating web <span style='background:red'>services </span>or implementing client portion of web <span style='background:red'>service </span>is desirable Experience in Software as a <span style='background:red'>Service </span>( <span style='background:red'>SaaS </span>) is a plus Knowledge of design <span style='background:red'>patterns </span>is a plus Experience in <span style='background:yellow'>JavaScript </span>is a plus .   Job Specifications :   A bachelors <span style='background:red'>degree </span>in Computer <span style='background:red'>Science </span>or <span style='background:yellow'>Engineering </span>and at least 6 years of <span style='background:yellow'>Java </span>experience working with server side applications , 7 years of experience can be <span style='background:red'>substituted </span>for a degree Candidates must be clearable US Citizens or hold at least an interim DOD security clearance \n",
       "\n",
       "      </html>"
      ],
      "text/plain": [
       "<IPython.core.display.HTML object>"
      ]
     },
     "metadata": {},
     "output_type": "display_data"
    },
    {
     "name": "stdout",
     "output_type": "stream",
     "text": [
      "skill word in JD: ['sql', 'relational database', 'testing', 'ejb3', 'jasper', 'web-based java', 'data normalization', 'engineering', 'research', 'substituted', 'java', 'javascript', 'creates design documents', 'design patterns', 'orm software', 'dod secret', 'web services', 'jdo', 'ajax', 'position description  designs', 'web service', 'distributed', 'develops', 'agile', 'jdbc', 'computer science', 'bachelors degree', 'ejb 3.0', 'jsp', 'investigation', 'saas', 'sql server', 'jboss', 'ee', 'jsf', 'principle', 'hibernate', 'javaserver faces', 'oracle', 'service', 'iterative development', 'html', 'methodologies', 'debugging']\n",
      "====================================================================================================\n"
     ]
    },
    {
     "data": {
      "text/html": [
       "<html>\n",
       "      lead java developer - deloitte consulting llp- ➢ over 3 years of programming <span style='background:yellow'>experience </span>and knowledge of full software <span style='background:yellow'>development </span>life cycle ( sldc ) ➢ made immense client impact for the state of virginia , by creating an automation process to communicate with interface partners , wells fargo and xerox to disburse benefits to the citizens ; ➢ technical lead in developing snap ebt ( food <span style='background:yellow'>stamps </span>) and tanf ( cash assistance ) programs for the state of virginia . till date , this system has issued $ 1.3 billion dollars covering over 350,000 families per month ; ➢ knowledge of web <span style='background:yellow'>technologies </span>including <span style='background:yellow'>html5 </span>, <span style='background:yellow'>javascript </span>, node.js , php , angular , <span style='background:yellow'>css3 </span>, <span style='background:yellow'>bootstrap </span>; ➢ 3 years of experience in <span style='background:yellow'>java </span>, <span style='background:yellow'>java </span>ee , ejb with hands on experience with <span style='background:yellow'>mysql </span>and oracle <span style='background:yellow'>databases </span>; ➢ experience working in <span style='background:yellow'>agile </span>development ( scrum methodology)lead java developerdeloitte <span style='background:yellow'>consulting </span>llp - mechanicsburg , pa-2017 9      va integrated eligibility modernization - virginia dept . of social <span style='background:yellow'>services </span>( va - ie ) ; ; va eligibility <span style='background:yellow'>modernization </span>is to extend the deloitte implementations of virginia case management ; system ( vacms ) to enable residents of virginia to apply for assistance , determine eligibility and issue benefits for various programs . ; as development and technical lead , i 've lead a team of 4 developers to design , develop and deliver self - sustained automated process to issue benefits for snap ebt ( food <span style='background:yellow'>assistance </span>) , <span style='background:yellow'>tanf </span>( cash assistance ) and top ( treasury offset program ) programs . my responsibilities include : ; ➢ conduct sessions with clients and business analysts to discuss requirements , scope and <span style='background:yellow'>design </span>; ➢ led technical <span style='background:yellow'>design </span>and <span style='background:yellow'>implementation </span>activities ; ➢ develop initial <span style='background:yellow'>framework </span>using appropriate design <span style='background:yellow'>patterns </span>and by accommodating principles of object - oriented <span style='background:yellow'>programming </span>; ➢ help team in accomplishing development tasks ; ➢ coordinate with <span style='background:yellow'>testing </span>, <span style='background:yellow'>training </span>and deployment teams to support development activities ; ➢ interface with various partners viz . irs , equifax , xerox , wells fargo , and federal <span style='background:yellow'>treasury </span>; ➢ support qat , uat and provide quick turnaround to any defects raised ; ➢ after production release , support for enhancement and maintenance activities ; environment : <span style='background:yellow'>java </span>1.6 , <span style='background:yellow'>jsp </span>, <span style='background:yellow'>java </span>ee , ejb , deloitte custom bridges , oracle <span style='background:yellow'>sql </span>, ibm rad 8.5.1 , websphere application server ( was ) , clear - <span style='background:yellow'>case </span>, <span style='background:yellow'>javascript </span>, clear questjava developerdeloitte <span style='background:yellow'>consulting </span>llp-2015 5     2017 8 developed front - end and back - end of the application using <span style='background:yellow'>java </span>and <span style='background:yellow'>java </span>ee technologies ; ➢ developed web layer , screens of the applications using deloitte custom framework , jsp and ejb ; ➢ using javamail api , developed e - mail notification system for sending reports and errors ; ➢ prepared and maintained technical design document ( tdd ) and business design <span style='background:yellow'>document </span>; ➢ participated in client demos , provided sit , uat and production support for defect fixing ; environment : <span style='background:yellow'>java </span>, <span style='background:yellow'>j2ee </span>, <span style='background:yellow'>ejb </span>, <span style='background:yellow'>jsp </span>, oracle sql <span style='background:yellow'>technologies </span>and websphere , ibm rad , oracle sqlandroid <span style='background:yellow'>developer </span>( intern)cmc <span style='background:yellow'>ltd-2012 </span>6     2012 8 worked on project i - track a gps tracking android mobile app . ; ➢ developed android mobile application which tracks the mobile using the user 's mobile gps . ; ➢ developed a website for above application to view all the tracked locations chronologically . ; ➢   it tracks the current location for every 30 min or for every 500 m change in distance . ; environment : <span style='background:yellow'>java </span>, android , <span style='background:yellow'>php </span>, <span style='background:yellow'>html </span>, and cssmaster of science - computer sciencethe state university of new york at buffalo - buffalo , ny2013 8     2015 2 bachelor of engineering - computer scienceuniversity college of <span style='background:yellow'>engineering </span>, osmania university2009 9     <span style='background:yellow'>2013 </span>5 <span style='background:yellow'>java </span>( 3 ) , ejb ( 3 ) , jsp ( 3 ) , <span style='background:yellow'>oracle </span>( <span style='background:yellow'>3 </span>) , rad ( 3 ) https://www.linkedin.com/in/krishna-teja-kandhibanda-8a22b283更多信息technical <span style='background:yellow'>skills </span>; programming <span style='background:yellow'>languages </span>: c , <span style='background:yellow'>c++ </span>, <span style='background:yellow'>java </span>, <span style='background:yellow'>j2ee </span>, ejb <span style='background:yellow'>bean </span>, jsp , c <span style='background:yellow'># </span>; web <span style='background:yellow'>technologies </span>: <span style='background:yellow'>html </span>, <span style='background:yellow'>javascript </span>, css , node.js , <span style='background:yellow'>bootstrap </span>, <span style='background:yellow'>angularjs </span>and php ; <span style='background:yellow'>databases </span>: <span style='background:yellow'>mysql </span>, <span style='background:yellow'>mongodb </span>, oracle <span style='background:yellow'>sql </span>; cloud <span style='background:yellow'>computing </span>: <span style='background:yellow'>aws </span>; development <span style='background:yellow'>tools </span>: sublime text , vs code , eclipse , rad , <span style='background:yellow'>oracle </span>sql developer , ibm clear <span style='background:yellow'>case </span>; operating systems : windows , mac os x , android , blackberry os \n",
       "      </html>"
      ],
      "text/plain": [
       "<IPython.core.display.HTML object>"
      ]
     },
     "metadata": {},
     "output_type": "display_data"
    },
    {
     "name": "stderr",
     "output_type": "stream",
     "text": [
      "127.0.0.1 - - [28/Sep/2020 05:47:47] \"\u001b[37mPOST /get_gap/ HTTP/1.1\u001b[0m\" 200 -\n"
     ]
    },
    {
     "name": "stdout",
     "output_type": "stream",
     "text": [
      "skill word in CV: ['j2ee', 'testing', 'programming experience', 'java developerdeloitte consulting', 'object-oriented programming', 'angularjs', 'a/b testing', 'initial framework', 'advanced degree', 'tanf', 'cloud computing', 'oracle sqlandroid developer', 'programming languages', 'databases', 'engineering', 'web technologies', 'neo4j', 'java', 'c#', 'javascript', 'questjava developerdeloitte consulting', 'case', 'design patterns', 'eligibility modernization', 'bootstrap', 'oracle sql technologies', 'oracle databases', 'mongodb', 'federal treasury', 'css3', 'data', 'https://www.linkedin.com/in/krishna-teja-kandhibanda-8a22b283更多信息technical skills', 'food stamps', 'oracle sql', 'implementation', 'agile', 'development tools', '2013', 'mysql', 'jsp', 'programming', 'design', 'sql server', 'business design document', 'training', 'social services', 'ejb bean', 'food assistance', 'html5', 'business analytics', 'oracle', 'css', 'html', 'clear-case', 'ejb', '3', 'ltd-2012', 'c++', 'php', 'aws', 'software development']\n",
      "====================================================================================================\n",
      "gap_list ['sql', 'relational database', 'ejb3', 'jasper', 'web-based java', 'data normalization', 'research', 'substituted', 'creates design documents', 'orm software', 'dod secret', 'web services', 'jdo', 'ajax', 'position description  designs', 'web service', 'distributed', 'develops', 'jdbc', 'computer science', 'bachelors degree', 'ejb 3.0', 'investigation', 'saas', 'jboss', 'ee', 'jsf', 'principle', 'hibernate', 'javaserver faces', 'service', 'iterative development', 'methodologies', 'debugging']\n",
      "get_gap:\n"
     ]
    },
    {
     "data": {
      "text/html": [
       "<html>\n",
       "      We are looking to identify at least 5 more developers for an Army Contract in Springfield , VA .    Many of the requirements below are ideal but if you do n't possess all of them training will be provided on the job .    Must be able to obtain a <span style='background:red'>DOD </span>Secret Clearance .       Position Description   <span style='background:red'>Designs </span>, <span style='background:red'>develops </span>, and implements web - <span style='background:red'>based </span>Java applications to support business requirements . Follows approved life cycle <span style='background:red'>methodologies </span>, <span style='background:red'>creates </span>design documents , and performs program coding and <span style='background:yellow'>testing </span>. Resolves technical issues through troubleshooting , <span style='background:red'>debugging </span>, <span style='background:red'>research </span>, and <span style='background:red'>investigation </span>.    Familiar with software development concepts , practices , and procedures ( i.e. <span style='background:yellow'>Java </span>, <span style='background:yellow'>EJB </span>3.0 , <span style='background:yellow'>JSP </span>, <span style='background:red'>JSF </span>, <span style='background:yellow'>HTML </span>, <span style='background:red'>SQL </span>, <span style='background:yellow'>Javascript </span>) . Relies on extensive experience and judgment to plan and accomplish goals .     <span style='background:red'>Principle </span>Duties and Responsibilities :   Experience in building enterprise software or large scale web application required Strong <span style='background:yellow'>Java </span>and J <span style='background:red'>EE </span>software development required Experience in servlets and JSP development required Hands - on experience with <span style='background:red'>EJB3 </span>or ORM <span style='background:red'>software </span>( <span style='background:red'>hibernate </span>, toplink , <span style='background:red'>JDO </span>, etc ) required Ability to work across all layers of the application , from back - end databases through to the user interface In - depth knowledge with relational <span style='background:red'>database </span>, such SQL <span style='background:red'>Server </span>or <span style='background:yellow'>Oracle </span>, is required <span style='background:yellow'>Agile </span>/ <span style='background:red'>Iterative </span>development methodology <span style='background:red'>SQL </span>; <span style='background:red'>AJAX </span>; <span style='background:red'>JBoss </span>; <span style='background:red'>Jasper </span>Reports Working knowledge of database relational design , data <span style='background:red'>normalization </span>and experience with <span style='background:red'>JDBC </span>drivers Experience in JavaServer <span style='background:red'>Faces </span>( <span style='background:red'>JSF </span>) is highly desirable Experience working on high scalable , <span style='background:red'>distributed </span>, high transaction applications is a plus Experience with creating web <span style='background:red'>services </span>or implementing client portion of web <span style='background:red'>service </span>is desirable Experience in Software as a <span style='background:red'>Service </span>( <span style='background:red'>SaaS </span>) is a plus Knowledge of design <span style='background:red'>patterns </span>is a plus Experience in <span style='background:yellow'>JavaScript </span>is a plus .   Job Specifications :   A bachelors <span style='background:red'>degree </span>in Computer <span style='background:red'>Science </span>or <span style='background:yellow'>Engineering </span>and at least 6 years of <span style='background:yellow'>Java </span>experience working with server side applications , 7 years of experience can be <span style='background:red'>substituted </span>for a degree Candidates must be clearable US Citizens or hold at least an interim DOD security clearance \n",
       "\n",
       "      </html>"
      ],
      "text/plain": [
       "<IPython.core.display.HTML object>"
      ]
     },
     "metadata": {},
     "output_type": "display_data"
    },
    {
     "name": "stdout",
     "output_type": "stream",
     "text": [
      "skill word in JD: ['sql', 'relational database', 'testing', 'ejb3', 'jasper', 'web-based java', 'data normalization', 'engineering', 'research', 'substituted', 'java', 'javascript', 'creates design documents', 'design patterns', 'orm software', 'dod secret', 'web services', 'jdo', 'ajax', 'position description  designs', 'web service', 'distributed', 'develops', 'agile', 'jdbc', 'computer science', 'bachelors degree', 'ejb 3.0', 'jsp', 'investigation', 'saas', 'sql server', 'jboss', 'ee', 'jsf', 'principle', 'hibernate', 'javaserver faces', 'oracle', 'service', 'iterative development', 'html', 'methodologies', 'debugging']\n",
      "====================================================================================================\n"
     ]
    },
    {
     "data": {
      "text/html": [
       "<html>\n",
       "      lead java developer - deloitte consulting llp- ➢ over 3 years of programming <span style='background:yellow'>experience </span>and knowledge of full software <span style='background:yellow'>development </span>life cycle ( sldc ) ➢ made immense client impact for the state of virginia , by creating an automation process to communicate with interface partners , wells fargo and xerox to disburse benefits to the citizens ; ➢ technical lead in developing snap ebt ( food <span style='background:yellow'>stamps </span>) and tanf ( cash assistance ) programs for the state of virginia . till date , this system has issued $ 1.3 billion dollars covering over 350,000 families per month ; ➢ knowledge of web <span style='background:yellow'>technologies </span>including <span style='background:yellow'>html5 </span>, <span style='background:yellow'>javascript </span>, node.js , php , angular , <span style='background:yellow'>css3 </span>, <span style='background:yellow'>bootstrap </span>; ➢ 3 years of experience in <span style='background:yellow'>java </span>, <span style='background:yellow'>java </span>ee , ejb with hands on experience with <span style='background:yellow'>mysql </span>and oracle <span style='background:yellow'>databases </span>; ➢ experience working in <span style='background:yellow'>agile </span>development ( scrum methodology)lead java developerdeloitte <span style='background:yellow'>consulting </span>llp - mechanicsburg , pa-2017 9      va integrated eligibility modernization - virginia dept . of social <span style='background:yellow'>services </span>( va - ie ) ; ; va eligibility <span style='background:yellow'>modernization </span>is to extend the deloitte implementations of virginia case management ; system ( vacms ) to enable residents of virginia to apply for assistance , determine eligibility and issue benefits for various programs . ; as development and technical lead , i 've lead a team of 4 developers to design , develop and deliver self - sustained automated process to issue benefits for snap ebt ( food <span style='background:yellow'>assistance </span>) , <span style='background:yellow'>tanf </span>( cash assistance ) and top ( treasury offset program ) programs . my responsibilities include : ; ➢ conduct sessions with clients and business analysts to discuss requirements , scope and <span style='background:yellow'>design </span>; ➢ led technical <span style='background:yellow'>design </span>and <span style='background:yellow'>implementation </span>activities ; ➢ develop initial <span style='background:yellow'>framework </span>using appropriate design <span style='background:yellow'>patterns </span>and by accommodating principles of object - oriented <span style='background:yellow'>programming </span>; ➢ help team in accomplishing development tasks ; ➢ coordinate with <span style='background:yellow'>testing </span>, <span style='background:yellow'>training </span>and deployment teams to support development activities ; ➢ interface with various partners viz . irs , equifax , xerox , wells fargo , and federal <span style='background:yellow'>treasury </span>; ➢ support qat , uat and provide quick turnaround to any defects raised ; ➢ after production release , support for enhancement and maintenance activities ; environment : <span style='background:yellow'>java </span>1.6 , <span style='background:yellow'>jsp </span>, <span style='background:yellow'>java </span>ee , ejb , deloitte custom bridges , oracle <span style='background:yellow'>sql </span>, ibm rad 8.5.1 , websphere application server ( was ) , clear - <span style='background:yellow'>case </span>, <span style='background:yellow'>javascript </span>, clear questjava developerdeloitte <span style='background:yellow'>consulting </span>llp-2015 5     2017 8 developed front - end and back - end of the application using <span style='background:yellow'>java </span>and <span style='background:yellow'>java </span>ee technologies ; ➢ developed web layer , screens of the applications using deloitte custom framework , jsp and ejb ; ➢ using javamail api , developed e - mail notification system for sending reports and errors ; ➢ prepared and maintained technical design document ( tdd ) and business design <span style='background:yellow'>document </span>; ➢ participated in client demos , provided sit , uat and production support for defect fixing ; environment : <span style='background:yellow'>java </span>, <span style='background:yellow'>j2ee </span>, <span style='background:yellow'>ejb </span>, <span style='background:yellow'>jsp </span>, oracle sql <span style='background:yellow'>technologies </span>and websphere , ibm rad , oracle sqlandroid <span style='background:yellow'>developer </span>( intern)cmc <span style='background:yellow'>ltd-2012 </span>6     2012 8 worked on project i - track a gps tracking android mobile app . ; ➢ developed android mobile application which tracks the mobile using the user 's mobile gps . ; ➢ developed a website for above application to view all the tracked locations chronologically . ; ➢   it tracks the current location for every 30 min or for every 500 m change in distance . ; environment : <span style='background:yellow'>java </span>, android , <span style='background:yellow'>php </span>, <span style='background:yellow'>html </span>, and cssmaster of science - computer sciencethe state university of new york at buffalo - buffalo , ny2013 8     2015 2 bachelor of engineering - computer scienceuniversity college of <span style='background:yellow'>engineering </span>, osmania university2009 9     <span style='background:yellow'>2013 </span>5 <span style='background:yellow'>java </span>( 3 ) , ejb ( 3 ) , jsp ( 3 ) , <span style='background:yellow'>oracle </span>( <span style='background:yellow'>3 </span>) , rad ( 3 )   technical skills ; programming <span style='background:yellow'>languages </span>: c , <span style='background:yellow'>c++ </span>, <span style='background:yellow'>java </span>, <span style='background:yellow'>j2ee </span>, ejb <span style='background:yellow'>bean </span>, jsp , c <span style='background:yellow'># </span>; web <span style='background:yellow'>technologies </span>: <span style='background:yellow'>html </span>, <span style='background:yellow'>javascript </span>, css , node.js , <span style='background:yellow'>bootstrap </span>, <span style='background:yellow'>angularjs </span>and php ; <span style='background:yellow'>databases </span>: <span style='background:yellow'>mysql </span>, <span style='background:yellow'>mongodb </span>, oracle <span style='background:yellow'>sql </span>; cloud <span style='background:yellow'>computing </span>: <span style='background:yellow'>aws </span>; development <span style='background:yellow'>tools </span>: sublime text , vs code , eclipse , rad , <span style='background:yellow'>oracle </span>sql developer , ibm clear <span style='background:yellow'>case </span>; operating systems : windows , mac os x , android , blackberry os \n",
       "      </html>"
      ],
      "text/plain": [
       "<IPython.core.display.HTML object>"
      ]
     },
     "metadata": {},
     "output_type": "display_data"
    },
    {
     "name": "stderr",
     "output_type": "stream",
     "text": [
      "127.0.0.1 - - [28/Sep/2020 05:49:32] \"\u001b[37mPOST /get_gap/ HTTP/1.1\u001b[0m\" 200 -\n"
     ]
    },
    {
     "name": "stdout",
     "output_type": "stream",
     "text": [
      "skill word in CV: ['j2ee', 'testing', 'programming experience', 'java developerdeloitte consulting', 'object-oriented programming', 'angularjs', 'a/b testing', 'initial framework', 'advanced degree', 'tanf', 'cloud computing', 'oracle sqlandroid developer', 'programming languages', 'databases', 'engineering', 'web technologies', 'neo4j', 'java', 'c#', 'javascript', 'questjava developerdeloitte consulting', 'case', 'design patterns', 'eligibility modernization', 'bootstrap', 'oracle sql technologies', 'oracle databases', 'mongodb', 'federal treasury', 'css3', 'data', 'food stamps', 'oracle sql', 'implementation', 'agile', 'development tools', '2013', 'mysql', 'jsp', 'programming', 'design', 'sql server', 'business design document', 'training', 'social services', 'ejb bean', 'food assistance', 'html5', 'business analytics', 'oracle', 'css', 'html', 'clear-case', 'ejb', '3', 'ltd-2012', 'c++', 'php', 'aws', 'software development']\n",
      "====================================================================================================\n",
      "gap_list ['sql', 'relational database', 'ejb3', 'jasper', 'web-based java', 'data normalization', 'research', 'substituted', 'creates design documents', 'orm software', 'dod secret', 'web services', 'jdo', 'ajax', 'position description  designs', 'web service', 'distributed', 'develops', 'jdbc', 'computer science', 'bachelors degree', 'ejb 3.0', 'investigation', 'saas', 'jboss', 'ee', 'jsf', 'principle', 'hibernate', 'javaserver faces', 'service', 'iterative development', 'methodologies', 'debugging']\n",
      "get_gap:\n"
     ]
    },
    {
     "data": {
      "text/html": [
       "<html>\n",
       "      We are looking to identify at least 5 more developers for an Army Contract in Springfield , VA .    Many of the requirements below are ideal but if you do n't possess all of them training will be provided on the job .    Must be able to obtain a <span style='background:red'>DOD </span>Secret Clearance .       Position Description   <span style='background:red'>Designs </span>, <span style='background:red'>develops </span>, and implements web - <span style='background:red'>based </span>Java applications to support business requirements . Follows approved life cycle <span style='background:red'>methodologies </span>, <span style='background:red'>creates </span>design documents , and performs program coding and <span style='background:red'>testing </span>. Resolves technical issues through troubleshooting , <span style='background:red'>debugging </span>, <span style='background:red'>research </span>, and <span style='background:red'>investigation </span>.    Familiar with software development concepts , practices , and procedures ( i.e. <span style='background:yellow'>Java </span>, <span style='background:red'>EJB </span>3.0 , <span style='background:yellow'>JSP </span>, <span style='background:red'>JSF </span>, <span style='background:yellow'>HTML </span>, <span style='background:yellow'>SQL </span>, <span style='background:yellow'>Javascript </span>) . Relies on extensive experience and judgment to plan and accomplish goals .     <span style='background:red'>Principle </span>Duties and Responsibilities :   Experience in building enterprise software or large scale web application required Strong <span style='background:yellow'>Java </span>and J <span style='background:red'>EE </span>software development required Experience in servlets and JSP development required Hands - on experience with <span style='background:red'>EJB3 </span>or ORM <span style='background:red'>software </span>( <span style='background:yellow'>hibernate </span>, toplink , <span style='background:red'>JDO </span>, etc ) required Ability to work across all layers of the application , from back - end databases through to the user interface In - depth knowledge with relational <span style='background:yellow'>database </span>, such SQL <span style='background:red'>Server </span>or <span style='background:yellow'>Oracle </span>, is required <span style='background:yellow'>Agile </span>/ <span style='background:red'>Iterative </span>development methodology <span style='background:yellow'>SQL </span>; <span style='background:yellow'>AJAX </span>; <span style='background:red'>JBoss </span>; <span style='background:red'>Jasper </span>Reports Working knowledge of database relational design , data <span style='background:red'>normalization </span>and experience with <span style='background:yellow'>JDBC </span>drivers Experience in JavaServer <span style='background:red'>Faces </span>( <span style='background:red'>JSF </span>) is highly desirable Experience working on high scalable , <span style='background:red'>distributed </span>, high transaction applications is a plus Experience with creating web <span style='background:red'>services </span>or implementing client portion of web <span style='background:red'>service </span>is desirable Experience in Software as a <span style='background:red'>Service </span>( <span style='background:red'>SaaS </span>) is a plus Knowledge of design <span style='background:red'>patterns </span>is a plus Experience in <span style='background:yellow'>JavaScript </span>is a plus .   Job Specifications :   A bachelors <span style='background:red'>degree </span>in Computer <span style='background:red'>Science </span>or <span style='background:red'>Engineering </span>and at least 6 years of <span style='background:yellow'>Java </span>experience working with server side applications , 7 years of experience can be <span style='background:red'>substituted </span>for a degree Candidates must be clearable US Citizens or hold at least an interim DOD security clearance \n",
       "\n",
       "      </html>"
      ],
      "text/plain": [
       "<IPython.core.display.HTML object>"
      ]
     },
     "metadata": {},
     "output_type": "display_data"
    },
    {
     "name": "stdout",
     "output_type": "stream",
     "text": [
      "skill word in JD: ['sql', 'relational database', 'testing', 'ejb3', 'jasper', 'web-based java', 'data normalization', 'engineering', 'research', 'substituted', 'java', 'javascript', 'creates design documents', 'design patterns', 'orm software', 'dod secret', 'web services', 'jdo', 'ajax', 'position description  designs', 'web service', 'distributed', 'develops', 'agile', 'jdbc', 'computer science', 'bachelors degree', 'ejb 3.0', 'jsp', 'investigation', 'saas', 'sql server', 'jboss', 'ee', 'jsf', 'principle', 'hibernate', 'javaserver faces', 'oracle', 'service', 'iterative development', 'html', 'methodologies', 'debugging']\n",
      "====================================================================================================\n"
     ]
    },
    {
     "data": {
      "text/html": [
       "<html>\n",
       "      java developerjava developerkansas city , mo-• over 1 years of <span style='background:yellow'>java </span>/ <span style='background:yellow'>j2ee </span>development <span style='background:yellow'>experience.• </span>done <span style='background:yellow'>bachelors </span>and masters <span style='background:yellow'>degree </span>in computer <span style='background:yellow'>science </span>. ; • developed applications using <span style='background:yellow'>java </span>, jee , <span style='background:yellow'>spring </span>, <span style='background:yellow'>servlets </span>, <span style='background:yellow'>jsp </span>, <span style='background:yellow'>jdbc </span>, <span style='background:yellow'>hibernate </span>. ; • knowledge of software <span style='background:yellow'>development </span>methodologies like <span style='background:yellow'>agile </span>, waterfall . ; • good understanding of object oriented <span style='background:yellow'>design </span>and j2ee <span style='background:yellow'>designs </span>. ; • hands on experience using xml , <span style='background:yellow'>ajax </span>and <span style='background:yellow'>javascript </span>, angular . ; • experience with databases such as <span style='background:yellow'>mysql </span>, <span style='background:yellow'>oracle </span>, <span style='background:yellow'>sql </span>server . ; • excellent communication <span style='background:yellow'>skills </span>. ; • able to work both as a team player and on individual assignments.java developersprint corporation - overland <span style='background:yellow'>park </span>, ks-2016 3     2017 11 project title : tollfree ; description : ; tollfree is about taking the requests from the customers via gui and <span style='background:yellow'>processing </span>the <span style='background:yellow'>records </span>by <span style='background:yellow'>taking </span>the right process and fetching the results back to the customers . ; project involved migration of existing application in c and c++ to jee platform . ; ; • documented the process flow by <span style='background:yellow'>reviewing </span>the c and c++ files of the existing system . ; • understood and presented the documented current process flow of the module to the team lead time to time . ; • participated in team meetings , <span style='background:yellow'>reviewing </span>the current system flow and changes we need to come up with , for the migration . ; • prepared the new system requirements that needs to be developed . ; • analyzed the requirements and designed class <span style='background:yellow'>diagrams </span>, sequence diagrams using uml . ; • wrote code in <span style='background:yellow'>java </span>using existing c files and adding the new system requirements accordingly . ; • used spring <span style='background:yellow'>framework </span>in building the application . ; • used eclipse luna to develop the application . ; • <span style='background:yellow'>created </span>hibernate classes for mapping java classes with <span style='background:yellow'>database </span>. ; • worked on sql developer 5 to develop and manage oracle database . ; • added a new menu bar called tollfree with all its pages under it , to the new gui environment and made it compatible by making changes accordingly . ; • updated <span style='background:yellow'>javascripts </span>, <span style='background:yellow'>jsps </span>, <span style='background:yellow'>html </span>in the process . ; • used jboss6 eap for building the application . ; • done unit and system testing . ; environment : <span style='background:yellow'>java </span>, jee , c , <span style='background:yellow'>c++ </span>, rational rose , eclipse luna , <span style='background:yellow'>hibernate </span>, sql developer 5 , <span style='background:yellow'>oracle </span>, <span style='background:yellow'>javascripts </span>, <span style='background:yellow'>jsp </span>, <span style='background:yellow'>html </span>, jboss6 <span style='background:yellow'>eap.java </span>developeradvansoft international - hyderabad , telangana-2012 6     2013 6 responsibilities : ; • contributed towards stabilizing financial applications developed using <span style='background:yellow'>java </span>/ <span style='background:yellow'>j2ee </span>by <span style='background:yellow'>analyzing </span>, troubleshooting and fixing the defects for the end client ubs . ; • develop and run <span style='background:yellow'>sql </span>scripts on oracle when requested by the development team to solve high priority production issues . ; • involved extensively in <span style='background:yellow'>testing </span>and <span style='background:yellow'>finding </span>bugs in the application in pre -production environment before the production release . ; • <span style='background:yellow'>received </span>corporate <span style='background:yellow'>training </span>on <span style='background:yellow'>java </span>, <span style='background:yellow'>sql </span>and linux.master of science - computer scienceindiana state university - terre haute , in2013 8     2015 5 \n",
       "      </html>"
      ],
      "text/plain": [
       "<IPython.core.display.HTML object>"
      ]
     },
     "metadata": {},
     "output_type": "display_data"
    },
    {
     "name": "stderr",
     "output_type": "stream",
     "text": [
      "127.0.0.1 - - [28/Sep/2020 05:51:20] \"\u001b[37mPOST /get_gap/ HTTP/1.1\u001b[0m\" 200 -\n"
     ]
    },
    {
     "name": "stdout",
     "output_type": "stream",
     "text": [
      "skill word in CV: ['sql', 'j2ee', 'servlets', 'data analysis', 'analyzing', 'records', 'java', 'eap.java', 'javascript', 'testing and', 'j2ee designs', 'ajax', 'javascripts', 'data', 'jsps', 'bachelors', 'reviewing', 'software development', 'experience.•', 'jdbc', 'agile', 'computer science', 'masters degree', 'object oriented design', 'r', 'communication skills', 'taking', 'class diagrams', 'received', 'mysql', 'jsp', 'updated javascripts', 'programming', 'spring framework', 'design', 'finding bugs', 'sql server', 'training', 'hibernate', 'oracle', 'spring', 'processing', 'html', 'database', 'park', 'c++', 'created hibernate']\n",
      "====================================================================================================\n",
      "gap_list ['relational database', 'testing', 'ejb3', 'jasper', 'web-based java', 'data normalization', 'engineering', 'research', 'substituted', 'creates design documents', 'design patterns', 'orm software', 'dod secret', 'web services', 'jdo', 'position description  designs', 'web service', 'distributed', 'develops', 'bachelors degree', 'ejb 3.0', 'investigation', 'saas', 'jboss', 'ee', 'jsf', 'principle', 'javaserver faces', 'service', 'iterative development', 'methodologies', 'debugging']\n",
      "get_gap:\n"
     ]
    },
    {
     "data": {
      "text/html": [
       "<html>\n",
       "      Job Classification :   <span style='background:red'>Contract </span>\r\n",
       "\r\n",
       " •*BECAUSE <span style='background:red'>THIS </span>OPPORTUNITY IS IN SUPPORT OF THE US ARMY , POTENTIAL CANDIDATE MUST BE CLEARABLE TO A SECRET CLEARANCE * * \n",
       "\n",
       " TEKsystems has partnered with a government <span style='background:red'>integrator </span>to identify 5 Java <span style='background:red'>Developers </span>for an opportunity in Springfield , VA . \n",
       "\n",
       " Qualified candidate will be responsible to <span style='background:red'>designs </span>, <span style='background:red'>develops </span>, and implements web - <span style='background:red'>based </span>Java applications to support business requirements . Follows approved life cycle <span style='background:red'>methodologies </span>, <span style='background:red'>creates </span>design documents , and performs program coding and <span style='background:red'>testing </span>. Resolves technical issues through troubleshooting , <span style='background:red'>debugging </span>, <span style='background:red'>research </span>, and <span style='background:red'>investigation </span>.   Familiar with software development concepts , practices , and procedures ( i.e. <span style='background:yellow'>Java </span>, <span style='background:red'>EJB </span>3.0 , <span style='background:yellow'>JSP </span>, <span style='background:red'>JSF </span>, <span style='background:yellow'>HTML </span>, <span style='background:yellow'>SQL </span>, <span style='background:yellow'>Javascript </span>) . Relies on extensive experience and judgment to plan and accomplish goals .  \n",
       "\n",
       " Must Haves : \n",
       " Eligibility to be cleared to Secret Clearance \n",
       " Bachelor 's <span style='background:red'>Degree </span>in Computer <span style='background:red'>Science </span>or <span style='background:red'>Engineering </span>\n",
       " 6 Years of <span style='background:yellow'>Java </span>Development experience \n",
       "\r\n",
       " •*BECAUSE <span style='background:red'>THIS </span>OPPORTUNITY IS IN <span style='background:red'>SUPPORT </span>OF THE US ARMY , <span style='background:red'>POTENTIAL </span>CANDIDATE MUST BE CLEARABLE TO A SECRET <span style='background:red'>CLEARANCE </span>* * \n",
       "\t\t\t\t\t\t\r",
       "\r",
       "\r\n",
       "\t\t\t\t\t\t Join TEKsystems ® and get your career on the fast track . As the leading technology staffing and services firm , we are passionate about deploying high - caliber IT and communications expertise . To satisfy our constant need for expertise , we actively seek talented Technical Professionals with all levels of information <span style='background:red'>technology </span>and communications <span style='background:red'>skills </span>. TEKsystems knows that every professional has different needs , so we 'll work together to determine a suitable benefits package . We offer options to our Technical Professionals that could include : a health plan , <span style='background:red'>401k </span>, <span style='background:red'>provisions </span>for <span style='background:red'>vacation </span>and <span style='background:red'>holiday </span>pay , and technical and professional <span style='background:yellow'>training </span>. With a foundation as the <span style='background:red'>nation </span>'s largest IT staffing firm , we 've become a billion - dollar services company by blending superior client service with an unrivaled ability to source and manage talent to precise specifications , resulting in <span style='background:red'>successful </span>technology executions . Allegis Group and its subsidiaries are equal opportunity employers . M / F / <span style='background:red'>D </span>/ <span style='background:red'>V </span>\n",
       "      </html>"
      ],
      "text/plain": [
       "<IPython.core.display.HTML object>"
      ]
     },
     "metadata": {},
     "output_type": "display_data"
    },
    {
     "name": "stdout",
     "output_type": "stream",
     "text": [
      "skill word in JD: ['sql', 'testing', 'information technology', 'web-based java', 'engineering', 'research', 'support', 'provisions', 'java developers', 'java', 'successful technology', 'javascript', 'creates design documents', \"bachelor's degree\", 'communications skills', 'v\\n     ', 'develops', 'computer science', 'this', 'ejb 3.0', 'jsp', 'investigation', 'm/f/d', 'potential', 'contract', 'training', 'government integrator', 'jsf', 'designs', 'html', 'methodologies', 'vacation', \"nation's largest\", 'holiday', 'secret clearance', '401k', 'debugging']\n",
      "====================================================================================================\n"
     ]
    },
    {
     "data": {
      "text/html": [
       "<html>\n",
       "      java developerjava developerkansas city , mo-• over 1 years of <span style='background:yellow'>java </span>/ <span style='background:yellow'>j2ee </span>development <span style='background:yellow'>experience.• </span>done <span style='background:yellow'>bachelors </span>and masters <span style='background:yellow'>degree </span>in computer <span style='background:yellow'>science </span>. ; • developed applications using <span style='background:yellow'>java </span>, jee , <span style='background:yellow'>spring </span>, <span style='background:yellow'>servlets </span>, <span style='background:yellow'>jsp </span>, <span style='background:yellow'>jdbc </span>, <span style='background:yellow'>hibernate </span>. ; • knowledge of software <span style='background:yellow'>development </span>methodologies like <span style='background:yellow'>agile </span>, waterfall . ; • good understanding of object oriented <span style='background:yellow'>design </span>and j2ee <span style='background:yellow'>designs </span>. ; • hands on experience using xml , <span style='background:yellow'>ajax </span>and <span style='background:yellow'>javascript </span>, angular . ; • experience with databases such as <span style='background:yellow'>mysql </span>, <span style='background:yellow'>oracle </span>, <span style='background:yellow'>sql </span>server . ; • excellent communication <span style='background:yellow'>skills </span>. ; • able to work both as a team player and on individual assignments.java developersprint corporation - overland <span style='background:yellow'>park </span>, ks-2016 3     2017 11 project title : tollfree ; description : ; tollfree is about taking the requests from the customers via gui and <span style='background:yellow'>processing </span>the <span style='background:yellow'>records </span>by <span style='background:yellow'>taking </span>the right process and fetching the results back to the customers . ; project involved migration of existing application in c and c++ to jee platform . ; ; • documented the process flow by <span style='background:yellow'>reviewing </span>the c and c++ files of the existing system . ; • understood and presented the documented current process flow of the module to the team lead time to time . ; • participated in team meetings , <span style='background:yellow'>reviewing </span>the current system flow and changes we need to come up with , for the migration . ; • prepared the new system requirements that needs to be developed . ; • analyzed the requirements and designed class <span style='background:yellow'>diagrams </span>, sequence diagrams using uml . ; • wrote code in <span style='background:yellow'>java </span>using existing c files and adding the new system requirements accordingly . ; • used spring <span style='background:yellow'>framework </span>in building the application . ; • used eclipse luna to develop the application . ; • <span style='background:yellow'>created </span>hibernate classes for mapping java classes with <span style='background:yellow'>database </span>. ; • worked on sql developer 5 to develop and manage oracle database . ; • added a new menu bar called tollfree with all its pages under it , to the new gui environment and made it compatible by making changes accordingly . ; • updated <span style='background:yellow'>javascripts </span>, <span style='background:yellow'>jsps </span>, <span style='background:yellow'>html </span>in the process . ; • used jboss6 eap for building the application . ; • done unit and system testing . ; environment : <span style='background:yellow'>java </span>, jee , c , <span style='background:yellow'>c++ </span>, rational rose , eclipse luna , <span style='background:yellow'>hibernate </span>, sql developer 5 , <span style='background:yellow'>oracle </span>, <span style='background:yellow'>javascripts </span>, <span style='background:yellow'>jsp </span>, <span style='background:yellow'>html </span>, jboss6 <span style='background:yellow'>eap.java </span>developeradvansoft international - hyderabad , telangana-2012 6     2013 6 responsibilities : ; • contributed towards stabilizing financial applications developed using <span style='background:yellow'>java </span>/ <span style='background:yellow'>j2ee </span>by <span style='background:yellow'>analyzing </span>, troubleshooting and fixing the defects for the end client ubs . ; • develop and run <span style='background:yellow'>sql </span>scripts on oracle when requested by the development team to solve high priority production issues . ; • involved extensively in <span style='background:yellow'>testing </span>and <span style='background:yellow'>finding </span>bugs in the application in pre -production environment before the production release . ; • <span style='background:yellow'>received </span>corporate <span style='background:yellow'>training </span>on <span style='background:yellow'>java </span>, <span style='background:yellow'>sql </span>and linux.master of science - computer scienceindiana state university - terre haute , in2013 8     2015 5 \n",
       "      </html>"
      ],
      "text/plain": [
       "<IPython.core.display.HTML object>"
      ]
     },
     "metadata": {},
     "output_type": "display_data"
    },
    {
     "name": "stderr",
     "output_type": "stream",
     "text": [
      "127.0.0.1 - - [28/Sep/2020 05:54:48] \"\u001b[37mPOST /get_gap/ HTTP/1.1\u001b[0m\" 200 -\n"
     ]
    },
    {
     "name": "stdout",
     "output_type": "stream",
     "text": [
      "skill word in CV: ['sql', 'j2ee', 'servlets', 'data analysis', 'analyzing', 'records', 'java', 'eap.java', 'javascript', 'testing and', 'j2ee designs', 'ajax', 'javascripts', 'data', 'jsps', 'bachelors', 'reviewing', 'software development', 'experience.•', 'jdbc', 'agile', 'computer science', 'masters degree', 'object oriented design', 'r', 'communication skills', 'taking', 'class diagrams', 'received', 'mysql', 'jsp', 'updated javascripts', 'programming', 'spring framework', 'design', 'finding bugs', 'sql server', 'training', 'hibernate', 'oracle', 'spring', 'processing', 'html', 'database', 'park', 'c++', 'created hibernate']\n",
      "====================================================================================================\n",
      "gap_list ['testing', 'information technology', 'web-based java', 'engineering', 'research', 'support', 'provisions', 'java developers', 'successful technology', 'creates design documents', \"bachelor's degree\", 'communications skills', 'v\\n     ', 'develops', 'this', 'ejb 3.0', 'investigation', 'm/f/d', 'potential', 'contract', 'government integrator', 'jsf', 'designs', 'methodologies', 'vacation', \"nation's largest\", 'holiday', 'secret clearance', '401k', 'debugging']\n",
      "get_gap:\n"
     ]
    },
    {
     "data": {
      "text/html": [
       "<html>\n",
       "      We are looking to identify at least 5 more developers for an Army Contract in Springfield , VA .   Many of the requirements below are ideal but if you do n't possess all of them training will be provided on the job .   Must be able to obtain a <span style='background:red'>DOD </span>Secret Clearance .  \r",
       "\r",
       "\r",
       " Position <span style='background:red'>Description </span>\r",
       " <span style='background:red'>Designs </span>, <span style='background:red'>develops </span>, and implements web - <span style='background:red'>based </span>Java applications to support business requirements . Follows approved life cycle <span style='background:red'>methodologies </span>, <span style='background:red'>creates </span>design documents , and performs program coding and <span style='background:red'>testing </span>. Resolves technical issues through troubleshooting , <span style='background:red'>debugging </span>, <span style='background:red'>research </span>, and <span style='background:red'>investigation </span>.   Familiar with software development concepts , practices , and procedures ( i.e. <span style='background:yellow'>Java </span>, <span style='background:red'>EJB </span>3.0 , <span style='background:yellow'>JSP </span>, <span style='background:red'>JSF </span>, <span style='background:yellow'>HTML </span>, <span style='background:yellow'>SQL </span>, <span style='background:yellow'>Javascript </span>) . Relies on extensive experience and judgment to plan and accomplish goals .  \r",
       " <span style='background:red'>Principle </span>Duties and Responsibilities : \r",
       "\r",
       "     Experience in <span style='background:red'>building </span>enterprise software or large scale web application required \r",
       "     Strong <span style='background:yellow'>Java </span>and J EE software development required \r",
       "     Experience in servlets and JSP development required \r",
       "     Hands - on experience with <span style='background:red'>EJB3 </span>or ORM <span style='background:red'>software </span>( <span style='background:yellow'>hibernate </span>, toplink , <span style='background:red'>JDO </span>, etc ) required \r",
       "     Ability to work across all layers of the application , from back - end databases through to the user interface \r",
       "     In - depth knowledge with relational <span style='background:yellow'>database </span>, such SQL <span style='background:red'>Server </span>or <span style='background:yellow'>Oracle </span>, is required \r",
       "     <span style='background:yellow'>Agile </span>/ <span style='background:red'>Iterative </span>development methodology \r",
       "     <span style='background:yellow'>SQL </span>; <span style='background:yellow'>AJAX </span>; <span style='background:red'>JBoss </span>; <span style='background:red'>Jasper </span>Reports \r",
       "     Working knowledge of database relational design , data <span style='background:red'>normalization </span>and experience with <span style='background:yellow'>JDBC </span>drivers \r",
       "     Experience in JavaServer <span style='background:red'>Faces </span>( <span style='background:red'>JSF </span>) is highly desirable \r",
       "     Experience working on high scalable , <span style='background:red'>distributed </span>, high transaction applications is a plus \r",
       "     Experience with creating web <span style='background:red'>services </span>or implementing client portion of web <span style='background:red'>service </span>is desirable \r",
       "     Experience in Software as a <span style='background:red'>Service </span>( <span style='background:red'>SaaS </span>) is a plus \r",
       "     Knowledge of design <span style='background:red'>patterns </span>is a plus \r",
       "     Experience in <span style='background:yellow'>JavaScript </span>is a plus . \r",
       "\r",
       " Job <span style='background:red'>Specifications </span>: \r",
       "\r",
       "     A bachelors <span style='background:red'>degree </span>in Computer <span style='background:red'>Science </span>or <span style='background:red'>Engineering </span>and at least 6 years of <span style='background:yellow'>Java </span>experience working with server side applications , 7 years of experience can be <span style='background:red'>substituted </span>for a degree \r",
       "     Candidates must be clearable US Citizens or hold at least an interim DOD security clearance \r\n",
       "      </html>"
      ],
      "text/plain": [
       "<IPython.core.display.HTML object>"
      ]
     },
     "metadata": {},
     "output_type": "display_data"
    },
    {
     "name": "stdout",
     "output_type": "stream",
     "text": [
      "skill word in JD: ['sql', 'relational database', 'testing', 'ejb3', 'jasper', 'web-based java', 'data normalization', 'engineering', 'research', 'job specifications', 'substituted', 'java', 'javascript', 'creates design documents', 'design patterns', 'orm software', 'dod secret', 'web services', 'jdo', 'ajax', 'web service', 'distributed', 'develops', 'agile', 'jdbc', 'computer science', 'building', 'bachelors degree', 'ejb 3.0', 'jsp', 'investigation', 'saas', 'sql server', 'jboss', 'position description', 'hibernate', 'jsf', 'principle', 'javaserver faces', 'designs', 'oracle', 'service', 'iterative development', 'html', 'methodologies', 'debugging']\n",
      "====================================================================================================\n"
     ]
    },
    {
     "data": {
      "text/html": [
       "<html>\n",
       "      java developerjava developerkansas city , mo-• over 1 years of <span style='background:yellow'>java </span>/ <span style='background:yellow'>j2ee </span>development <span style='background:yellow'>experience.• </span>done <span style='background:yellow'>bachelors </span>and masters <span style='background:yellow'>degree </span>in computer <span style='background:yellow'>science </span>. ; • developed applications using <span style='background:yellow'>java </span>, jee , <span style='background:yellow'>spring </span>, <span style='background:yellow'>servlets </span>, <span style='background:yellow'>jsp </span>, <span style='background:yellow'>jdbc </span>, <span style='background:yellow'>hibernate </span>. ; • knowledge of software <span style='background:yellow'>development </span>methodologies like <span style='background:yellow'>agile </span>, waterfall . ; • good understanding of object oriented <span style='background:yellow'>design </span>and j2ee <span style='background:yellow'>designs </span>. ; • hands on experience using xml , <span style='background:yellow'>ajax </span>and <span style='background:yellow'>javascript </span>, angular . ; • experience with databases such as <span style='background:yellow'>mysql </span>, <span style='background:yellow'>oracle </span>, <span style='background:yellow'>sql </span>server . ; • excellent communication <span style='background:yellow'>skills </span>. ; • able to work both as a team player and on individual assignments.java developersprint corporation - overland <span style='background:yellow'>park </span>, ks-2016 3     2017 11 project title : tollfree ; description : ; tollfree is about taking the requests from the customers via gui and <span style='background:yellow'>processing </span>the <span style='background:yellow'>records </span>by <span style='background:yellow'>taking </span>the right process and fetching the results back to the customers . ; project involved migration of existing application in c and c++ to jee platform . ; ; • documented the process flow by <span style='background:yellow'>reviewing </span>the c and c++ files of the existing system . ; • understood and presented the documented current process flow of the module to the team lead time to time . ; • participated in team meetings , <span style='background:yellow'>reviewing </span>the current system flow and changes we need to come up with , for the migration . ; • prepared the new system requirements that needs to be developed . ; • analyzed the requirements and designed class <span style='background:yellow'>diagrams </span>, sequence diagrams using uml . ; • wrote code in <span style='background:yellow'>java </span>using existing c files and adding the new system requirements accordingly . ; • used spring <span style='background:yellow'>framework </span>in building the application . ; • used eclipse luna to develop the application . ; • <span style='background:yellow'>created </span>hibernate classes for mapping java classes with <span style='background:yellow'>database </span>. ; • worked on sql developer 5 to develop and manage oracle database . ; • added a new menu bar called tollfree with all its pages under it , to the new gui environment and made it compatible by making changes accordingly . ; • updated <span style='background:yellow'>javascripts </span>, <span style='background:yellow'>jsps </span>, <span style='background:yellow'>html </span>in the process . ; • used jboss6 eap for building the application . ; • done unit and system testing . ; environment : <span style='background:yellow'>java </span>, jee , c , <span style='background:yellow'>c++ </span>, rational rose , eclipse luna , <span style='background:yellow'>hibernate </span>, sql developer 5 , <span style='background:yellow'>oracle </span>, <span style='background:yellow'>javascripts </span>, <span style='background:yellow'>jsp </span>, <span style='background:yellow'>html </span>, jboss6 <span style='background:yellow'>eap.java </span>developeradvansoft international - hyderabad , telangana-2012 6     2013 6 responsibilities : ; • contributed towards stabilizing financial applications developed using <span style='background:yellow'>java </span>/ <span style='background:yellow'>j2ee </span>by <span style='background:yellow'>analyzing </span>, troubleshooting and fixing the defects for the end client ubs . ; • develop and run <span style='background:yellow'>sql </span>scripts on oracle when requested by the development team to solve high priority production issues . ; • involved extensively in <span style='background:yellow'>testing </span>and <span style='background:yellow'>finding </span>bugs in the application in pre -production environment before the production release . ; • <span style='background:yellow'>received </span>corporate <span style='background:yellow'>training </span>on <span style='background:yellow'>java </span>, <span style='background:yellow'>sql </span>and linux.master of science - computer scienceindiana state university - terre haute , in2013 8     2015 5 \n",
       "      </html>"
      ],
      "text/plain": [
       "<IPython.core.display.HTML object>"
      ]
     },
     "metadata": {},
     "output_type": "display_data"
    },
    {
     "name": "stderr",
     "output_type": "stream",
     "text": [
      "127.0.0.1 - - [28/Sep/2020 05:55:29] \"\u001b[37mPOST /get_gap/ HTTP/1.1\u001b[0m\" 200 -\n"
     ]
    },
    {
     "name": "stdout",
     "output_type": "stream",
     "text": [
      "skill word in CV: ['sql', 'j2ee', 'servlets', 'data analysis', 'analyzing', 'records', 'java', 'eap.java', 'javascript', 'testing and', 'j2ee designs', 'ajax', 'javascripts', 'data', 'jsps', 'bachelors', 'reviewing', 'software development', 'experience.•', 'jdbc', 'agile', 'computer science', 'masters degree', 'object oriented design', 'r', 'communication skills', 'taking', 'class diagrams', 'received', 'mysql', 'jsp', 'updated javascripts', 'programming', 'spring framework', 'design', 'finding bugs', 'sql server', 'training', 'hibernate', 'oracle', 'spring', 'processing', 'html', 'database', 'park', 'c++', 'created hibernate']\n",
      "====================================================================================================\n",
      "gap_list ['relational database', 'testing', 'ejb3', 'jasper', 'web-based java', 'data normalization', 'engineering', 'research', 'job specifications', 'substituted', 'creates design documents', 'design patterns', 'orm software', 'dod secret', 'web services', 'jdo', 'web service', 'distributed', 'develops', 'building', 'bachelors degree', 'ejb 3.0', 'investigation', 'saas', 'jboss', 'position description', 'jsf', 'principle', 'javaserver faces', 'designs', 'service', 'iterative development', 'methodologies', 'debugging']\n"
     ]
    }
   ],
   "source": [
    "app = Flask(__name__)\n",
    "\n",
    "@app.route('/get_gap/', methods=['POST'])\n",
    "# 返回最接近的向量\n",
    "def get_simmilar():\n",
    "    print( 'get_gap:' )\n",
    "\n",
    "    JD = eval(request.get_data())['JD']\n",
    "    CV = eval(request.get_data())['CV']\n",
    "    \n",
    "    ## skill word in JD\n",
    "    doc1 = ner_model(JD)\n",
    "    JD_tem_list = []\n",
    "    for chunk in doc1.ents:\n",
    "        JD_tem_list.append( chunk.text.lower() )\n",
    "    JD_tem_list = list(set(JD_tem_list))\n",
    "\n",
    "    JD_ent_list = [t.root for t in doc1.ents]\n",
    "    \n",
    "    ## skill word in CV\n",
    "    doc2 = ner_model(CV)\n",
    "    CV_tem_list = []\n",
    "    for chunk in doc2.ents:\n",
    "        CV_tem_list.append( chunk.text.lower() )\n",
    "    CV_tem_list = list(set(CV_tem_list))\n",
    "\n",
    "    CV_tem_list_expand = []\n",
    "    for tem in CV_tem_list:\n",
    "        CV_tem_list_expand.append( str(tem) )\n",
    "        if SKILL_relation_Dict.get( str(tem),None ) != None:\n",
    "            CV_tem_list_expand.append( SKILL_relation_Dict.get( str(tem),None ) )\n",
    "\n",
    "    CV_tem_list_expand = list(set(CV_tem_list_expand))\n",
    "    CV_ent_list = [t.root for t in doc2.ents]\n",
    "\n",
    "    CV_tem_list_expand = [w.lower() for w in CV_tem_list_expand]\n",
    "    \n",
    "    JD_HTML = get_HTML_JD( doc1, JD_ent_list, CV_tem_list_expand)\n",
    "    print( 'skill word in JD:', JD_tem_list)\n",
    "    \n",
    "    print( '=' * 100)\n",
    "    CV_HTML = get_HTML( doc2, CV_ent_list)\n",
    "    print( 'skill word in CV:', CV_tem_list_expand)\n",
    "    \n",
    "    gap_tem_list = []\n",
    "    for t1 in JD_tem_list:\n",
    "        if t1.lower() not in CV_tem_list_expand:\n",
    "            gap_tem_list.append( t1 )\n",
    "    \n",
    "    print( '=' * 100)\n",
    "    print( 'gap_list', gap_tem_list)\n",
    "    response = { \n",
    "        'JD_HTML': JD_HTML,\n",
    "        'CV_HTML': CV_HTML,\n",
    "        'gap_list': gap_tem_list}\n",
    "    \n",
    "    return str(response)\n",
    "\n",
    "if __name__ == '__main__':\n",
    "    app.run(host=\"0.0.0.0\", port=5553)"
   ]
  },
  {
   "cell_type": "code",
   "execution_count": null,
   "metadata": {},
   "outputs": [],
   "source": []
  },
  {
   "cell_type": "code",
   "execution_count": null,
   "metadata": {},
   "outputs": [],
   "source": []
  },
  {
   "cell_type": "code",
   "execution_count": null,
   "metadata": {},
   "outputs": [],
   "source": []
  }
 ],
 "metadata": {
  "kernelspec": {
   "display_name": "Python 3",
   "language": "python",
   "name": "python3"
  },
  "language_info": {
   "codemirror_mode": {
    "name": "ipython",
    "version": 3
   },
   "file_extension": ".py",
   "mimetype": "text/x-python",
   "name": "python",
   "nbconvert_exporter": "python",
   "pygments_lexer": "ipython3",
   "version": "3.7.6"
  }
 },
 "nbformat": 4,
 "nbformat_minor": 2
}
