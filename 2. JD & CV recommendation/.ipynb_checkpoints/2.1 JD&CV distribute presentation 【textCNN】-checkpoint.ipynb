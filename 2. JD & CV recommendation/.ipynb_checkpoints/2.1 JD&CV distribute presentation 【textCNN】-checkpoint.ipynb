{
 "cells": [
  {
   "cell_type": "markdown",
   "metadata": {},
   "source": [
    "## 1. train textCNN model\n",
    "## 2. extract the middle layer Vector as document distribution presentation\n",
    "## 3. dimension-reduction \n",
    "## 4. data visualization"
   ]
  },
  {
   "cell_type": "code",
   "execution_count": 1,
   "metadata": {},
   "outputs": [
    {
     "data": {
      "text/plain": [
       "'2.1.0'"
      ]
     },
     "execution_count": 1,
     "metadata": {},
     "output_type": "execute_result"
    }
   ],
   "source": [
    "import tensorflow as tf\n",
    "tf.__version__"
   ]
  },
  {
   "cell_type": "code",
   "execution_count": 2,
   "metadata": {},
   "outputs": [
    {
     "name": "stdout",
     "output_type": "stream",
     "text": [
      "WARNING:tensorflow:From <ipython-input-2-17bb7203622b>:1: is_gpu_available (from tensorflow.python.framework.test_util) is deprecated and will be removed in a future version.\n",
      "Instructions for updating:\n",
      "Use `tf.config.list_physical_devices('GPU')` instead.\n"
     ]
    },
    {
     "data": {
      "text/plain": [
       "False"
      ]
     },
     "execution_count": 2,
     "metadata": {},
     "output_type": "execute_result"
    }
   ],
   "source": [
    "tf.test.is_gpu_available()"
   ]
  },
  {
   "cell_type": "code",
   "execution_count": null,
   "metadata": {},
   "outputs": [],
   "source": []
  },
  {
   "cell_type": "code",
   "execution_count": null,
   "metadata": {},
   "outputs": [],
   "source": []
  },
  {
   "cell_type": "code",
   "execution_count": 3,
   "metadata": {},
   "outputs": [
    {
     "name": "stdout",
     "output_type": "stream",
     "text": [
      "Collecting pandas\n",
      "\u001b[?25l  Downloading https://files.pythonhosted.org/packages/a1/c6/9ac4ae44c24c787a1738e5fb34dd987ada6533de5905a041aa6d5bea4553/pandas-1.1.1-cp36-cp36m-manylinux1_x86_64.whl (10.5MB)\n",
      "\u001b[K     |████████████████████████████████| 10.5MB 2.0MB/s eta 0:00:01\n",
      "\u001b[?25hRequirement already satisfied: python-dateutil>=2.7.3 in /usr/local/lib/python3.6/dist-packages (from pandas) (2.8.1)\n",
      "Requirement already satisfied: numpy>=1.15.4 in /usr/local/lib/python3.6/dist-packages (from pandas) (1.18.1)\n",
      "Collecting pytz>=2017.2\n",
      "\u001b[?25l  Downloading https://files.pythonhosted.org/packages/4f/a4/879454d49688e2fad93e59d7d4efda580b783c745fd2ec2a3adf87b0808d/pytz-2020.1-py2.py3-none-any.whl (510kB)\n",
      "\u001b[K     |████████████████████████████████| 512kB 18.3MB/s eta 0:00:01\n",
      "\u001b[?25hRequirement already satisfied: six>=1.5 in /usr/local/lib/python3.6/dist-packages (from python-dateutil>=2.7.3->pandas) (1.13.0)\n",
      "Installing collected packages: pytz, pandas\n",
      "Successfully installed pandas-1.1.1 pytz-2020.1\n",
      "\u001b[33mWARNING: You are using pip version 19.3.1; however, version 20.2.2 is available.\n",
      "You should consider upgrading via the 'pip install --upgrade pip' command.\u001b[0m\n"
     ]
    }
   ],
   "source": [
    "!pip install pandas"
   ]
  },
  {
   "cell_type": "code",
   "execution_count": 4,
   "metadata": {},
   "outputs": [
    {
     "name": "stdout",
     "output_type": "stream",
     "text": [
      "Collecting bs4\n",
      "  Downloading https://files.pythonhosted.org/packages/10/ed/7e8b97591f6f456174139ec089c769f89a94a1a4025fe967691de971f314/bs4-0.0.1.tar.gz\n",
      "Collecting beautifulsoup4\n",
      "\u001b[?25l  Downloading https://files.pythonhosted.org/packages/66/25/ff030e2437265616a1e9b25ccc864e0371a0bc3adb7c5a404fd661c6f4f6/beautifulsoup4-4.9.1-py3-none-any.whl (115kB)\n",
      "\u001b[K     |████████████████████████████████| 122kB 286kB/s eta 0:00:01\n",
      "\u001b[?25hCollecting soupsieve>1.2\n",
      "  Downloading https://files.pythonhosted.org/packages/6f/8f/457f4a5390eeae1cc3aeab89deb7724c965be841ffca6cfca9197482e470/soupsieve-2.0.1-py3-none-any.whl\n",
      "Building wheels for collected packages: bs4\n",
      "  Building wheel for bs4 (setup.py) ... \u001b[?25ldone\n",
      "\u001b[?25h  Created wheel for bs4: filename=bs4-0.0.1-cp36-none-any.whl size=2248 sha256=dda0855cf3b97c7c3215e6fb7cd475eb3a389f4aec7277ac6072e3978f3f3d71\n",
      "  Stored in directory: /root/.cache/pip/wheels/a0/b0/b2/4f80b9456b87abedbc0bf2d52235414c3467d8889be38dd472\n",
      "Successfully built bs4\n",
      "Installing collected packages: soupsieve, beautifulsoup4, bs4\n",
      "Successfully installed beautifulsoup4-4.9.1 bs4-0.0.1 soupsieve-2.0.1\n",
      "\u001b[33mWARNING: You are using pip version 19.3.1; however, version 20.2.2 is available.\n",
      "You should consider upgrading via the 'pip install --upgrade pip' command.\u001b[0m\n"
     ]
    }
   ],
   "source": [
    "!pip install bs4"
   ]
  },
  {
   "cell_type": "code",
   "execution_count": 9,
   "metadata": {},
   "outputs": [],
   "source": [
    "# from keras.models import Sequential\n",
    "# from keras.layers import Conv1D, GlobalMaxPooling1D, Embedding, LSTM, MaxPooling1D,BatchNormalization,GRU, SpatialDropout1D\n",
    "# from keras.layers.core import Dense, Dropout, Activation\n",
    "# from keras.preprocessing.text import Tokenizer\n",
    "# from keras import metrics, regularizers\n",
    "# from keras.preprocessing import sequence\n",
    "import pandas as pd\n",
    "import numpy as np\n",
    "import matplotlib.pyplot as plt\n",
    "# from keras.preprocessing.text import Tokenizer\n",
    "# from keras.preprocessing.sequence import pad_sequences\n",
    "# from keras.models import Sequential\n",
    "# from keras.layers import Dense, Embedding, LSTM, SpatialDropout1D\n",
    "# from sklearn.model_selection import train_test_split\n",
    "# from keras.utils.np_utils import to_categorical\n",
    "# from keras.callbacks import EarlyStopping\n",
    "# from keras.layers import Dropout\n",
    "from bs4 import BeautifulSoup\n",
    "from tensorflow.keras.callbacks import EarlyStopping\n",
    "import re\n",
    "# from nltk.corpus import stopwords\n",
    "# import nltk\n",
    "# from nltk import word_tokenize\n",
    "# STOPWORDS = set(stopwords.words('english'))\n",
    "from sklearn.model_selection import train_test_split\n",
    "from sklearn.preprocessing import LabelBinarizer"
   ]
  },
  {
   "cell_type": "code",
   "execution_count": 10,
   "metadata": {},
   "outputs": [
    {
     "name": "stdout",
     "output_type": "stream",
     "text": [
      "Requirement already satisfied: sklearn in /usr/local/lib/python3.6/dist-packages (0.0)\n",
      "Requirement already satisfied: scikit-learn in /usr/local/lib/python3.6/dist-packages (from sklearn) (0.23.2)\n",
      "Requirement already satisfied: threadpoolctl>=2.0.0 in /usr/local/lib/python3.6/dist-packages (from scikit-learn->sklearn) (2.1.0)\n",
      "Requirement already satisfied: numpy>=1.13.3 in /usr/local/lib/python3.6/dist-packages (from scikit-learn->sklearn) (1.18.1)\n",
      "Requirement already satisfied: scipy>=0.19.1 in /usr/local/lib/python3.6/dist-packages (from scikit-learn->sklearn) (1.4.1)\n",
      "Requirement already satisfied: joblib>=0.11 in /usr/local/lib/python3.6/dist-packages (from scikit-learn->sklearn) (0.16.0)\n",
      "\u001b[33mWARNING: You are using pip version 19.3.1; however, version 20.2.2 is available.\n",
      "You should consider upgrading via the 'pip install --upgrade pip' command.\u001b[0m\n"
     ]
    }
   ],
   "source": [
    "!pip install sklearn"
   ]
  },
  {
   "cell_type": "markdown",
   "metadata": {},
   "source": [
    "# import Job Description dataset"
   ]
  },
  {
   "cell_type": "code",
   "execution_count": 11,
   "metadata": {},
   "outputs": [
    {
     "data": {
      "text/html": [
       "<div>\n",
       "<style scoped>\n",
       "    .dataframe tbody tr th:only-of-type {\n",
       "        vertical-align: middle;\n",
       "    }\n",
       "\n",
       "    .dataframe tbody tr th {\n",
       "        vertical-align: top;\n",
       "    }\n",
       "\n",
       "    .dataframe thead th {\n",
       "        text-align: right;\n",
       "    }\n",
       "</style>\n",
       "<table border=\"1\" class=\"dataframe\">\n",
       "  <thead>\n",
       "    <tr style=\"text-align: right;\">\n",
       "      <th></th>\n",
       "      <th>Query</th>\n",
       "      <th>Description</th>\n",
       "    </tr>\n",
       "  </thead>\n",
       "  <tbody>\n",
       "    <tr>\n",
       "      <th>0</th>\n",
       "      <td>Administrative Assistant</td>\n",
       "      <td>This Administrative Assistant position is resp...</td>\n",
       "    </tr>\n",
       "    <tr>\n",
       "      <th>1</th>\n",
       "      <td>Administrative Assistant</td>\n",
       "      <td>ADMINISTRATIVE ASSISTANT Part Time The West Or...</td>\n",
       "    </tr>\n",
       "    <tr>\n",
       "      <th>2</th>\n",
       "      <td>Administrative Assistant</td>\n",
       "      <td>Administrative Assistant -  In Bus 26yrs Fashi...</td>\n",
       "    </tr>\n",
       "    <tr>\n",
       "      <th>3</th>\n",
       "      <td>Sales Representative</td>\n",
       "      <td>Are you ready for something new? Are you tired...</td>\n",
       "    </tr>\n",
       "    <tr>\n",
       "      <th>4</th>\n",
       "      <td>Customer Service Representative</td>\n",
       "      <td>Superior Staff Resources is currently seeking ...</td>\n",
       "    </tr>\n",
       "    <tr>\n",
       "      <th>...</th>\n",
       "      <td>...</td>\n",
       "      <td>...</td>\n",
       "    </tr>\n",
       "    <tr>\n",
       "      <th>72287</th>\n",
       "      <td>Business Analyst</td>\n",
       "      <td>ability construct complex sql statement analyz...</td>\n",
       "    </tr>\n",
       "    <tr>\n",
       "      <th>72288</th>\n",
       "      <td>Business Analyst</td>\n",
       "      <td>join u pursue disruptive new vision make machi...</td>\n",
       "    </tr>\n",
       "    <tr>\n",
       "      <th>72289</th>\n",
       "      <td>Business Analyst</td>\n",
       "      <td>duty high level independent decision making au...</td>\n",
       "    </tr>\n",
       "    <tr>\n",
       "      <th>72290</th>\n",
       "      <td>Business Analyst</td>\n",
       "      <td>crowdstrike leading provider next-generation e...</td>\n",
       "    </tr>\n",
       "    <tr>\n",
       "      <th>72291</th>\n",
       "      <td>Business Analyst</td>\n",
       "      <td>manager competitive intelligence driving force...</td>\n",
       "    </tr>\n",
       "  </tbody>\n",
       "</table>\n",
       "<p>72292 rows × 2 columns</p>\n",
       "</div>"
      ],
      "text/plain": [
       "                                 Query  \\\n",
       "0             Administrative Assistant   \n",
       "1             Administrative Assistant   \n",
       "2             Administrative Assistant   \n",
       "3                 Sales Representative   \n",
       "4      Customer Service Representative   \n",
       "...                                ...   \n",
       "72287                 Business Analyst   \n",
       "72288                 Business Analyst   \n",
       "72289                 Business Analyst   \n",
       "72290                 Business Analyst   \n",
       "72291                 Business Analyst   \n",
       "\n",
       "                                             Description  \n",
       "0      This Administrative Assistant position is resp...  \n",
       "1      ADMINISTRATIVE ASSISTANT Part Time The West Or...  \n",
       "2      Administrative Assistant -  In Bus 26yrs Fashi...  \n",
       "3      Are you ready for something new? Are you tired...  \n",
       "4      Superior Staff Resources is currently seeking ...  \n",
       "...                                                  ...  \n",
       "72287  ability construct complex sql statement analyz...  \n",
       "72288  join u pursue disruptive new vision make machi...  \n",
       "72289  duty high level independent decision making au...  \n",
       "72290  crowdstrike leading provider next-generation e...  \n",
       "72291  manager competitive intelligence driving force...  \n",
       "\n",
       "[72292 rows x 2 columns]"
      ]
     },
     "execution_count": 11,
     "metadata": {},
     "output_type": "execute_result"
    }
   ],
   "source": [
    "data = pd.read_csv(r'../Data/JD.csv',usecols = ['Query','Description'])\n",
    "data"
   ]
  },
  {
   "cell_type": "code",
   "execution_count": 12,
   "metadata": {},
   "outputs": [
    {
     "data": {
      "text/plain": [
       "Administrative Assistant                                      4395\n",
       "Customer Service Representative                               4200\n",
       "Own Your Own Franchise!                                       3701\n",
       "Sales Representative                                          3556\n",
       "Mobile Tool Sales / Franchise Distributor                     3275\n",
       "Retail Wireless Sales Consultant                              3194\n",
       "Sales / Franchise                                             3120\n",
       "Project Manager                                               2845\n",
       "Staff Accountant                                              2834\n",
       "Retail Sales Associate                                        2769\n",
       "Business Analyst                                              2420\n",
       "Sales / Customer Service – Part or Full time – Summer Work    2419\n",
       "Sales Representative / Account Manager /  Customer Service    2412\n",
       "Senior Accountant                                             2216\n",
       "Jani-King Franchise Business Opportunity                      2196\n",
       "Benefits Consultant                                           2049\n",
       "Store Manager                                                 2021\n",
       "Account Representative                                        1977\n",
       "Account Executive                                             1876\n",
       "Maintenance Technician                                        1834\n",
       "Customer Service - Sales Representative - Part Time Work      1823\n",
       "Java Developer                                                1796\n",
       "Financial Analyst                                             1754\n",
       "Inside Sales Representative                                   1740\n",
       "Cashier                                                       1717\n",
       "Sales Management Trainee                                      1708\n",
       "Restaurant Manager                                            1679\n",
       "Executive Assistant                                           1616\n",
       "Physical Therapist                                            1575\n",
       "Receptionist                                                  1575\n",
       "Name: Query, dtype: int64"
      ]
     },
     "execution_count": 12,
     "metadata": {},
     "output_type": "execute_result"
    }
   ],
   "source": [
    "data.Query.value_counts()"
   ]
  },
  {
   "cell_type": "markdown",
   "metadata": {},
   "source": [
    "# data clean"
   ]
  },
  {
   "cell_type": "code",
   "execution_count": 15,
   "metadata": {},
   "outputs": [],
   "source": [
    "data = data.reset_index(drop=True)\n",
    "REPLACE_BY_SPACE_RE = re.compile('[/(){}\\[\\]\\|@,;]')\n",
    "BAD_SYMBOLS_RE = re.compile('[^0-9a-z #+_]')\n",
    "\n",
    "def clean_text(text):\n",
    "#     text = BeautifulSoup(text, \"lxml\").text\n",
    "    cleanr = re.compile('<.*?>|&([a-z0-9]+|#[0-9]{1,6}|#x[0-9a-f]{1,6});')\n",
    "#     pat = re.compile('<[^>]+>', re.S)\n",
    "    text = cleanr.sub(' ', text)\n",
    "    \n",
    "    text = text.replace('\\\\n', ' ').replace('\\\\r', ' ').replace('\\r', ' ').replace('\\n', ' ')\n",
    "    text = text.lower() # lowercase text\n",
    "    text = REPLACE_BY_SPACE_RE.sub(' ', text) # replace REPLACE_BY_SPACE_RE symbols by space in text. substitute the matched string in REPLACE_BY_SPACE_RE with space.\n",
    "    text = BAD_SYMBOLS_RE.sub('', text) # remove symbols which are in BAD_SYMBOLS_RE from text. substitute the matched string in BAD_SYMBOLS_RE with nothing. \n",
    "#     text = text.replace('x', '')\n",
    "#    text = re.sub(r'\\W+', '', text)\n",
    "    text = ' '.join(word for word in text.split()) # remove stopwors from text\n",
    "    return text"
   ]
  },
  {
   "cell_type": "code",
   "execution_count": 16,
   "metadata": {},
   "outputs": [
    {
     "data": {
      "text/html": [
       "<div>\n",
       "<style scoped>\n",
       "    .dataframe tbody tr th:only-of-type {\n",
       "        vertical-align: middle;\n",
       "    }\n",
       "\n",
       "    .dataframe tbody tr th {\n",
       "        vertical-align: top;\n",
       "    }\n",
       "\n",
       "    .dataframe thead th {\n",
       "        text-align: right;\n",
       "    }\n",
       "</style>\n",
       "<table border=\"1\" class=\"dataframe\">\n",
       "  <thead>\n",
       "    <tr style=\"text-align: right;\">\n",
       "      <th></th>\n",
       "      <th>Query</th>\n",
       "      <th>Description</th>\n",
       "    </tr>\n",
       "  </thead>\n",
       "  <tbody>\n",
       "    <tr>\n",
       "      <th>0</th>\n",
       "      <td>administrative assistant</td>\n",
       "      <td>this administrative assistant position is resp...</td>\n",
       "    </tr>\n",
       "    <tr>\n",
       "      <th>1</th>\n",
       "      <td>administrative assistant</td>\n",
       "      <td>administrative assistant part time the west or...</td>\n",
       "    </tr>\n",
       "    <tr>\n",
       "      <th>2</th>\n",
       "      <td>administrative assistant</td>\n",
       "      <td>administrative assistant in bus 26yrs fashion ...</td>\n",
       "    </tr>\n",
       "    <tr>\n",
       "      <th>3</th>\n",
       "      <td>sales representative</td>\n",
       "      <td>are you ready for something new are you tired ...</td>\n",
       "    </tr>\n",
       "    <tr>\n",
       "      <th>4</th>\n",
       "      <td>customer service representative</td>\n",
       "      <td>superior staff resources is currently seeking ...</td>\n",
       "    </tr>\n",
       "    <tr>\n",
       "      <th>...</th>\n",
       "      <td>...</td>\n",
       "      <td>...</td>\n",
       "    </tr>\n",
       "    <tr>\n",
       "      <th>72287</th>\n",
       "      <td>business analyst</td>\n",
       "      <td>ability construct complex sql statement analyz...</td>\n",
       "    </tr>\n",
       "    <tr>\n",
       "      <th>72288</th>\n",
       "      <td>business analyst</td>\n",
       "      <td>join u pursue disruptive new vision make machi...</td>\n",
       "    </tr>\n",
       "    <tr>\n",
       "      <th>72289</th>\n",
       "      <td>business analyst</td>\n",
       "      <td>duty high level independent decision making au...</td>\n",
       "    </tr>\n",
       "    <tr>\n",
       "      <th>72290</th>\n",
       "      <td>business analyst</td>\n",
       "      <td>crowdstrike leading provider nextgeneration en...</td>\n",
       "    </tr>\n",
       "    <tr>\n",
       "      <th>72291</th>\n",
       "      <td>business analyst</td>\n",
       "      <td>manager competitive intelligence driving force...</td>\n",
       "    </tr>\n",
       "  </tbody>\n",
       "</table>\n",
       "<p>72292 rows × 2 columns</p>\n",
       "</div>"
      ],
      "text/plain": [
       "                                 Query  \\\n",
       "0             administrative assistant   \n",
       "1             administrative assistant   \n",
       "2             administrative assistant   \n",
       "3                 sales representative   \n",
       "4      customer service representative   \n",
       "...                                ...   \n",
       "72287                 business analyst   \n",
       "72288                 business analyst   \n",
       "72289                 business analyst   \n",
       "72290                 business analyst   \n",
       "72291                 business analyst   \n",
       "\n",
       "                                             Description  \n",
       "0      this administrative assistant position is resp...  \n",
       "1      administrative assistant part time the west or...  \n",
       "2      administrative assistant in bus 26yrs fashion ...  \n",
       "3      are you ready for something new are you tired ...  \n",
       "4      superior staff resources is currently seeking ...  \n",
       "...                                                  ...  \n",
       "72287  ability construct complex sql statement analyz...  \n",
       "72288  join u pursue disruptive new vision make machi...  \n",
       "72289  duty high level independent decision making au...  \n",
       "72290  crowdstrike leading provider nextgeneration en...  \n",
       "72291  manager competitive intelligence driving force...  \n",
       "\n",
       "[72292 rows x 2 columns]"
      ]
     },
     "execution_count": 16,
     "metadata": {},
     "output_type": "execute_result"
    }
   ],
   "source": [
    "data['Description'] = data['Description'].apply(clean_text)\n",
    "data['Query'] = data['Query'].apply(clean_text)\n",
    "data"
   ]
  },
  {
   "cell_type": "markdown",
   "metadata": {},
   "source": [
    "# sample"
   ]
  },
  {
   "cell_type": "code",
   "execution_count": 17,
   "metadata": {},
   "outputs": [
    {
     "data": {
      "text/plain": [
       "'this administrative assistant position is responsible for performing a variety of clerical and administrative support functions in the areas of communications data entry and retrieval typing filing copying and coordination of related administrative activities job requirements attention to detail ability to work in a fast paced environment invoicing proficient in word excel and outlook other administrative responsibilities as needed qualifications high school diploma administrative assistant experience 12 years work experience working knowledge of all basic office machines fax copier 10key etc strong verbal and written communication skills strong work ethic'"
      ]
     },
     "execution_count": 17,
     "metadata": {},
     "output_type": "execute_result"
    }
   ],
   "source": [
    "data['Description'][0]"
   ]
  },
  {
   "cell_type": "code",
   "execution_count": 18,
   "metadata": {},
   "outputs": [],
   "source": [
    "import re\n",
    "from bs4 import BeautifulSoup\n",
    "\n",
    "def string_process(l):\n",
    "#     temp_list = [str(i).replace('\\\\n', ' ').replace('\\\\r', ' ').replace('\\r', ' ').replace('\\n', ' ').strip().lower() for i in nlp(l)]\n",
    "#     temp_string = ' '.join( temp_list )\n",
    "#     temp_list = [str(i) for i in nlp(temp_string)] \n",
    "    temp_list = l.split()\n",
    "    return temp_list"
   ]
  },
  {
   "cell_type": "code",
   "execution_count": 19,
   "metadata": {},
   "outputs": [
    {
     "name": "stdout",
     "output_type": "stream",
     "text": [
      "Collecting spacy\n",
      "\u001b[?25l  Downloading https://files.pythonhosted.org/packages/10/b5/c7a92c7ce5d4b353b70b4b5b4385687206c8b230ddfe08746ab0fd310a3a/spacy-2.3.2-cp36-cp36m-manylinux1_x86_64.whl (9.9MB)\n",
      "\u001b[K     |████████████████████████████████| 10.0MB 2.8MB/s ta 0:00:01\n",
      "\u001b[?25hCollecting preshed<3.1.0,>=3.0.2\n",
      "\u001b[?25l  Downloading https://files.pythonhosted.org/packages/db/6b/e07fad36913879757c90ba03d6fb7f406f7279e11dcefc105ee562de63ea/preshed-3.0.2-cp36-cp36m-manylinux1_x86_64.whl (119kB)\n",
      "\u001b[K     |████████████████████████████████| 122kB 3.3MB/s eta 0:00:01\n",
      "\u001b[?25hCollecting wasabi<1.1.0,>=0.4.0\n",
      "  Downloading https://files.pythonhosted.org/packages/1b/10/55f3cf6b52cc89107b3e1b88fcf39719392b377a3d78ca61da85934d0d10/wasabi-0.8.0-py3-none-any.whl\n",
      "Collecting catalogue<1.1.0,>=0.0.7\n",
      "  Downloading https://files.pythonhosted.org/packages/6c/f9/9a5658e2f56932e41eb264941f9a2cb7f3ce41a80cb36b2af6ab78e2f8af/catalogue-1.0.0-py2.py3-none-any.whl\n",
      "Requirement already satisfied: requests<3.0.0,>=2.13.0 in /usr/local/lib/python3.6/dist-packages (from spacy) (2.22.0)\n",
      "Collecting plac<1.2.0,>=0.9.6\n",
      "  Downloading https://files.pythonhosted.org/packages/86/85/40b8f66c2dd8f4fd9f09d59b22720cffecf1331e788b8a0cab5bafb353d1/plac-1.1.3-py2.py3-none-any.whl\n",
      "Requirement already satisfied: setuptools in /usr/local/lib/python3.6/dist-packages (from spacy) (44.0.0)\n",
      "Collecting murmurhash<1.1.0,>=0.28.0\n",
      "  Downloading https://files.pythonhosted.org/packages/a6/e6/63f160a4fdf0e875d16b28f972083606d8d54f56cd30cb8929f9a1ee700e/murmurhash-1.0.2-cp36-cp36m-manylinux1_x86_64.whl\n",
      "Requirement already satisfied: numpy>=1.15.0 in /usr/local/lib/python3.6/dist-packages (from spacy) (1.18.1)\n",
      "Collecting cymem<2.1.0,>=2.0.2\n",
      "  Downloading https://files.pythonhosted.org/packages/e7/b5/3e1714ebda8fd7c5859f9b216e381adc0a38b962f071568fd00d67e1b1ca/cymem-2.0.3-cp36-cp36m-manylinux1_x86_64.whl\n",
      "Collecting srsly<1.1.0,>=1.0.2\n",
      "\u001b[?25l  Downloading https://files.pythonhosted.org/packages/0e/9a/70bd934dd4d25545c9aa6c8cd4edbac2a33ba9c915439a9209b69f0ec0ad/srsly-1.0.2-cp36-cp36m-manylinux1_x86_64.whl (185kB)\n",
      "\u001b[K     |████████████████████████████████| 194kB 2.8MB/s eta 0:00:01\n",
      "\u001b[?25hCollecting blis<0.5.0,>=0.4.0\n",
      "\u001b[?25l  Downloading https://files.pythonhosted.org/packages/41/19/f95c75562d18eb27219df3a3590b911e78d131b68466ad79fdf5847eaac4/blis-0.4.1-cp36-cp36m-manylinux1_x86_64.whl (3.7MB)\n",
      "\u001b[K     |████████████████████████████████| 3.7MB 3.2MB/s eta 0:00:01\n",
      "\u001b[?25hCollecting tqdm<5.0.0,>=4.38.0\n",
      "\u001b[?25l  Downloading https://files.pythonhosted.org/packages/28/7e/281edb5bc3274dfb894d90f4dbacfceaca381c2435ec6187a2c6f329aed7/tqdm-4.48.2-py2.py3-none-any.whl (68kB)\n",
      "\u001b[K     |████████████████████████████████| 71kB 7.1MB/s  eta 0:00:01\n",
      "\u001b[?25hCollecting thinc==7.4.1\n",
      "\u001b[?25l  Downloading https://files.pythonhosted.org/packages/10/ae/ef3ae5e93639c0ef8e3eb32e3c18341e511b3c515fcfc603f4b808087651/thinc-7.4.1-cp36-cp36m-manylinux1_x86_64.whl (2.1MB)\n",
      "\u001b[K     |████████████████████████████████| 2.1MB 17.1MB/s eta 0:00:01\n",
      "\u001b[?25hRequirement already satisfied: importlib-metadata>=0.20; python_version < \"3.8\" in /usr/local/lib/python3.6/dist-packages (from catalogue<1.1.0,>=0.0.7->spacy) (1.4.0)\n",
      "Requirement already satisfied: certifi>=2017.4.17 in /usr/local/lib/python3.6/dist-packages (from requests<3.0.0,>=2.13.0->spacy) (2019.11.28)\n",
      "Requirement already satisfied: chardet<3.1.0,>=3.0.2 in /usr/local/lib/python3.6/dist-packages (from requests<3.0.0,>=2.13.0->spacy) (3.0.4)\n",
      "Requirement already satisfied: idna<2.9,>=2.5 in /usr/lib/python3/dist-packages (from requests<3.0.0,>=2.13.0->spacy) (2.6)\n",
      "Requirement already satisfied: urllib3!=1.25.0,!=1.25.1,<1.26,>=1.21.1 in /usr/local/lib/python3.6/dist-packages (from requests<3.0.0,>=2.13.0->spacy) (1.25.7)\n",
      "Requirement already satisfied: zipp>=0.5 in /usr/local/lib/python3.6/dist-packages (from importlib-metadata>=0.20; python_version < \"3.8\"->catalogue<1.1.0,>=0.0.7->spacy) (0.6.0)\n",
      "Requirement already satisfied: more-itertools in /usr/local/lib/python3.6/dist-packages (from zipp>=0.5->importlib-metadata>=0.20; python_version < \"3.8\"->catalogue<1.1.0,>=0.0.7->spacy) (8.0.2)\n",
      "Installing collected packages: murmurhash, cymem, preshed, wasabi, catalogue, plac, srsly, blis, tqdm, thinc, spacy\n",
      "Successfully installed blis-0.4.1 catalogue-1.0.0 cymem-2.0.3 murmurhash-1.0.2 plac-1.1.3 preshed-3.0.2 spacy-2.3.2 srsly-1.0.2 thinc-7.4.1 tqdm-4.48.2 wasabi-0.8.0\n",
      "\u001b[33mWARNING: You are using pip version 19.3.1; however, version 20.2.2 is available.\n",
      "You should consider upgrading via the 'pip install --upgrade pip' command.\u001b[0m\n"
     ]
    }
   ],
   "source": [
    "!pip install spacy"
   ]
  },
  {
   "cell_type": "code",
   "execution_count": 20,
   "metadata": {},
   "outputs": [
    {
     "data": {
      "text/html": [
       "<div>\n",
       "<style scoped>\n",
       "    .dataframe tbody tr th:only-of-type {\n",
       "        vertical-align: middle;\n",
       "    }\n",
       "\n",
       "    .dataframe tbody tr th {\n",
       "        vertical-align: top;\n",
       "    }\n",
       "\n",
       "    .dataframe thead th {\n",
       "        text-align: right;\n",
       "    }\n",
       "</style>\n",
       "<table border=\"1\" class=\"dataframe\">\n",
       "  <thead>\n",
       "    <tr style=\"text-align: right;\">\n",
       "      <th></th>\n",
       "      <th>Query</th>\n",
       "      <th>Description</th>\n",
       "      <th>text_clean</th>\n",
       "      <th>len</th>\n",
       "    </tr>\n",
       "  </thead>\n",
       "  <tbody>\n",
       "    <tr>\n",
       "      <th>0</th>\n",
       "      <td>administrative assistant</td>\n",
       "      <td>this administrative assistant position is resp...</td>\n",
       "      <td>[this, administrative, assistant, position, is...</td>\n",
       "      <td>90</td>\n",
       "    </tr>\n",
       "    <tr>\n",
       "      <th>1</th>\n",
       "      <td>administrative assistant</td>\n",
       "      <td>administrative assistant part time the west or...</td>\n",
       "      <td>[administrative, assistant, part, time, the, w...</td>\n",
       "      <td>70</td>\n",
       "    </tr>\n",
       "    <tr>\n",
       "      <th>2</th>\n",
       "      <td>administrative assistant</td>\n",
       "      <td>administrative assistant in bus 26yrs fashion ...</td>\n",
       "      <td>[administrative, assistant, in, bus, 26yrs, fa...</td>\n",
       "      <td>308</td>\n",
       "    </tr>\n",
       "    <tr>\n",
       "      <th>3</th>\n",
       "      <td>sales representative</td>\n",
       "      <td>are you ready for something new are you tired ...</td>\n",
       "      <td>[are, you, ready, for, something, new, are, yo...</td>\n",
       "      <td>83</td>\n",
       "    </tr>\n",
       "    <tr>\n",
       "      <th>4</th>\n",
       "      <td>customer service representative</td>\n",
       "      <td>superior staff resources is currently seeking ...</td>\n",
       "      <td>[superior, staff, resources, is, currently, se...</td>\n",
       "      <td>254</td>\n",
       "    </tr>\n",
       "    <tr>\n",
       "      <th>...</th>\n",
       "      <td>...</td>\n",
       "      <td>...</td>\n",
       "      <td>...</td>\n",
       "      <td>...</td>\n",
       "    </tr>\n",
       "    <tr>\n",
       "      <th>72287</th>\n",
       "      <td>business analyst</td>\n",
       "      <td>ability construct complex sql statement analyz...</td>\n",
       "      <td>[ability, construct, complex, sql, statement, ...</td>\n",
       "      <td>148</td>\n",
       "    </tr>\n",
       "    <tr>\n",
       "      <th>72288</th>\n",
       "      <td>business analyst</td>\n",
       "      <td>join u pursue disruptive new vision make machi...</td>\n",
       "      <td>[join, u, pursue, disruptive, new, vision, mak...</td>\n",
       "      <td>265</td>\n",
       "    </tr>\n",
       "    <tr>\n",
       "      <th>72289</th>\n",
       "      <td>business analyst</td>\n",
       "      <td>duty high level independent decision making au...</td>\n",
       "      <td>[duty, high, level, independent, decision, mak...</td>\n",
       "      <td>77</td>\n",
       "    </tr>\n",
       "    <tr>\n",
       "      <th>72290</th>\n",
       "      <td>business analyst</td>\n",
       "      <td>crowdstrike leading provider nextgeneration en...</td>\n",
       "      <td>[crowdstrike, leading, provider, nextgeneratio...</td>\n",
       "      <td>315</td>\n",
       "    </tr>\n",
       "    <tr>\n",
       "      <th>72291</th>\n",
       "      <td>business analyst</td>\n",
       "      <td>manager competitive intelligence driving force...</td>\n",
       "      <td>[manager, competitive, intelligence, driving, ...</td>\n",
       "      <td>341</td>\n",
       "    </tr>\n",
       "  </tbody>\n",
       "</table>\n",
       "<p>67588 rows × 4 columns</p>\n",
       "</div>"
      ],
      "text/plain": [
       "                                 Query  \\\n",
       "0             administrative assistant   \n",
       "1             administrative assistant   \n",
       "2             administrative assistant   \n",
       "3                 sales representative   \n",
       "4      customer service representative   \n",
       "...                                ...   \n",
       "72287                 business analyst   \n",
       "72288                 business analyst   \n",
       "72289                 business analyst   \n",
       "72290                 business analyst   \n",
       "72291                 business analyst   \n",
       "\n",
       "                                             Description  \\\n",
       "0      this administrative assistant position is resp...   \n",
       "1      administrative assistant part time the west or...   \n",
       "2      administrative assistant in bus 26yrs fashion ...   \n",
       "3      are you ready for something new are you tired ...   \n",
       "4      superior staff resources is currently seeking ...   \n",
       "...                                                  ...   \n",
       "72287  ability construct complex sql statement analyz...   \n",
       "72288  join u pursue disruptive new vision make machi...   \n",
       "72289  duty high level independent decision making au...   \n",
       "72290  crowdstrike leading provider nextgeneration en...   \n",
       "72291  manager competitive intelligence driving force...   \n",
       "\n",
       "                                              text_clean  len  \n",
       "0      [this, administrative, assistant, position, is...   90  \n",
       "1      [administrative, assistant, part, time, the, w...   70  \n",
       "2      [administrative, assistant, in, bus, 26yrs, fa...  308  \n",
       "3      [are, you, ready, for, something, new, are, yo...   83  \n",
       "4      [superior, staff, resources, is, currently, se...  254  \n",
       "...                                                  ...  ...  \n",
       "72287  [ability, construct, complex, sql, statement, ...  148  \n",
       "72288  [join, u, pursue, disruptive, new, vision, mak...  265  \n",
       "72289  [duty, high, level, independent, decision, mak...   77  \n",
       "72290  [crowdstrike, leading, provider, nextgeneratio...  315  \n",
       "72291  [manager, competitive, intelligence, driving, ...  341  \n",
       "\n",
       "[67588 rows x 4 columns]"
      ]
     },
     "execution_count": 20,
     "metadata": {},
     "output_type": "execute_result"
    }
   ],
   "source": [
    "data['text_clean'] = data['Description'].apply( string_process )\n",
    "data['len'] = data['text_clean'].apply(len)\n",
    "data = data[data['len'] < 500]\n",
    "data"
   ]
  },
  {
   "cell_type": "code",
   "execution_count": 22,
   "metadata": {},
   "outputs": [
    {
     "name": "stdout",
     "output_type": "stream",
     "text": [
      "Collecting gensim\n",
      "\u001b[?25l  Downloading https://files.pythonhosted.org/packages/2b/e0/fa6326251692056dc880a64eb22117e03269906ba55a6864864d24ec8b4e/gensim-3.8.3-cp36-cp36m-manylinux1_x86_64.whl (24.2MB)\n",
      "\u001b[K     |████████████████████████████████| 24.2MB 9.3MB/s eta 0:00:01\n",
      "\u001b[?25hRequirement already satisfied: scipy>=0.18.1 in /usr/local/lib/python3.6/dist-packages (from gensim) (1.4.1)\n",
      "Collecting smart-open>=1.8.1\n",
      "\u001b[?25l  Downloading https://files.pythonhosted.org/packages/91/6f/788e657fb513deebadfbb38b346d4878b2fded0f72fe7d937b1646137f46/smart_open-2.1.1.tar.gz (111kB)\n",
      "\u001b[K     |████████████████████████████████| 112kB 18.1MB/s eta 0:00:01\n",
      "\u001b[?25hRequirement already satisfied: six>=1.5.0 in /usr/local/lib/python3.6/dist-packages (from gensim) (1.13.0)\n",
      "Requirement already satisfied: numpy>=1.11.3 in /usr/local/lib/python3.6/dist-packages (from gensim) (1.18.1)\n",
      "Requirement already satisfied: requests in /usr/local/lib/python3.6/dist-packages (from smart-open>=1.8.1->gensim) (2.22.0)\n",
      "Collecting boto\n",
      "\u001b[?25l  Downloading https://files.pythonhosted.org/packages/23/10/c0b78c27298029e4454a472a1919bde20cb182dab1662cec7f2ca1dcc523/boto-2.49.0-py2.py3-none-any.whl (1.4MB)\n",
      "\u001b[K     |████████████████████████████████| 1.4MB 16.2MB/s eta 0:00:01\n",
      "\u001b[?25hCollecting boto3\n",
      "\u001b[?25l  Downloading https://files.pythonhosted.org/packages/e2/09/a340fb1f3cac4aada5072384df7831d6ca7cb08b3fed5651e60c3755f4fb/boto3-1.14.51-py2.py3-none-any.whl (129kB)\n",
      "\u001b[K     |████████████████████████████████| 133kB 19.1MB/s eta 0:00:01\n",
      "\u001b[?25hRequirement already satisfied: idna<2.9,>=2.5 in /usr/lib/python3/dist-packages (from requests->smart-open>=1.8.1->gensim) (2.6)\n",
      "Requirement already satisfied: urllib3!=1.25.0,!=1.25.1,<1.26,>=1.21.1 in /usr/local/lib/python3.6/dist-packages (from requests->smart-open>=1.8.1->gensim) (1.25.7)\n",
      "Requirement already satisfied: certifi>=2017.4.17 in /usr/local/lib/python3.6/dist-packages (from requests->smart-open>=1.8.1->gensim) (2019.11.28)\n",
      "Requirement already satisfied: chardet<3.1.0,>=3.0.2 in /usr/local/lib/python3.6/dist-packages (from requests->smart-open>=1.8.1->gensim) (3.0.4)\n",
      "Collecting botocore<1.18.0,>=1.17.51\n",
      "\u001b[?25l  Downloading https://files.pythonhosted.org/packages/17/87/28b2371e0e4d02a80c6748db2cde07f184ef574ad637677ba24ee049e081/botocore-1.17.51-py2.py3-none-any.whl (6.6MB)\n",
      "\u001b[K     |████████████████████████████████| 6.6MB 4.8MB/s eta 0:00:01\n",
      "\u001b[?25hCollecting s3transfer<0.4.0,>=0.3.0\n",
      "\u001b[?25l  Downloading https://files.pythonhosted.org/packages/69/79/e6afb3d8b0b4e96cefbdc690f741d7dd24547ff1f94240c997a26fa908d3/s3transfer-0.3.3-py2.py3-none-any.whl (69kB)\n",
      "\u001b[K     |████████████████████████████████| 71kB 1.7MB/s eta 0:00:01\n",
      "\u001b[?25hCollecting jmespath<1.0.0,>=0.7.1\n",
      "  Downloading https://files.pythonhosted.org/packages/07/cb/5f001272b6faeb23c1c9e0acc04d48eaaf5c862c17709d20e3469c6e0139/jmespath-0.10.0-py2.py3-none-any.whl\n",
      "Requirement already satisfied: python-dateutil<3.0.0,>=2.1 in /usr/local/lib/python3.6/dist-packages (from botocore<1.18.0,>=1.17.51->boto3->smart-open>=1.8.1->gensim) (2.8.1)\n",
      "Collecting docutils<0.16,>=0.10\n",
      "\u001b[?25l  Downloading https://files.pythonhosted.org/packages/22/cd/a6aa959dca619918ccb55023b4cb151949c64d4d5d55b3f4ffd7eee0c6e8/docutils-0.15.2-py3-none-any.whl (547kB)\n",
      "\u001b[K     |████████████████████████████████| 552kB 2.3MB/s eta 0:00:01\n",
      "\u001b[?25hBuilding wheels for collected packages: smart-open\n",
      "  Building wheel for smart-open (setup.py) ... \u001b[?25ldone\n",
      "\u001b[?25h  Created wheel for smart-open: filename=smart_open-2.1.1-cp36-none-any.whl size=119854 sha256=49d14b934daa582105b9e1c58149a2a4c9fb17d3a64a7faea2a9c8ef2f5372d4\n",
      "  Stored in directory: /root/.cache/pip/wheels/17/49/ea/74939572d8d071ff3c63a98e3e8dadef1117cc93c33efaa504\n",
      "Successfully built smart-open\n",
      "Installing collected packages: boto, jmespath, docutils, botocore, s3transfer, boto3, smart-open, gensim\n",
      "Successfully installed boto-2.49.0 boto3-1.14.51 botocore-1.17.51 docutils-0.15.2 gensim-3.8.3 jmespath-0.10.0 s3transfer-0.3.3 smart-open-2.1.1\n",
      "\u001b[33mWARNING: You are using pip version 19.3.1; however, version 20.2.2 is available.\n",
      "You should consider upgrading via the 'pip install --upgrade pip' command.\u001b[0m\n"
     ]
    }
   ],
   "source": [
    "!pip install gensim"
   ]
  },
  {
   "cell_type": "code",
   "execution_count": 23,
   "metadata": {},
   "outputs": [],
   "source": [
    "import numpy as np\n",
    "from gensim.models import KeyedVectors"
   ]
  },
  {
   "cell_type": "code",
   "execution_count": 24,
   "metadata": {},
   "outputs": [],
   "source": [
    "# load the Stanford GloVe model\n",
    "filename = r'../word2vec/glove.6B.100d.txt.word2vec'\n",
    "model = KeyedVectors.load_word2vec_format(filename, binary=False)"
   ]
  },
  {
   "cell_type": "code",
   "execution_count": 25,
   "metadata": {},
   "outputs": [
    {
     "name": "stderr",
     "output_type": "stream",
     "text": [
      "/usr/local/lib/python3.6/dist-packages/ipykernel_launcher.py:2: DeprecationWarning: Call to deprecated `wv` (Attribute will be removed in 4.0.0, use self instead).\n",
      "  \n",
      "/usr/local/lib/python3.6/dist-packages/ipykernel_launcher.py:5: DeprecationWarning: Call to deprecated `wv` (Attribute will be removed in 4.0.0, use self instead).\n",
      "  \"\"\"\n"
     ]
    }
   ],
   "source": [
    "word2idx = {\"PAD\": 0,\"UNK\": 1} # 初始化 `[word : token]` 字典，后期 tokenize 语料库就是用该词典。\n",
    "vocab_list = [(k, model.wv[k]) for k, v in model.wv.vocab.items()]\n",
    "\n",
    "# 存储所有 word2vec 中所有向量的数组，留意其中多一位，词向量全为 0， 用于 padding\n",
    "embeddings_matrix = np.zeros((len(model.wv.vocab.items()) + 2, model.vector_size))\n",
    "for i in range(len(vocab_list)):\n",
    "    word = vocab_list[i][0]\n",
    "    word2idx[word] = i + 2\n",
    "    embeddings_matrix[i + 2] = vocab_list[i][1]\n",
    "    \n",
    "embeddings_matrix[1] = np.mean(embeddings_matrix, axis=0)"
   ]
  },
  {
   "cell_type": "code",
   "execution_count": 26,
   "metadata": {},
   "outputs": [],
   "source": [
    "max_seq_length = 500"
   ]
  },
  {
   "cell_type": "code",
   "execution_count": 27,
   "metadata": {},
   "outputs": [],
   "source": [
    "def PreProcessInputData( text ):\n",
    "    word_labels = []\n",
    "\n",
    "    for sequence in text:\n",
    "        len_text = len(sequence)\n",
    "\n",
    "        ###########################################\n",
    "        temp_word_labels = []\n",
    "        for w in sequence:\n",
    "            temp_word_labels.append( word2idx.get( str(w).lower(),1 ) )\n",
    "\n",
    "        ###########################################\n",
    "        temp_word_labels = temp_word_labels + [0] * ( max_seq_length - len_text )\n",
    "        word_labels.append( temp_word_labels )\n",
    "\n",
    "    return word_labels"
   ]
  },
  {
   "cell_type": "code",
   "execution_count": 28,
   "metadata": {},
   "outputs": [],
   "source": [
    "def get_argmax( l ):\n",
    "    return np.argmax(l)"
   ]
  },
  {
   "cell_type": "code",
   "execution_count": 29,
   "metadata": {},
   "outputs": [],
   "source": [
    "XX = np.array( PreProcessInputData( data['text_clean'] ) )\n",
    "YY = pd.get_dummies(data['Query']).values"
   ]
  },
  {
   "cell_type": "code",
   "execution_count": 30,
   "metadata": {},
   "outputs": [
    {
     "name": "stderr",
     "output_type": "stream",
     "text": [
      "/usr/local/lib/python3.6/dist-packages/ipykernel_launcher.py:1: SettingWithCopyWarning: \n",
      "A value is trying to be set on a copy of a slice from a DataFrame.\n",
      "Try using .loc[row_indexer,col_indexer] = value instead\n",
      "\n",
      "See the caveats in the documentation: https://pandas.pydata.org/pandas-docs/stable/user_guide/indexing.html#returning-a-view-versus-a-copy\n",
      "  \"\"\"Entry point for launching an IPython kernel.\n",
      "/usr/local/lib/python3.6/dist-packages/ipykernel_launcher.py:2: SettingWithCopyWarning: \n",
      "A value is trying to be set on a copy of a slice from a DataFrame.\n",
      "Try using .loc[row_indexer,col_indexer] = value instead\n",
      "\n",
      "See the caveats in the documentation: https://pandas.pydata.org/pandas-docs/stable/user_guide/indexing.html#returning-a-view-versus-a-copy\n",
      "  \n"
     ]
    },
    {
     "data": {
      "text/html": [
       "<div>\n",
       "<style scoped>\n",
       "    .dataframe tbody tr th:only-of-type {\n",
       "        vertical-align: middle;\n",
       "    }\n",
       "\n",
       "    .dataframe tbody tr th {\n",
       "        vertical-align: top;\n",
       "    }\n",
       "\n",
       "    .dataframe thead th {\n",
       "        text-align: right;\n",
       "    }\n",
       "</style>\n",
       "<table border=\"1\" class=\"dataframe\">\n",
       "  <thead>\n",
       "    <tr style=\"text-align: right;\">\n",
       "      <th></th>\n",
       "      <th>Query</th>\n",
       "      <th>Description</th>\n",
       "      <th>text_clean</th>\n",
       "      <th>len</th>\n",
       "      <th>category</th>\n",
       "    </tr>\n",
       "  </thead>\n",
       "  <tbody>\n",
       "    <tr>\n",
       "      <th>0</th>\n",
       "      <td>administrative assistant</td>\n",
       "      <td>this administrative assistant position is resp...</td>\n",
       "      <td>[this, administrative, assistant, position, is...</td>\n",
       "      <td>90</td>\n",
       "      <td>2</td>\n",
       "    </tr>\n",
       "    <tr>\n",
       "      <th>1</th>\n",
       "      <td>administrative assistant</td>\n",
       "      <td>administrative assistant part time the west or...</td>\n",
       "      <td>[administrative, assistant, part, time, the, w...</td>\n",
       "      <td>70</td>\n",
       "      <td>2</td>\n",
       "    </tr>\n",
       "    <tr>\n",
       "      <th>2</th>\n",
       "      <td>administrative assistant</td>\n",
       "      <td>administrative assistant in bus 26yrs fashion ...</td>\n",
       "      <td>[administrative, assistant, in, bus, 26yrs, fa...</td>\n",
       "      <td>308</td>\n",
       "      <td>2</td>\n",
       "    </tr>\n",
       "    <tr>\n",
       "      <th>3</th>\n",
       "      <td>sales representative</td>\n",
       "      <td>are you ready for something new are you tired ...</td>\n",
       "      <td>[are, you, ready, for, something, new, are, yo...</td>\n",
       "      <td>83</td>\n",
       "      <td>24</td>\n",
       "    </tr>\n",
       "    <tr>\n",
       "      <th>4</th>\n",
       "      <td>customer service representative</td>\n",
       "      <td>superior staff resources is currently seeking ...</td>\n",
       "      <td>[superior, staff, resources, is, currently, se...</td>\n",
       "      <td>254</td>\n",
       "      <td>6</td>\n",
       "    </tr>\n",
       "    <tr>\n",
       "      <th>...</th>\n",
       "      <td>...</td>\n",
       "      <td>...</td>\n",
       "      <td>...</td>\n",
       "      <td>...</td>\n",
       "      <td>...</td>\n",
       "    </tr>\n",
       "    <tr>\n",
       "      <th>72287</th>\n",
       "      <td>business analyst</td>\n",
       "      <td>ability construct complex sql statement analyz...</td>\n",
       "      <td>[ability, construct, complex, sql, statement, ...</td>\n",
       "      <td>148</td>\n",
       "      <td>4</td>\n",
       "    </tr>\n",
       "    <tr>\n",
       "      <th>72288</th>\n",
       "      <td>business analyst</td>\n",
       "      <td>join u pursue disruptive new vision make machi...</td>\n",
       "      <td>[join, u, pursue, disruptive, new, vision, mak...</td>\n",
       "      <td>265</td>\n",
       "      <td>4</td>\n",
       "    </tr>\n",
       "    <tr>\n",
       "      <th>72289</th>\n",
       "      <td>business analyst</td>\n",
       "      <td>duty high level independent decision making au...</td>\n",
       "      <td>[duty, high, level, independent, decision, mak...</td>\n",
       "      <td>77</td>\n",
       "      <td>4</td>\n",
       "    </tr>\n",
       "    <tr>\n",
       "      <th>72290</th>\n",
       "      <td>business analyst</td>\n",
       "      <td>crowdstrike leading provider nextgeneration en...</td>\n",
       "      <td>[crowdstrike, leading, provider, nextgeneratio...</td>\n",
       "      <td>315</td>\n",
       "      <td>4</td>\n",
       "    </tr>\n",
       "    <tr>\n",
       "      <th>72291</th>\n",
       "      <td>business analyst</td>\n",
       "      <td>manager competitive intelligence driving force...</td>\n",
       "      <td>[manager, competitive, intelligence, driving, ...</td>\n",
       "      <td>341</td>\n",
       "      <td>4</td>\n",
       "    </tr>\n",
       "  </tbody>\n",
       "</table>\n",
       "<p>67588 rows × 5 columns</p>\n",
       "</div>"
      ],
      "text/plain": [
       "                                 Query  \\\n",
       "0             administrative assistant   \n",
       "1             administrative assistant   \n",
       "2             administrative assistant   \n",
       "3                 sales representative   \n",
       "4      customer service representative   \n",
       "...                                ...   \n",
       "72287                 business analyst   \n",
       "72288                 business analyst   \n",
       "72289                 business analyst   \n",
       "72290                 business analyst   \n",
       "72291                 business analyst   \n",
       "\n",
       "                                             Description  \\\n",
       "0      this administrative assistant position is resp...   \n",
       "1      administrative assistant part time the west or...   \n",
       "2      administrative assistant in bus 26yrs fashion ...   \n",
       "3      are you ready for something new are you tired ...   \n",
       "4      superior staff resources is currently seeking ...   \n",
       "...                                                  ...   \n",
       "72287  ability construct complex sql statement analyz...   \n",
       "72288  join u pursue disruptive new vision make machi...   \n",
       "72289  duty high level independent decision making au...   \n",
       "72290  crowdstrike leading provider nextgeneration en...   \n",
       "72291  manager competitive intelligence driving force...   \n",
       "\n",
       "                                              text_clean  len  category  \n",
       "0      [this, administrative, assistant, position, is...   90         2  \n",
       "1      [administrative, assistant, part, time, the, w...   70         2  \n",
       "2      [administrative, assistant, in, bus, 26yrs, fa...  308         2  \n",
       "3      [are, you, ready, for, something, new, are, yo...   83        24  \n",
       "4      [superior, staff, resources, is, currently, se...  254         6  \n",
       "...                                                  ...  ...       ...  \n",
       "72287  [ability, construct, complex, sql, statement, ...  148         4  \n",
       "72288  [join, u, pursue, disruptive, new, vision, mak...  265         4  \n",
       "72289  [duty, high, level, independent, decision, mak...   77         4  \n",
       "72290  [crowdstrike, leading, provider, nextgeneratio...  315         4  \n",
       "72291  [manager, competitive, intelligence, driving, ...  341         4  \n",
       "\n",
       "[67588 rows x 5 columns]"
      ]
     },
     "execution_count": 30,
     "metadata": {},
     "output_type": "execute_result"
    }
   ],
   "source": [
    "data['category'] = list( YY )\n",
    "data['category'] = data['category'].apply( get_argmax )\n",
    "data"
   ]
  },
  {
   "cell_type": "code",
   "execution_count": 31,
   "metadata": {},
   "outputs": [
    {
     "data": {
      "text/plain": [
       "{2: 'administrative assistant',\n",
       " 24: 'sales representative',\n",
       " 6: 'customer service representative',\n",
       " 12: 'java developer',\n",
       " 9: 'financial analyst',\n",
       " 17: 'project manager',\n",
       " 8: 'executive assistant',\n",
       " 13: 'maintenance technician',\n",
       " 16: 'physical therapist',\n",
       " 28: 'store manager',\n",
       " 27: 'staff accountant',\n",
       " 10: 'inside sales representative',\n",
       " 0: 'account executive',\n",
       " 18: 'receptionist',\n",
       " 26: 'senior accountant',\n",
       " 4: 'business analyst',\n",
       " 19: 'restaurant manager',\n",
       " 1: 'account representative',\n",
       " 20: 'retail sales associate',\n",
       " 25: 'sales representative account manager customer service',\n",
       " 23: 'sales management trainee',\n",
       " 11: 'janiking franchise business opportunity',\n",
       " 15: 'own your own franchise',\n",
       " 5: 'cashier',\n",
       " 22: 'sales franchise',\n",
       " 7: 'customer service sales representative part time work',\n",
       " 14: 'mobile tool sales franchise distributor',\n",
       " 3: 'benefits consultant',\n",
       " 21: 'sales customer service part or full time summer work'}"
      ]
     },
     "execution_count": 31,
     "metadata": {},
     "output_type": "execute_result"
    }
   ],
   "source": [
    "temp_DF = data[['Query','category']].drop_duplicates()\n",
    "\n",
    "category_dict = {}\n",
    "for ind, row in temp_DF.iterrows():\n",
    "    category_dict[ row['category'] ] = row['Query']\n",
    "\n",
    "category_dict"
   ]
  },
  {
   "cell_type": "code",
   "execution_count": 32,
   "metadata": {},
   "outputs": [
    {
     "name": "stdout",
     "output_type": "stream",
     "text": [
      "(54070, 500) (54070, 29)\n",
      "(13518, 500) (13518, 29)\n"
     ]
    }
   ],
   "source": [
    "X_train, X_test, Y_train, Y_test = train_test_split( XX,YY, test_size = 0.2, random_state = 42)\n",
    "print( X_train.shape, Y_train.shape )\n",
    "print( X_test.shape, Y_test.shape )"
   ]
  },
  {
   "cell_type": "code",
   "execution_count": 33,
   "metadata": {},
   "outputs": [
    {
     "data": {
      "text/plain": [
       "29"
      ]
     },
     "execution_count": 33,
     "metadata": {},
     "output_type": "execute_result"
    }
   ],
   "source": [
    "len( set( data['Query'] ) )"
   ]
  },
  {
   "cell_type": "code",
   "execution_count": 34,
   "metadata": {},
   "outputs": [
    {
     "data": {
      "text/plain": [
       "array([[  39, 2354, 1686, ...,    0,    0,    0],\n",
       "       [2354, 1686,  155, ...,    0,    0,    0],\n",
       "       [2354, 1686,    8, ...,    0,    0,    0],\n",
       "       ...,\n",
       "       [2587,  154,  507, ...,    0,    0,    0],\n",
       "       [   1,  596, 6812, ...,    0,    0,    0],\n",
       "       [ 867, 2944, 1228, ...,    0,    0,    0]])"
      ]
     },
     "execution_count": 34,
     "metadata": {},
     "output_type": "execute_result"
    }
   ],
   "source": [
    "XX"
   ]
  },
  {
   "cell_type": "code",
   "execution_count": 35,
   "metadata": {},
   "outputs": [
    {
     "data": {
      "text/plain": [
       "array([[0, 0, 1, ..., 0, 0, 0],\n",
       "       [0, 0, 1, ..., 0, 0, 0],\n",
       "       [0, 0, 1, ..., 0, 0, 0],\n",
       "       ...,\n",
       "       [0, 0, 0, ..., 0, 0, 0],\n",
       "       [0, 0, 0, ..., 0, 0, 0],\n",
       "       [0, 0, 0, ..., 0, 0, 0]], dtype=uint8)"
      ]
     },
     "execution_count": 35,
     "metadata": {},
     "output_type": "execute_result"
    }
   ],
   "source": [
    "YY"
   ]
  },
  {
   "cell_type": "code",
   "execution_count": null,
   "metadata": {},
   "outputs": [],
   "source": []
  },
  {
   "cell_type": "code",
   "execution_count": 36,
   "metadata": {},
   "outputs": [
    {
     "data": {
      "text/plain": [
       "(67588, 500)"
      ]
     },
     "execution_count": 36,
     "metadata": {},
     "output_type": "execute_result"
    }
   ],
   "source": [
    "XX.shape"
   ]
  },
  {
   "cell_type": "code",
   "execution_count": null,
   "metadata": {},
   "outputs": [],
   "source": []
  },
  {
   "cell_type": "markdown",
   "metadata": {},
   "source": [
    "# textCNN  Embeding"
   ]
  },
  {
   "cell_type": "code",
   "execution_count": 37,
   "metadata": {},
   "outputs": [
    {
     "name": "stdout",
     "output_type": "stream",
     "text": [
      "Model: \"model\"\n",
      "__________________________________________________________________________________________________\n",
      "Layer (type)                    Output Shape         Param #     Connected to                     \n",
      "==================================================================================================\n",
      "input_data (InputLayer)         [(None, 500)]        0                                            \n",
      "__________________________________________________________________________________________________\n",
      "embedding (Embedding)           (None, 500, 100)     40000200    input_data[0][0]                 \n",
      "__________________________________________________________________________________________________\n",
      "add_channel (Reshape)           (None, 500, 100, 1)  0           embedding[0][0]                  \n",
      "__________________________________________________________________________________________________\n",
      "convolution_3 (Conv2D)          (None, 498, 51, 50)  7550        add_channel[0][0]                \n",
      "__________________________________________________________________________________________________\n",
      "convolution_4 (Conv2D)          (None, 497, 51, 50)  10050       add_channel[0][0]                \n",
      "__________________________________________________________________________________________________\n",
      "convolution_5 (Conv2D)          (None, 496, 51, 50)  12550       add_channel[0][0]                \n",
      "__________________________________________________________________________________________________\n",
      "max_pooling_3 (MaxPooling2D)    (None, 1, 51, 50)    0           convolution_3[0][0]              \n",
      "__________________________________________________________________________________________________\n",
      "max_pooling_4 (MaxPooling2D)    (None, 1, 51, 50)    0           convolution_4[0][0]              \n",
      "__________________________________________________________________________________________________\n",
      "max_pooling_5 (MaxPooling2D)    (None, 1, 51, 50)    0           convolution_5[0][0]              \n",
      "__________________________________________________________________________________________________\n",
      "concatenate (Concatenate)       (None, 1, 51, 150)   0           max_pooling_3[0][0]              \n",
      "                                                                 max_pooling_4[0][0]              \n",
      "                                                                 max_pooling_5[0][0]              \n",
      "__________________________________________________________________________________________________\n",
      "flatten (Flatten)               (None, 7650)         0           concatenate[0][0]                \n",
      "__________________________________________________________________________________________________\n",
      "dropout (Dropout)               (None, 7650)         0           flatten[0][0]                    \n",
      "__________________________________________________________________________________________________\n",
      "dense (Dense)                   (None, 29)           221879      dropout[0][0]                    \n",
      "==================================================================================================\n",
      "Total params: 40,252,229\n",
      "Trainable params: 252,029\n",
      "Non-trainable params: 40,000,200\n",
      "__________________________________________________________________________________________________\n"
     ]
    }
   ],
   "source": [
    "from tensorflow import keras\n",
    "\n",
    "feature_size = max_seq_length\n",
    "dropout_rate = 0.2\n",
    "num_classes  = len( set( data['Query'] ) )\n",
    "\n",
    "inputs = keras.Input(shape=(500,), name='input_data')\n",
    "\n",
    "embed = keras.layers.Embedding(\n",
    "    len(embeddings_matrix), \n",
    "    100,\n",
    "    weights=[embeddings_matrix],\n",
    "    trainable=False,\n",
    "    mask_zero=True,\n",
    "    input_length=XX.shape[1],\n",
    "#     dtype= np.float32\n",
    "    )(inputs)\n",
    "# single channel. If using real embedding, you can set one static\n",
    "embed = keras.layers.Reshape((500, 100, 1), name='add_channel')(embed)\n",
    "\n",
    "pool_outputs = []\n",
    "for filter_size in [3,4,5]:\n",
    "    filter_shape = (filter_size, 50)\n",
    "    conv = keras.layers.Conv2D(50, filter_shape, strides=(1, 1), padding='valid',\n",
    "                               data_format='channels_last', activation='relu',\n",
    "                               kernel_initializer='glorot_normal',\n",
    "                               bias_initializer=keras.initializers.constant(0.1),\n",
    "                               name='convolution_{:d}'.format(filter_size))(embed)\n",
    "    \n",
    "    max_pool_shape = (feature_size - filter_size + 1, 1)\n",
    "    pool = keras.layers.MaxPool2D(pool_size=max_pool_shape,\n",
    "                                  strides=(1, 1), padding='valid',\n",
    "                                  data_format='channels_last',\n",
    "                                  name='max_pooling_{:d}'.format(filter_size))(conv)\n",
    "    \n",
    "    pool_outputs.append(pool)\n",
    "\n",
    "pool_outputs = keras.layers.concatenate(pool_outputs, axis=-1, name='concatenate')\n",
    "pool_outputs = keras.layers.Flatten(data_format='channels_last', name='flatten')(pool_outputs)\n",
    "pool_outputs = keras.layers.Dropout(dropout_rate, name='dropout')(pool_outputs)\n",
    "\n",
    "outputs = keras.layers.Dense(num_classes, activation='softmax',\n",
    "                             kernel_initializer='glorot_normal',\n",
    "                             bias_initializer=keras.initializers.constant(0.1),\n",
    "                             name='dense')(pool_outputs)\n",
    "\n",
    "model = keras.Model(inputs=inputs, outputs=outputs)\n",
    "model.compile(loss='categorical_crossentropy', optimizer='adam', metrics=['accuracy'])\n",
    "\n",
    "model.summary()"
   ]
  },
  {
   "cell_type": "code",
   "execution_count": null,
   "metadata": {},
   "outputs": [
    {
     "name": "stdout",
     "output_type": "stream",
     "text": [
      "Train on 48663 samples, validate on 5407 samples\n",
      "Epoch 1/2\n",
      "  832/48663 [..............................] - ETA: 31:18 - loss: 3.5905 - accuracy: 0.1587"
     ]
    }
   ],
   "source": [
    "epochs = 2\n",
    "batch_size = 64\n",
    "\n",
    "\n",
    "history = model.fit(X_train, Y_train, epochs=epochs, batch_size=batch_size,validation_split=0.1,callbacks=[EarlyStopping(monitor='val_loss', patience=3, min_delta=0.0001)])\n",
    "\n",
    "# history = model.fit(X_train, Y_train, epochs=epochs,steps_per_epoch=100, batch_size=batch_size,validation_split=0.1,callbacks=[EarlyStopping(monitor='val_loss', patience=3, min_delta=0.0001)])"
   ]
  },
  {
   "cell_type": "code",
   "execution_count": null,
   "metadata": {},
   "outputs": [],
   "source": [
    "import tensorflow as tf"
   ]
  },
  {
   "cell_type": "code",
   "execution_count": null,
   "metadata": {},
   "outputs": [],
   "source": [
    "tf.test.is_gpu_available()"
   ]
  },
  {
   "cell_type": "code",
   "execution_count": null,
   "metadata": {},
   "outputs": [],
   "source": []
  },
  {
   "cell_type": "code",
   "execution_count": null,
   "metadata": {},
   "outputs": [],
   "source": []
  },
  {
   "cell_type": "code",
   "execution_count": null,
   "metadata": {},
   "outputs": [],
   "source": []
  },
  {
   "cell_type": "code",
   "execution_count": null,
   "metadata": {},
   "outputs": [],
   "source": [
    "accr = model.evaluate(X_test,Y_test)\n",
    "print('Test set\\n  Loss: {:0.3f}\\n  Accuracy: {:0.3f}'.format(accr[0],accr[1]))"
   ]
  },
  {
   "cell_type": "code",
   "execution_count": null,
   "metadata": {},
   "outputs": [],
   "source": [
    "plt.title('Accuracy')\n",
    "plt.plot(history.history['accuracy'], label='train')\n",
    "plt.plot(history.history['val_accuracy'], label='test')\n",
    "plt.legend()\n",
    "plt.show()"
   ]
  },
  {
   "cell_type": "code",
   "execution_count": null,
   "metadata": {},
   "outputs": [],
   "source": [
    "XX.shape"
   ]
  },
  {
   "cell_type": "markdown",
   "metadata": {},
   "source": [
    "# random 500 data\n",
    "# extract middle layer as document distribution presentation"
   ]
  },
  {
   "cell_type": "code",
   "execution_count": null,
   "metadata": {},
   "outputs": [],
   "source": [
    "import random\n",
    "import tensorflow as tf\n",
    "\n",
    "x_list = []\n",
    "y_list = []\n",
    "\n",
    "index = 0\n",
    "while True:\n",
    "    if index >= 3000:\n",
    "        break\n",
    "    \n",
    "    try:\n",
    "        ranIndex = random.randint( 0,len( XX ) )\n",
    "\n",
    "        layer_output = model.get_layer('concatenate').output\n",
    "        intermediate_model = tf.keras.models.Model(inputs=model.input,outputs=layer_output)\n",
    "        intermediate_prediction = intermediate_model.predict( XX[ranIndex:ranIndex+1] )\n",
    "\n",
    "        Y_index = YY[ranIndex:ranIndex+1]\n",
    "\n",
    "        # print( YY )\n",
    "#         print( data['text_clean'][ranIndex] )\n",
    "#         print()\n",
    "#         print( data['Query'][ranIndex] )\n",
    "#         print()\n",
    "\n",
    "#         print( intermediate_prediction[0][0][0] )\n",
    "        x_list.append( intermediate_prediction[0][0][0] )\n",
    "#         y_list.append( data['Query'][ranIndex] )\n",
    "        y_list.append( YY[ranIndex] )\n",
    "#         print()\n",
    "        index += 1\n",
    "\n",
    "    except:\n",
    "        print( 'Error' )"
   ]
  },
  {
   "cell_type": "code",
   "execution_count": null,
   "metadata": {},
   "outputs": [],
   "source": [
    "c_list = [ np.argmax(y) for y in y_list ]"
   ]
  },
  {
   "cell_type": "markdown",
   "metadata": {},
   "source": [
    "# t-sne visualization"
   ]
  },
  {
   "cell_type": "code",
   "execution_count": null,
   "metadata": {},
   "outputs": [],
   "source": [
    "category_dict"
   ]
  },
  {
   "cell_type": "code",
   "execution_count": null,
   "metadata": {},
   "outputs": [],
   "source": [
    "from sklearn.manifold import TSNE\n",
    "from sklearn.datasets import load_iris\n",
    "from sklearn.decomposition import PCA\n",
    "import matplotlib.pyplot as plt\n",
    " \n",
    "X_tsne = TSNE(learning_rate=100).fit_transform( x_list )\n",
    "\n",
    "fig = plt.figure(figsize=(20, 16))\n",
    "ax = fig.add_subplot(111)\n",
    "\n",
    "ind = 0\n",
    "\n",
    "label_list = []\n",
    "for tem in X_tsne:\n",
    "    if c_list[ind] not in label_list:\n",
    "        ax.plot( tem[0], tem[1],label = category_dict[c_list[ind]]  )\n",
    "        label_list.append( c_list[ind] )\n",
    "        \n",
    "    ind +=1\n",
    "\n",
    "plt.scatter( X_tsne[:, 0], X_tsne[:, 1], c=c_list )\n",
    "plt.legend()"
   ]
  },
  {
   "cell_type": "code",
   "execution_count": null,
   "metadata": {},
   "outputs": [],
   "source": []
  },
  {
   "cell_type": "code",
   "execution_count": null,
   "metadata": {},
   "outputs": [],
   "source": []
  },
  {
   "cell_type": "code",
   "execution_count": null,
   "metadata": {},
   "outputs": [],
   "source": []
  },
  {
   "cell_type": "code",
   "execution_count": null,
   "metadata": {},
   "outputs": [],
   "source": []
  },
  {
   "cell_type": "code",
   "execution_count": null,
   "metadata": {},
   "outputs": [],
   "source": []
  }
 ],
 "metadata": {
  "kernelspec": {
   "display_name": "Python 3",
   "language": "python",
   "name": "python3"
  },
  "language_info": {
   "codemirror_mode": {
    "name": "ipython",
    "version": 3
   },
   "file_extension": ".py",
   "mimetype": "text/x-python",
   "name": "python",
   "nbconvert_exporter": "python",
   "pygments_lexer": "ipython3",
   "version": "3.6.9"
  }
 },
 "nbformat": 4,
 "nbformat_minor": 1
}
