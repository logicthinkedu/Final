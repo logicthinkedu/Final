{
 "cells": [
  {
   "cell_type": "markdown",
   "metadata": {},
   "source": [
    "## 1. train textCNN model\n",
    "## 2. extract the middle layer Vector as document distribution presentation\n",
    "## 3. dimension-reduction \n",
    "## 4. data visualization"
   ]
  },
  {
   "cell_type": "code",
   "execution_count": 1,
   "metadata": {},
   "outputs": [
    {
     "data": {
      "text/plain": [
       "'2.3.0'"
      ]
     },
     "execution_count": 1,
     "metadata": {},
     "output_type": "execute_result"
    }
   ],
   "source": [
    "import tensorflow as tf\n",
    "tf.__version__"
   ]
  },
  {
   "cell_type": "code",
   "execution_count": 2,
   "metadata": {},
   "outputs": [
    {
     "name": "stdout",
     "output_type": "stream",
     "text": [
      "WARNING:tensorflow:From <ipython-input-2-17bb7203622b>:1: is_gpu_available (from tensorflow.python.framework.test_util) is deprecated and will be removed in a future version.\n",
      "Instructions for updating:\n",
      "Use `tf.config.list_physical_devices('GPU')` instead.\n"
     ]
    },
    {
     "data": {
      "text/plain": [
       "True"
      ]
     },
     "execution_count": 2,
     "metadata": {},
     "output_type": "execute_result"
    }
   ],
   "source": [
    "tf.test.is_gpu_available()"
   ]
  },
  {
   "cell_type": "code",
   "execution_count": null,
   "metadata": {},
   "outputs": [],
   "source": []
  },
  {
   "cell_type": "code",
   "execution_count": 3,
   "metadata": {},
   "outputs": [
    {
     "name": "stdout",
     "output_type": "stream",
     "text": [
      "Requirement already satisfied: pandas in /usr/local/lib/python3.6/dist-packages (1.1.1)\n",
      "Requirement already satisfied: pytz>=2017.2 in /usr/local/lib/python3.6/dist-packages (from pandas) (2020.1)\n",
      "Requirement already satisfied: numpy>=1.15.4 in /usr/local/lib/python3.6/dist-packages (from pandas) (1.18.5)\n",
      "Requirement already satisfied: python-dateutil>=2.7.3 in /usr/local/lib/python3.6/dist-packages (from pandas) (2.8.1)\n",
      "Requirement already satisfied: six>=1.5 in /usr/local/lib/python3.6/dist-packages (from python-dateutil>=2.7.3->pandas) (1.15.0)\n",
      "\u001b[33mWARNING: You are using pip version 20.1.1; however, version 20.2.2 is available.\n",
      "You should consider upgrading via the '/usr/bin/python3 -m pip install --upgrade pip' command.\u001b[0m\n"
     ]
    }
   ],
   "source": [
    "!pip install pandas"
   ]
  },
  {
   "cell_type": "code",
   "execution_count": 4,
   "metadata": {},
   "outputs": [
    {
     "name": "stdout",
     "output_type": "stream",
     "text": [
      "Requirement already satisfied: bs4 in /usr/local/lib/python3.6/dist-packages (0.0.1)\n",
      "Requirement already satisfied: beautifulsoup4 in /usr/local/lib/python3.6/dist-packages (from bs4) (4.9.1)\n",
      "Requirement already satisfied: soupsieve>1.2 in /usr/local/lib/python3.6/dist-packages (from beautifulsoup4->bs4) (2.0.1)\n",
      "\u001b[33mWARNING: You are using pip version 20.1.1; however, version 20.2.2 is available.\n",
      "You should consider upgrading via the '/usr/bin/python3 -m pip install --upgrade pip' command.\u001b[0m\n"
     ]
    }
   ],
   "source": [
    "!pip install bs4"
   ]
  },
  {
   "cell_type": "code",
   "execution_count": 5,
   "metadata": {},
   "outputs": [
    {
     "name": "stdout",
     "output_type": "stream",
     "text": [
      "Requirement already satisfied: sklearn in /usr/local/lib/python3.6/dist-packages (0.0)\n",
      "Requirement already satisfied: scikit-learn in /usr/local/lib/python3.6/dist-packages (from sklearn) (0.23.2)\n",
      "Requirement already satisfied: numpy>=1.13.3 in /usr/local/lib/python3.6/dist-packages (from scikit-learn->sklearn) (1.18.5)\n",
      "Requirement already satisfied: scipy>=0.19.1 in /usr/local/lib/python3.6/dist-packages (from scikit-learn->sklearn) (1.4.1)\n",
      "Requirement already satisfied: joblib>=0.11 in /usr/local/lib/python3.6/dist-packages (from scikit-learn->sklearn) (0.16.0)\n",
      "Requirement already satisfied: threadpoolctl>=2.0.0 in /usr/local/lib/python3.6/dist-packages (from scikit-learn->sklearn) (2.1.0)\n",
      "\u001b[33mWARNING: You are using pip version 20.1.1; however, version 20.2.2 is available.\n",
      "You should consider upgrading via the '/usr/bin/python3 -m pip install --upgrade pip' command.\u001b[0m\n"
     ]
    }
   ],
   "source": [
    "!pip install sklearn"
   ]
  },
  {
   "cell_type": "code",
   "execution_count": 6,
   "metadata": {},
   "outputs": [],
   "source": [
    "# from keras.models import Sequential\n",
    "# from keras.layers import Conv1D, GlobalMaxPooling1D, Embedding, LSTM, MaxPooling1D,BatchNormalization,GRU, SpatialDropout1D\n",
    "# from keras.layers.core import Dense, Dropout, Activation\n",
    "# from keras.preprocessing.text import Tokenizer\n",
    "# from keras import metrics, regularizers\n",
    "# from keras.preprocessing import sequence\n",
    "import pandas as pd\n",
    "import numpy as np\n",
    "# import matplotlib.pyplot as plt\n",
    "# from keras.preprocessing.text import Tokenizer\n",
    "# from keras.preprocessing.sequence import pad_sequences\n",
    "# from keras.models import Sequential\n",
    "# from keras.layers import Dense, Embedding, LSTM, SpatialDropout1D\n",
    "# from sklearn.model_selection import train_test_split\n",
    "# from keras.utils.np_utils import to_categorical\n",
    "# from keras.callbacks import EarlyStopping\n",
    "# from keras.layers import Dropout\n",
    "from bs4 import BeautifulSoup\n",
    "from tensorflow.keras.callbacks import EarlyStopping\n",
    "import re\n",
    "# from nltk.corpus import stopwords\n",
    "# import nltk\n",
    "# from nltk import word_tokenize\n",
    "# STOPWORDS = set(stopwords.words('english'))\n",
    "from sklearn.model_selection import train_test_split\n",
    "from sklearn.preprocessing import LabelBinarizer"
   ]
  },
  {
   "cell_type": "markdown",
   "metadata": {},
   "source": [
    "# import Job Description dataset"
   ]
  },
  {
   "cell_type": "code",
   "execution_count": 7,
   "metadata": {},
   "outputs": [
    {
     "data": {
      "text/html": [
       "<div>\n",
       "<style scoped>\n",
       "    .dataframe tbody tr th:only-of-type {\n",
       "        vertical-align: middle;\n",
       "    }\n",
       "\n",
       "    .dataframe tbody tr th {\n",
       "        vertical-align: top;\n",
       "    }\n",
       "\n",
       "    .dataframe thead th {\n",
       "        text-align: right;\n",
       "    }\n",
       "</style>\n",
       "<table border=\"1\" class=\"dataframe\">\n",
       "  <thead>\n",
       "    <tr style=\"text-align: right;\">\n",
       "      <th></th>\n",
       "      <th>Query</th>\n",
       "      <th>Description</th>\n",
       "    </tr>\n",
       "  </thead>\n",
       "  <tbody>\n",
       "    <tr>\n",
       "      <th>0</th>\n",
       "      <td>Administrative Assistant</td>\n",
       "      <td>This Administrative Assistant position is resp...</td>\n",
       "    </tr>\n",
       "    <tr>\n",
       "      <th>1</th>\n",
       "      <td>Administrative Assistant</td>\n",
       "      <td>ADMINISTRATIVE ASSISTANT Part Time The West Or...</td>\n",
       "    </tr>\n",
       "    <tr>\n",
       "      <th>2</th>\n",
       "      <td>Administrative Assistant</td>\n",
       "      <td>Administrative Assistant -  In Bus 26yrs Fashi...</td>\n",
       "    </tr>\n",
       "    <tr>\n",
       "      <th>3</th>\n",
       "      <td>Sales Representative</td>\n",
       "      <td>Are you ready for something new? Are you tired...</td>\n",
       "    </tr>\n",
       "    <tr>\n",
       "      <th>4</th>\n",
       "      <td>Customer Service Representative</td>\n",
       "      <td>Superior Staff Resources is currently seeking ...</td>\n",
       "    </tr>\n",
       "    <tr>\n",
       "      <th>...</th>\n",
       "      <td>...</td>\n",
       "      <td>...</td>\n",
       "    </tr>\n",
       "    <tr>\n",
       "      <th>72287</th>\n",
       "      <td>Business Analyst</td>\n",
       "      <td>ability construct complex sql statement analyz...</td>\n",
       "    </tr>\n",
       "    <tr>\n",
       "      <th>72288</th>\n",
       "      <td>Business Analyst</td>\n",
       "      <td>join u pursue disruptive new vision make machi...</td>\n",
       "    </tr>\n",
       "    <tr>\n",
       "      <th>72289</th>\n",
       "      <td>Business Analyst</td>\n",
       "      <td>duty high level independent decision making au...</td>\n",
       "    </tr>\n",
       "    <tr>\n",
       "      <th>72290</th>\n",
       "      <td>Business Analyst</td>\n",
       "      <td>crowdstrike leading provider next-generation e...</td>\n",
       "    </tr>\n",
       "    <tr>\n",
       "      <th>72291</th>\n",
       "      <td>Business Analyst</td>\n",
       "      <td>manager competitive intelligence driving force...</td>\n",
       "    </tr>\n",
       "  </tbody>\n",
       "</table>\n",
       "<p>72292 rows × 2 columns</p>\n",
       "</div>"
      ],
      "text/plain": [
       "                                 Query  \\\n",
       "0             Administrative Assistant   \n",
       "1             Administrative Assistant   \n",
       "2             Administrative Assistant   \n",
       "3                 Sales Representative   \n",
       "4      Customer Service Representative   \n",
       "...                                ...   \n",
       "72287                 Business Analyst   \n",
       "72288                 Business Analyst   \n",
       "72289                 Business Analyst   \n",
       "72290                 Business Analyst   \n",
       "72291                 Business Analyst   \n",
       "\n",
       "                                             Description  \n",
       "0      This Administrative Assistant position is resp...  \n",
       "1      ADMINISTRATIVE ASSISTANT Part Time The West Or...  \n",
       "2      Administrative Assistant -  In Bus 26yrs Fashi...  \n",
       "3      Are you ready for something new? Are you tired...  \n",
       "4      Superior Staff Resources is currently seeking ...  \n",
       "...                                                  ...  \n",
       "72287  ability construct complex sql statement analyz...  \n",
       "72288  join u pursue disruptive new vision make machi...  \n",
       "72289  duty high level independent decision making au...  \n",
       "72290  crowdstrike leading provider next-generation e...  \n",
       "72291  manager competitive intelligence driving force...  \n",
       "\n",
       "[72292 rows x 2 columns]"
      ]
     },
     "execution_count": 7,
     "metadata": {},
     "output_type": "execute_result"
    }
   ],
   "source": [
    "data = pd.read_csv(r'../Data/JD.csv',usecols = ['Query','Description'])\n",
    "data"
   ]
  },
  {
   "cell_type": "code",
   "execution_count": 8,
   "metadata": {},
   "outputs": [
    {
     "data": {
      "text/plain": [
       "Administrative Assistant                                      4395\n",
       "Customer Service Representative                               4200\n",
       "Own Your Own Franchise!                                       3701\n",
       "Sales Representative                                          3556\n",
       "Mobile Tool Sales / Franchise Distributor                     3275\n",
       "Retail Wireless Sales Consultant                              3194\n",
       "Sales / Franchise                                             3120\n",
       "Project Manager                                               2845\n",
       "Staff Accountant                                              2834\n",
       "Retail Sales Associate                                        2769\n",
       "Business Analyst                                              2420\n",
       "Sales / Customer Service – Part or Full time – Summer Work    2419\n",
       "Sales Representative / Account Manager /  Customer Service    2412\n",
       "Senior Accountant                                             2216\n",
       "Jani-King Franchise Business Opportunity                      2196\n",
       "Benefits Consultant                                           2049\n",
       "Store Manager                                                 2021\n",
       "Account Representative                                        1977\n",
       "Account Executive                                             1876\n",
       "Maintenance Technician                                        1834\n",
       "Customer Service - Sales Representative - Part Time Work      1823\n",
       "Java Developer                                                1796\n",
       "Financial Analyst                                             1754\n",
       "Inside Sales Representative                                   1740\n",
       "Cashier                                                       1717\n",
       "Sales Management Trainee                                      1708\n",
       "Restaurant Manager                                            1679\n",
       "Executive Assistant                                           1616\n",
       "Physical Therapist                                            1575\n",
       "Receptionist                                                  1575\n",
       "Name: Query, dtype: int64"
      ]
     },
     "execution_count": 8,
     "metadata": {},
     "output_type": "execute_result"
    }
   ],
   "source": [
    "data.Query.value_counts()"
   ]
  },
  {
   "cell_type": "markdown",
   "metadata": {},
   "source": [
    "# data clean"
   ]
  },
  {
   "cell_type": "code",
   "execution_count": 9,
   "metadata": {},
   "outputs": [],
   "source": [
    "data = data.reset_index(drop=True)\n",
    "REPLACE_BY_SPACE_RE = re.compile('[/(){}\\[\\]\\|@,;]')\n",
    "BAD_SYMBOLS_RE = re.compile('[^0-9a-z #+_]')\n",
    "\n",
    "def clean_text(text):\n",
    "#     text = BeautifulSoup(text, \"lxml\").text\n",
    "    cleanr = re.compile('<.*?>|&([a-z0-9]+|#[0-9]{1,6}|#x[0-9a-f]{1,6});')\n",
    "#     pat = re.compile('<[^>]+>', re.S)\n",
    "    text = cleanr.sub(' ', text)\n",
    "    \n",
    "    text = text.replace('\\\\n', ' ').replace('\\\\r', ' ').replace('\\r', ' ').replace('\\n', ' ')\n",
    "    text = text.lower() # lowercase text\n",
    "    text = REPLACE_BY_SPACE_RE.sub(' ', text) # replace REPLACE_BY_SPACE_RE symbols by space in text. substitute the matched string in REPLACE_BY_SPACE_RE with space.\n",
    "    text = BAD_SYMBOLS_RE.sub('', text) # remove symbols which are in BAD_SYMBOLS_RE from text. substitute the matched string in BAD_SYMBOLS_RE with nothing. \n",
    "#     text = text.replace('x', '')\n",
    "#    text = re.sub(r'\\W+', '', text)\n",
    "    text = ' '.join(word for word in text.split()) # remove stopwors from text\n",
    "    return text"
   ]
  },
  {
   "cell_type": "code",
   "execution_count": 10,
   "metadata": {},
   "outputs": [
    {
     "data": {
      "text/html": [
       "<div>\n",
       "<style scoped>\n",
       "    .dataframe tbody tr th:only-of-type {\n",
       "        vertical-align: middle;\n",
       "    }\n",
       "\n",
       "    .dataframe tbody tr th {\n",
       "        vertical-align: top;\n",
       "    }\n",
       "\n",
       "    .dataframe thead th {\n",
       "        text-align: right;\n",
       "    }\n",
       "</style>\n",
       "<table border=\"1\" class=\"dataframe\">\n",
       "  <thead>\n",
       "    <tr style=\"text-align: right;\">\n",
       "      <th></th>\n",
       "      <th>Query</th>\n",
       "      <th>Description</th>\n",
       "    </tr>\n",
       "  </thead>\n",
       "  <tbody>\n",
       "    <tr>\n",
       "      <th>0</th>\n",
       "      <td>administrative assistant</td>\n",
       "      <td>this administrative assistant position is resp...</td>\n",
       "    </tr>\n",
       "    <tr>\n",
       "      <th>1</th>\n",
       "      <td>administrative assistant</td>\n",
       "      <td>administrative assistant part time the west or...</td>\n",
       "    </tr>\n",
       "    <tr>\n",
       "      <th>2</th>\n",
       "      <td>administrative assistant</td>\n",
       "      <td>administrative assistant in bus 26yrs fashion ...</td>\n",
       "    </tr>\n",
       "    <tr>\n",
       "      <th>3</th>\n",
       "      <td>sales representative</td>\n",
       "      <td>are you ready for something new are you tired ...</td>\n",
       "    </tr>\n",
       "    <tr>\n",
       "      <th>4</th>\n",
       "      <td>customer service representative</td>\n",
       "      <td>superior staff resources is currently seeking ...</td>\n",
       "    </tr>\n",
       "    <tr>\n",
       "      <th>...</th>\n",
       "      <td>...</td>\n",
       "      <td>...</td>\n",
       "    </tr>\n",
       "    <tr>\n",
       "      <th>72287</th>\n",
       "      <td>business analyst</td>\n",
       "      <td>ability construct complex sql statement analyz...</td>\n",
       "    </tr>\n",
       "    <tr>\n",
       "      <th>72288</th>\n",
       "      <td>business analyst</td>\n",
       "      <td>join u pursue disruptive new vision make machi...</td>\n",
       "    </tr>\n",
       "    <tr>\n",
       "      <th>72289</th>\n",
       "      <td>business analyst</td>\n",
       "      <td>duty high level independent decision making au...</td>\n",
       "    </tr>\n",
       "    <tr>\n",
       "      <th>72290</th>\n",
       "      <td>business analyst</td>\n",
       "      <td>crowdstrike leading provider nextgeneration en...</td>\n",
       "    </tr>\n",
       "    <tr>\n",
       "      <th>72291</th>\n",
       "      <td>business analyst</td>\n",
       "      <td>manager competitive intelligence driving force...</td>\n",
       "    </tr>\n",
       "  </tbody>\n",
       "</table>\n",
       "<p>72292 rows × 2 columns</p>\n",
       "</div>"
      ],
      "text/plain": [
       "                                 Query  \\\n",
       "0             administrative assistant   \n",
       "1             administrative assistant   \n",
       "2             administrative assistant   \n",
       "3                 sales representative   \n",
       "4      customer service representative   \n",
       "...                                ...   \n",
       "72287                 business analyst   \n",
       "72288                 business analyst   \n",
       "72289                 business analyst   \n",
       "72290                 business analyst   \n",
       "72291                 business analyst   \n",
       "\n",
       "                                             Description  \n",
       "0      this administrative assistant position is resp...  \n",
       "1      administrative assistant part time the west or...  \n",
       "2      administrative assistant in bus 26yrs fashion ...  \n",
       "3      are you ready for something new are you tired ...  \n",
       "4      superior staff resources is currently seeking ...  \n",
       "...                                                  ...  \n",
       "72287  ability construct complex sql statement analyz...  \n",
       "72288  join u pursue disruptive new vision make machi...  \n",
       "72289  duty high level independent decision making au...  \n",
       "72290  crowdstrike leading provider nextgeneration en...  \n",
       "72291  manager competitive intelligence driving force...  \n",
       "\n",
       "[72292 rows x 2 columns]"
      ]
     },
     "execution_count": 10,
     "metadata": {},
     "output_type": "execute_result"
    }
   ],
   "source": [
    "data['Description'] = data['Description'].apply(clean_text)\n",
    "data['Query'] = data['Query'].apply(clean_text)\n",
    "data"
   ]
  },
  {
   "cell_type": "markdown",
   "metadata": {},
   "source": [
    "# sample"
   ]
  },
  {
   "cell_type": "code",
   "execution_count": 11,
   "metadata": {},
   "outputs": [
    {
     "data": {
      "text/plain": [
       "'this administrative assistant position is responsible for performing a variety of clerical and administrative support functions in the areas of communications data entry and retrieval typing filing copying and coordination of related administrative activities job requirements attention to detail ability to work in a fast paced environment invoicing proficient in word excel and outlook other administrative responsibilities as needed qualifications high school diploma administrative assistant experience 12 years work experience working knowledge of all basic office machines fax copier 10key etc strong verbal and written communication skills strong work ethic'"
      ]
     },
     "execution_count": 11,
     "metadata": {},
     "output_type": "execute_result"
    }
   ],
   "source": [
    "data['Description'][0]"
   ]
  },
  {
   "cell_type": "code",
   "execution_count": null,
   "metadata": {},
   "outputs": [],
   "source": []
  },
  {
   "cell_type": "code",
   "execution_count": null,
   "metadata": {},
   "outputs": [],
   "source": []
  },
  {
   "cell_type": "code",
   "execution_count": null,
   "metadata": {},
   "outputs": [],
   "source": []
  },
  {
   "cell_type": "code",
   "execution_count": 12,
   "metadata": {},
   "outputs": [],
   "source": [
    "import re\n",
    "from bs4 import BeautifulSoup\n",
    "\n",
    "def string_process(l):\n",
    "#     temp_list = [str(i).replace('\\\\n', ' ').replace('\\\\r', ' ').replace('\\r', ' ').replace('\\n', ' ').strip().lower() for i in nlp(l)]\n",
    "#     temp_string = ' '.join( temp_list )\n",
    "#     temp_list = [str(i) for i in nlp(temp_string)] \n",
    "    temp_list = l.split()[:500-2]\n",
    "    return temp_list"
   ]
  },
  {
   "cell_type": "code",
   "execution_count": 13,
   "metadata": {},
   "outputs": [
    {
     "data": {
      "text/html": [
       "<div>\n",
       "<style scoped>\n",
       "    .dataframe tbody tr th:only-of-type {\n",
       "        vertical-align: middle;\n",
       "    }\n",
       "\n",
       "    .dataframe tbody tr th {\n",
       "        vertical-align: top;\n",
       "    }\n",
       "\n",
       "    .dataframe thead th {\n",
       "        text-align: right;\n",
       "    }\n",
       "</style>\n",
       "<table border=\"1\" class=\"dataframe\">\n",
       "  <thead>\n",
       "    <tr style=\"text-align: right;\">\n",
       "      <th></th>\n",
       "      <th>Query</th>\n",
       "      <th>Description</th>\n",
       "      <th>text_clean</th>\n",
       "      <th>len</th>\n",
       "    </tr>\n",
       "  </thead>\n",
       "  <tbody>\n",
       "    <tr>\n",
       "      <th>0</th>\n",
       "      <td>administrative assistant</td>\n",
       "      <td>this administrative assistant position is resp...</td>\n",
       "      <td>[this, administrative, assistant, position, is...</td>\n",
       "      <td>90</td>\n",
       "    </tr>\n",
       "    <tr>\n",
       "      <th>1</th>\n",
       "      <td>administrative assistant</td>\n",
       "      <td>administrative assistant part time the west or...</td>\n",
       "      <td>[administrative, assistant, part, time, the, w...</td>\n",
       "      <td>70</td>\n",
       "    </tr>\n",
       "    <tr>\n",
       "      <th>2</th>\n",
       "      <td>administrative assistant</td>\n",
       "      <td>administrative assistant in bus 26yrs fashion ...</td>\n",
       "      <td>[administrative, assistant, in, bus, 26yrs, fa...</td>\n",
       "      <td>308</td>\n",
       "    </tr>\n",
       "    <tr>\n",
       "      <th>3</th>\n",
       "      <td>sales representative</td>\n",
       "      <td>are you ready for something new are you tired ...</td>\n",
       "      <td>[are, you, ready, for, something, new, are, yo...</td>\n",
       "      <td>83</td>\n",
       "    </tr>\n",
       "    <tr>\n",
       "      <th>4</th>\n",
       "      <td>customer service representative</td>\n",
       "      <td>superior staff resources is currently seeking ...</td>\n",
       "      <td>[superior, staff, resources, is, currently, se...</td>\n",
       "      <td>254</td>\n",
       "    </tr>\n",
       "    <tr>\n",
       "      <th>...</th>\n",
       "      <td>...</td>\n",
       "      <td>...</td>\n",
       "      <td>...</td>\n",
       "      <td>...</td>\n",
       "    </tr>\n",
       "    <tr>\n",
       "      <th>72287</th>\n",
       "      <td>business analyst</td>\n",
       "      <td>ability construct complex sql statement analyz...</td>\n",
       "      <td>[ability, construct, complex, sql, statement, ...</td>\n",
       "      <td>148</td>\n",
       "    </tr>\n",
       "    <tr>\n",
       "      <th>72288</th>\n",
       "      <td>business analyst</td>\n",
       "      <td>join u pursue disruptive new vision make machi...</td>\n",
       "      <td>[join, u, pursue, disruptive, new, vision, mak...</td>\n",
       "      <td>265</td>\n",
       "    </tr>\n",
       "    <tr>\n",
       "      <th>72289</th>\n",
       "      <td>business analyst</td>\n",
       "      <td>duty high level independent decision making au...</td>\n",
       "      <td>[duty, high, level, independent, decision, mak...</td>\n",
       "      <td>77</td>\n",
       "    </tr>\n",
       "    <tr>\n",
       "      <th>72290</th>\n",
       "      <td>business analyst</td>\n",
       "      <td>crowdstrike leading provider nextgeneration en...</td>\n",
       "      <td>[crowdstrike, leading, provider, nextgeneratio...</td>\n",
       "      <td>315</td>\n",
       "    </tr>\n",
       "    <tr>\n",
       "      <th>72291</th>\n",
       "      <td>business analyst</td>\n",
       "      <td>manager competitive intelligence driving force...</td>\n",
       "      <td>[manager, competitive, intelligence, driving, ...</td>\n",
       "      <td>341</td>\n",
       "    </tr>\n",
       "  </tbody>\n",
       "</table>\n",
       "<p>72292 rows × 4 columns</p>\n",
       "</div>"
      ],
      "text/plain": [
       "                                 Query  \\\n",
       "0             administrative assistant   \n",
       "1             administrative assistant   \n",
       "2             administrative assistant   \n",
       "3                 sales representative   \n",
       "4      customer service representative   \n",
       "...                                ...   \n",
       "72287                 business analyst   \n",
       "72288                 business analyst   \n",
       "72289                 business analyst   \n",
       "72290                 business analyst   \n",
       "72291                 business analyst   \n",
       "\n",
       "                                             Description  \\\n",
       "0      this administrative assistant position is resp...   \n",
       "1      administrative assistant part time the west or...   \n",
       "2      administrative assistant in bus 26yrs fashion ...   \n",
       "3      are you ready for something new are you tired ...   \n",
       "4      superior staff resources is currently seeking ...   \n",
       "...                                                  ...   \n",
       "72287  ability construct complex sql statement analyz...   \n",
       "72288  join u pursue disruptive new vision make machi...   \n",
       "72289  duty high level independent decision making au...   \n",
       "72290  crowdstrike leading provider nextgeneration en...   \n",
       "72291  manager competitive intelligence driving force...   \n",
       "\n",
       "                                              text_clean  len  \n",
       "0      [this, administrative, assistant, position, is...   90  \n",
       "1      [administrative, assistant, part, time, the, w...   70  \n",
       "2      [administrative, assistant, in, bus, 26yrs, fa...  308  \n",
       "3      [are, you, ready, for, something, new, are, yo...   83  \n",
       "4      [superior, staff, resources, is, currently, se...  254  \n",
       "...                                                  ...  ...  \n",
       "72287  [ability, construct, complex, sql, statement, ...  148  \n",
       "72288  [join, u, pursue, disruptive, new, vision, mak...  265  \n",
       "72289  [duty, high, level, independent, decision, mak...   77  \n",
       "72290  [crowdstrike, leading, provider, nextgeneratio...  315  \n",
       "72291  [manager, competitive, intelligence, driving, ...  341  \n",
       "\n",
       "[72292 rows x 4 columns]"
      ]
     },
     "execution_count": 13,
     "metadata": {},
     "output_type": "execute_result"
    }
   ],
   "source": [
    "data['text_clean'] = data['Description'].apply( string_process )\n",
    "data['len'] = data['text_clean'].apply(len)\n",
    "data"
   ]
  },
  {
   "cell_type": "code",
   "execution_count": null,
   "metadata": {},
   "outputs": [],
   "source": []
  },
  {
   "cell_type": "code",
   "execution_count": 14,
   "metadata": {},
   "outputs": [
    {
     "name": "stdout",
     "output_type": "stream",
     "text": [
      "Requirement already satisfied: keras_bert in /usr/local/lib/python3.6/dist-packages (0.86.0)\n",
      "Requirement already satisfied: keras-transformer>=0.38.0 in /usr/local/lib/python3.6/dist-packages (from keras_bert) (0.38.0)\n",
      "Requirement already satisfied: Keras>=2.4.3 in /usr/local/lib/python3.6/dist-packages (from keras_bert) (2.4.3)\n",
      "Requirement already satisfied: numpy in /usr/local/lib/python3.6/dist-packages (from keras_bert) (1.18.5)\n",
      "Requirement already satisfied: keras-multi-head>=0.27.0 in /usr/local/lib/python3.6/dist-packages (from keras-transformer>=0.38.0->keras_bert) (0.27.0)\n",
      "Requirement already satisfied: keras-layer-normalization>=0.14.0 in /usr/local/lib/python3.6/dist-packages (from keras-transformer>=0.38.0->keras_bert) (0.14.0)\n",
      "Requirement already satisfied: keras-position-wise-feed-forward>=0.6.0 in /usr/local/lib/python3.6/dist-packages (from keras-transformer>=0.38.0->keras_bert) (0.6.0)\n",
      "Requirement already satisfied: keras-embed-sim>=0.8.0 in /usr/local/lib/python3.6/dist-packages (from keras-transformer>=0.38.0->keras_bert) (0.8.0)\n",
      "Requirement already satisfied: keras-pos-embd>=0.11.0 in /usr/local/lib/python3.6/dist-packages (from keras-transformer>=0.38.0->keras_bert) (0.11.0)\n",
      "Requirement already satisfied: pyyaml in /usr/local/lib/python3.6/dist-packages (from Keras>=2.4.3->keras_bert) (5.3.1)\n",
      "Requirement already satisfied: scipy>=0.14 in /usr/local/lib/python3.6/dist-packages (from Keras>=2.4.3->keras_bert) (1.4.1)\n",
      "Requirement already satisfied: h5py in /usr/local/lib/python3.6/dist-packages (from Keras>=2.4.3->keras_bert) (2.10.0)\n",
      "Requirement already satisfied: keras-self-attention==0.46.0 in /usr/local/lib/python3.6/dist-packages (from keras-multi-head>=0.27.0->keras-transformer>=0.38.0->keras_bert) (0.46.0)\n",
      "Requirement already satisfied: six in /usr/local/lib/python3.6/dist-packages (from h5py->Keras>=2.4.3->keras_bert) (1.15.0)\n",
      "\u001b[33mWARNING: You are using pip version 20.1.1; however, version 20.2.2 is available.\n",
      "You should consider upgrading via the '/usr/bin/python3 -m pip install --upgrade pip' command.\u001b[0m\n"
     ]
    }
   ],
   "source": [
    "!pip install keras_bert"
   ]
  },
  {
   "cell_type": "code",
   "execution_count": 15,
   "metadata": {},
   "outputs": [],
   "source": [
    "from keras_bert import load_trained_model_from_checkpoint"
   ]
  },
  {
   "cell_type": "code",
   "execution_count": 16,
   "metadata": {},
   "outputs": [],
   "source": [
    "vocab = {}\n",
    "vocab_path = r\"uncased_L-2_H-128_A-2/vocab.txt\"\n",
    "\n",
    "with open(vocab_path, 'r+', encoding='utf-8') as f_vocab:\n",
    "    for line in f_vocab.readlines():\n",
    "        vocab[line.strip()] = len(vocab)"
   ]
  },
  {
   "cell_type": "code",
   "execution_count": null,
   "metadata": {},
   "outputs": [],
   "source": []
  },
  {
   "cell_type": "code",
   "execution_count": 17,
   "metadata": {},
   "outputs": [
    {
     "name": "stdout",
     "output_type": "stream",
     "text": [
      "[  101  2023  3831  3353  2597  2003  3625  2005  4488  1037  3528  1997\n",
      " 23106  1998  3831  2490  4972  1999  1996  2752  1997  4806  2951  4443\n",
      "  1998 26384 22868 15242 24731  1998 12016  1997  3141  3831  3450  3105\n",
      "  5918  3086  2000  6987  3754  2000  2147  1999  1037  3435 13823  4044\n",
      "     1 27029  1999  2773 24970  1998 17680  2060  3831 10198  2004  2734\n",
      " 15644  2152  2082  9827  3831  3353  3325  2260  2086  2147  3325  2551\n",
      "  3716  1997  2035  3937  2436  6681     1     1     1  4385  2844 12064\n",
      "  1998  2517  4807  4813  2844  2147     1   102     0     0     0     0\n",
      "     0     0     0     0     0     0     0     0     0     0     0     0\n",
      "     0     0     0     0     0     0     0     0     0     0     0     0\n",
      "     0     0     0     0     0     0     0     0     0     0     0     0\n",
      "     0     0     0     0     0     0     0     0     0     0     0     0\n",
      "     0     0     0     0     0     0     0     0     0     0     0     0\n",
      "     0     0     0     0     0     0     0     0     0     0     0     0\n",
      "     0     0     0     0     0     0     0     0     0     0     0     0\n",
      "     0     0     0     0     0     0     0     0     0     0     0     0\n",
      "     0     0     0     0     0     0     0     0     0     0     0     0\n",
      "     0     0     0     0     0     0     0     0     0     0     0     0\n",
      "     0     0     0     0     0     0     0     0     0     0     0     0\n",
      "     0     0     0     0     0     0     0     0     0     0     0     0\n",
      "     0     0     0     0     0     0     0     0     0     0     0     0\n",
      "     0     0     0     0     0     0     0     0     0     0     0     0\n",
      "     0     0     0     0     0     0     0     0     0     0     0     0\n",
      "     0     0     0     0     0     0     0     0     0     0     0     0\n",
      "     0     0     0     0     0     0     0     0     0     0     0     0\n",
      "     0     0     0     0     0     0     0     0     0     0     0     0\n",
      "     0     0     0     0     0     0     0     0     0     0     0     0\n",
      "     0     0     0     0     0     0     0     0     0     0     0     0\n",
      "     0     0     0     0     0     0     0     0     0     0     0     0\n",
      "     0     0     0     0     0     0     0     0     0     0     0     0\n",
      "     0     0     0     0     0     0     0     0     0     0     0     0\n",
      "     0     0     0     0     0     0     0     0     0     0     0     0\n",
      "     0     0     0     0     0     0     0     0     0     0     0     0\n",
      "     0     0     0     0     0     0     0     0     0     0     0     0\n",
      "     0     0     0     0     0     0     0     0     0     0     0     0\n",
      "     0     0     0     0     0     0     0     0     0     0     0     0\n",
      "     0     0     0     0     0     0     0     0     0     0     0     0\n",
      "     0     0     0     0     0     0     0     0     0     0     0     0\n",
      "     0     0     0     0     0     0     0     0     0     0     0     0\n",
      "     0     0     0     0     0     0     0     0     0     0     0     0\n",
      "     0     0     0     0     0     0     0     0     0     0     0     0\n",
      "     0     0     0     0     0     0     0     0     0     0     0     0\n",
      "     0     0     0     0     0     0     0     0]\n",
      "\n",
      "[1 1 1 1 1 1 1 1 1 1 1 1 1 1 1 1 1 1 1 1 1 1 1 1 1 1 1 1 1 1 1 1 1 1 1 1 1\n",
      " 1 1 1 1 1 1 1 1 1 1 1 1 1 1 1 1 1 1 1 1 1 1 1 1 1 1 1 1 1 1 1 1 1 1 1 1 1\n",
      " 1 1 1 1 1 1 1 1 1 1 1 1 1 1 1 1 1 1 0 0 0 0 0 0 0 0 0 0 0 0 0 0 0 0 0 0 0\n",
      " 0 0 0 0 0 0 0 0 0 0 0 0 0 0 0 0 0 0 0 0 0 0 0 0 0 0 0 0 0 0 0 0 0 0 0 0 0\n",
      " 0 0 0 0 0 0 0 0 0 0 0 0 0 0 0 0 0 0 0 0 0 0 0 0 0 0 0 0 0 0 0 0 0 0 0 0 0\n",
      " 0 0 0 0 0 0 0 0 0 0 0 0 0 0 0 0 0 0 0 0 0 0 0 0 0 0 0 0 0 0 0 0 0 0 0 0 0\n",
      " 0 0 0 0 0 0 0 0 0 0 0 0 0 0 0 0 0 0 0 0 0 0 0 0 0 0 0 0 0 0 0 0 0 0 0 0 0\n",
      " 0 0 0 0 0 0 0 0 0 0 0 0 0 0 0 0 0 0 0 0 0 0 0 0 0 0 0 0 0 0 0 0 0 0 0 0 0\n",
      " 0 0 0 0 0 0 0 0 0 0 0 0 0 0 0 0 0 0 0 0 0 0 0 0 0 0 0 0 0 0 0 0 0 0 0 0 0\n",
      " 0 0 0 0 0 0 0 0 0 0 0 0 0 0 0 0 0 0 0 0 0 0 0 0 0 0 0 0 0 0 0 0 0 0 0 0 0\n",
      " 0 0 0 0 0 0 0 0 0 0 0 0 0 0 0 0 0 0 0 0 0 0 0 0 0 0 0 0 0 0 0 0 0 0 0 0 0\n",
      " 0 0 0 0 0 0 0 0 0 0 0 0 0 0 0 0 0 0 0 0 0 0 0 0 0 0 0 0 0 0 0 0 0 0 0 0 0\n",
      " 0 0 0 0 0 0 0 0 0 0 0 0 0 0 0 0 0 0 0 0 0 0 0 0 0 0 0 0 0 0 0 0 0 0 0 0 0\n",
      " 0 0 0 0 0 0 0 0 0 0 0 0 0 0 0 0 0 0 0 0 0 0 0 0 0 0 0 0 0 0 0]\n"
     ]
    }
   ],
   "source": [
    "from tensorflow.keras.preprocessing.sequence import pad_sequences\n",
    "\n",
    "XX      = [ [vocab.get(str.lower(w),1) for w in l]for l in data['text_clean']]\n",
    "XX      = [ [101] + l + [102] for l in XX]\n",
    "\n",
    "XX_mask = [ [1 for w in l]for l in XX]\n",
    "\n",
    "######################################################################################\n",
    "XX      = pad_sequences(maxlen = 512, sequences = XX, padding = 'post', value = 0)\n",
    "XX_mask = pad_sequences(maxlen = 512, sequences = XX_mask, padding = 'post', value = 0)\n",
    "\n",
    "######################################################################################\n",
    "print( XX[0] )\n",
    "print()\n",
    "print( XX_mask[0] )"
   ]
  },
  {
   "cell_type": "code",
   "execution_count": 18,
   "metadata": {},
   "outputs": [
    {
     "name": "stdout",
     "output_type": "stream",
     "text": [
      "[0 0 1 0 0 0 0 0 0 0 0 0 0 0 0 0 0 0 0 0 0 0 0 0 0 0 0 0 0 0]\n"
     ]
    }
   ],
   "source": [
    "YY = pd.get_dummies(data['Query']).values\n",
    "print( YY[0] )"
   ]
  },
  {
   "cell_type": "code",
   "execution_count": null,
   "metadata": {},
   "outputs": [],
   "source": []
  },
  {
   "cell_type": "code",
   "execution_count": 19,
   "metadata": {},
   "outputs": [],
   "source": [
    "max_seq_length = 512"
   ]
  },
  {
   "cell_type": "code",
   "execution_count": 20,
   "metadata": {},
   "outputs": [],
   "source": [
    "def get_argmax( l ):\n",
    "    return np.argmax(l)"
   ]
  },
  {
   "cell_type": "code",
   "execution_count": 21,
   "metadata": {},
   "outputs": [
    {
     "data": {
      "text/html": [
       "<div>\n",
       "<style scoped>\n",
       "    .dataframe tbody tr th:only-of-type {\n",
       "        vertical-align: middle;\n",
       "    }\n",
       "\n",
       "    .dataframe tbody tr th {\n",
       "        vertical-align: top;\n",
       "    }\n",
       "\n",
       "    .dataframe thead th {\n",
       "        text-align: right;\n",
       "    }\n",
       "</style>\n",
       "<table border=\"1\" class=\"dataframe\">\n",
       "  <thead>\n",
       "    <tr style=\"text-align: right;\">\n",
       "      <th></th>\n",
       "      <th>Query</th>\n",
       "      <th>Description</th>\n",
       "      <th>text_clean</th>\n",
       "      <th>len</th>\n",
       "      <th>category</th>\n",
       "    </tr>\n",
       "  </thead>\n",
       "  <tbody>\n",
       "    <tr>\n",
       "      <th>0</th>\n",
       "      <td>administrative assistant</td>\n",
       "      <td>this administrative assistant position is resp...</td>\n",
       "      <td>[this, administrative, assistant, position, is...</td>\n",
       "      <td>90</td>\n",
       "      <td>2</td>\n",
       "    </tr>\n",
       "    <tr>\n",
       "      <th>1</th>\n",
       "      <td>administrative assistant</td>\n",
       "      <td>administrative assistant part time the west or...</td>\n",
       "      <td>[administrative, assistant, part, time, the, w...</td>\n",
       "      <td>70</td>\n",
       "      <td>2</td>\n",
       "    </tr>\n",
       "    <tr>\n",
       "      <th>2</th>\n",
       "      <td>administrative assistant</td>\n",
       "      <td>administrative assistant in bus 26yrs fashion ...</td>\n",
       "      <td>[administrative, assistant, in, bus, 26yrs, fa...</td>\n",
       "      <td>308</td>\n",
       "      <td>2</td>\n",
       "    </tr>\n",
       "    <tr>\n",
       "      <th>3</th>\n",
       "      <td>sales representative</td>\n",
       "      <td>are you ready for something new are you tired ...</td>\n",
       "      <td>[are, you, ready, for, something, new, are, yo...</td>\n",
       "      <td>83</td>\n",
       "      <td>25</td>\n",
       "    </tr>\n",
       "    <tr>\n",
       "      <th>4</th>\n",
       "      <td>customer service representative</td>\n",
       "      <td>superior staff resources is currently seeking ...</td>\n",
       "      <td>[superior, staff, resources, is, currently, se...</td>\n",
       "      <td>254</td>\n",
       "      <td>6</td>\n",
       "    </tr>\n",
       "    <tr>\n",
       "      <th>...</th>\n",
       "      <td>...</td>\n",
       "      <td>...</td>\n",
       "      <td>...</td>\n",
       "      <td>...</td>\n",
       "      <td>...</td>\n",
       "    </tr>\n",
       "    <tr>\n",
       "      <th>72287</th>\n",
       "      <td>business analyst</td>\n",
       "      <td>ability construct complex sql statement analyz...</td>\n",
       "      <td>[ability, construct, complex, sql, statement, ...</td>\n",
       "      <td>148</td>\n",
       "      <td>4</td>\n",
       "    </tr>\n",
       "    <tr>\n",
       "      <th>72288</th>\n",
       "      <td>business analyst</td>\n",
       "      <td>join u pursue disruptive new vision make machi...</td>\n",
       "      <td>[join, u, pursue, disruptive, new, vision, mak...</td>\n",
       "      <td>265</td>\n",
       "      <td>4</td>\n",
       "    </tr>\n",
       "    <tr>\n",
       "      <th>72289</th>\n",
       "      <td>business analyst</td>\n",
       "      <td>duty high level independent decision making au...</td>\n",
       "      <td>[duty, high, level, independent, decision, mak...</td>\n",
       "      <td>77</td>\n",
       "      <td>4</td>\n",
       "    </tr>\n",
       "    <tr>\n",
       "      <th>72290</th>\n",
       "      <td>business analyst</td>\n",
       "      <td>crowdstrike leading provider nextgeneration en...</td>\n",
       "      <td>[crowdstrike, leading, provider, nextgeneratio...</td>\n",
       "      <td>315</td>\n",
       "      <td>4</td>\n",
       "    </tr>\n",
       "    <tr>\n",
       "      <th>72291</th>\n",
       "      <td>business analyst</td>\n",
       "      <td>manager competitive intelligence driving force...</td>\n",
       "      <td>[manager, competitive, intelligence, driving, ...</td>\n",
       "      <td>341</td>\n",
       "      <td>4</td>\n",
       "    </tr>\n",
       "  </tbody>\n",
       "</table>\n",
       "<p>72292 rows × 5 columns</p>\n",
       "</div>"
      ],
      "text/plain": [
       "                                 Query  \\\n",
       "0             administrative assistant   \n",
       "1             administrative assistant   \n",
       "2             administrative assistant   \n",
       "3                 sales representative   \n",
       "4      customer service representative   \n",
       "...                                ...   \n",
       "72287                 business analyst   \n",
       "72288                 business analyst   \n",
       "72289                 business analyst   \n",
       "72290                 business analyst   \n",
       "72291                 business analyst   \n",
       "\n",
       "                                             Description  \\\n",
       "0      this administrative assistant position is resp...   \n",
       "1      administrative assistant part time the west or...   \n",
       "2      administrative assistant in bus 26yrs fashion ...   \n",
       "3      are you ready for something new are you tired ...   \n",
       "4      superior staff resources is currently seeking ...   \n",
       "...                                                  ...   \n",
       "72287  ability construct complex sql statement analyz...   \n",
       "72288  join u pursue disruptive new vision make machi...   \n",
       "72289  duty high level independent decision making au...   \n",
       "72290  crowdstrike leading provider nextgeneration en...   \n",
       "72291  manager competitive intelligence driving force...   \n",
       "\n",
       "                                              text_clean  len  category  \n",
       "0      [this, administrative, assistant, position, is...   90         2  \n",
       "1      [administrative, assistant, part, time, the, w...   70         2  \n",
       "2      [administrative, assistant, in, bus, 26yrs, fa...  308         2  \n",
       "3      [are, you, ready, for, something, new, are, yo...   83        25  \n",
       "4      [superior, staff, resources, is, currently, se...  254         6  \n",
       "...                                                  ...  ...       ...  \n",
       "72287  [ability, construct, complex, sql, statement, ...  148         4  \n",
       "72288  [join, u, pursue, disruptive, new, vision, mak...  265         4  \n",
       "72289  [duty, high, level, independent, decision, mak...   77         4  \n",
       "72290  [crowdstrike, leading, provider, nextgeneratio...  315         4  \n",
       "72291  [manager, competitive, intelligence, driving, ...  341         4  \n",
       "\n",
       "[72292 rows x 5 columns]"
      ]
     },
     "execution_count": 21,
     "metadata": {},
     "output_type": "execute_result"
    }
   ],
   "source": [
    "data['category'] = list( YY )\n",
    "data['category'] = data['category'].apply( get_argmax )\n",
    "data"
   ]
  },
  {
   "cell_type": "code",
   "execution_count": 22,
   "metadata": {},
   "outputs": [
    {
     "data": {
      "text/plain": [
       "{2: 'administrative assistant',\n",
       " 25: 'sales representative',\n",
       " 6: 'customer service representative',\n",
       " 12: 'java developer',\n",
       " 9: 'financial analyst',\n",
       " 17: 'project manager',\n",
       " 8: 'executive assistant',\n",
       " 13: 'maintenance technician',\n",
       " 16: 'physical therapist',\n",
       " 29: 'store manager',\n",
       " 28: 'staff accountant',\n",
       " 10: 'inside sales representative',\n",
       " 0: 'account executive',\n",
       " 18: 'receptionist',\n",
       " 27: 'senior accountant',\n",
       " 4: 'business analyst',\n",
       " 19: 'restaurant manager',\n",
       " 1: 'account representative',\n",
       " 20: 'retail sales associate',\n",
       " 26: 'sales representative account manager customer service',\n",
       " 21: 'retail wireless sales consultant',\n",
       " 24: 'sales management trainee',\n",
       " 11: 'janiking franchise business opportunity',\n",
       " 15: 'own your own franchise',\n",
       " 5: 'cashier',\n",
       " 23: 'sales franchise',\n",
       " 7: 'customer service sales representative part time work',\n",
       " 14: 'mobile tool sales franchise distributor',\n",
       " 3: 'benefits consultant',\n",
       " 22: 'sales customer service part or full time summer work'}"
      ]
     },
     "execution_count": 22,
     "metadata": {},
     "output_type": "execute_result"
    }
   ],
   "source": [
    "temp_DF = data[['Query','category']].drop_duplicates()\n",
    "\n",
    "category_dict = {}\n",
    "for ind, row in temp_DF.iterrows():\n",
    "    category_dict[ row['category'] ] = row['Query']\n",
    "\n",
    "category_dict"
   ]
  },
  {
   "cell_type": "code",
   "execution_count": 23,
   "metadata": {},
   "outputs": [],
   "source": [
    "# X_train, X_test, Y_train, Y_test = train_test_split( XX,YY, test_size = 0.2, random_state = 42)\n",
    "# print( X_train.shape, Y_train.shape )\n",
    "# print( X_test.shape, Y_test.shape )"
   ]
  },
  {
   "cell_type": "code",
   "execution_count": 24,
   "metadata": {},
   "outputs": [
    {
     "data": {
      "text/plain": [
       "array([0, 0, 1, 0, 0, 0, 0, 0, 0, 0, 0, 0, 0, 0, 0, 0, 0, 0, 0, 0, 0, 0,\n",
       "       0, 0, 0, 0, 0, 0, 0, 0], dtype=uint8)"
      ]
     },
     "execution_count": 24,
     "metadata": {},
     "output_type": "execute_result"
    }
   ],
   "source": [
    "YY[0]"
   ]
  },
  {
   "cell_type": "code",
   "execution_count": 25,
   "metadata": {},
   "outputs": [
    {
     "data": {
      "text/plain": [
       "(72292, 30)"
      ]
     },
     "execution_count": 25,
     "metadata": {},
     "output_type": "execute_result"
    }
   ],
   "source": [
    "YY.shape"
   ]
  },
  {
   "cell_type": "code",
   "execution_count": null,
   "metadata": {},
   "outputs": [],
   "source": []
  },
  {
   "cell_type": "markdown",
   "metadata": {},
   "source": [
    "# Bert  Embeding"
   ]
  },
  {
   "cell_type": "code",
   "execution_count": 26,
   "metadata": {},
   "outputs": [],
   "source": [
    "from tensorflow import keras\n"
   ]
  },
  {
   "cell_type": "code",
   "execution_count": 27,
   "metadata": {},
   "outputs": [
    {
     "name": "stdout",
     "output_type": "stream",
     "text": [
      "Model: \"functional_5\"\n",
      "__________________________________________________________________________________________________\n",
      "Layer (type)                    Output Shape         Param #     Connected to                     \n",
      "==================================================================================================\n",
      "input_1 (InputLayer)            [(None, 512)]        0                                            \n",
      "__________________________________________________________________________________________________\n",
      "input_2 (InputLayer)            [(None, 512)]        0                                            \n",
      "__________________________________________________________________________________________________\n",
      "functional_3 (Functional)       (None, 512, 128)     4369408     input_1[0][0]                    \n",
      "                                                                 input_2[0][0]                    \n",
      "__________________________________________________________________________________________________\n",
      "lambda (Lambda)                 (None, 128)          0           functional_3[0][0]               \n",
      "__________________________________________________________________________________________________\n",
      "dense (Dense)                   (None, 30)           3870        lambda[0][0]                     \n",
      "==================================================================================================\n",
      "Total params: 4,373,278\n",
      "Trainable params: 4,373,278\n",
      "Non-trainable params: 0\n",
      "__________________________________________________________________________________________________\n"
     ]
    }
   ],
   "source": [
    "max_seq_length = 512\n",
    "feature_size = max_seq_length\n",
    "dropout_rate = 0.2\n",
    "num_classes  = len( set( data['Query'] ) )\n",
    "\n",
    "\n",
    "model_path = r\"uncased_L-2_H-128_A-2/\"\n",
    "bert = load_trained_model_from_checkpoint(\n",
    "    model_path + \"bert_config.json\",\n",
    "    model_path + \"bert_model.ckpt\",\n",
    "    seq_len = max_seq_length\n",
    ")\n",
    "\n",
    "for layer in bert.layers:\n",
    "    layer.trainable = True\n",
    "    \n",
    "    \n",
    "x1 = keras.Input(shape=(None,))\n",
    "x2 = keras.Input(shape=(None,))\n",
    "embed = bert([x1, x2])\n",
    "\n",
    "# embed = keras.layers.Reshape((512, 128, 1), name='add_channel')(embed)\n",
    "\n",
    "outputs =  tf.keras.layers.Lambda(lambda x: x[:, 0])(embed) \n",
    "# pool_outputs = []\n",
    "# for filter_size in [3,4,5]:\n",
    "#     filter_shape = (filter_size, 50)\n",
    "#     conv = keras.layers.Conv2D(50, filter_shape, strides=(1, 1), padding='valid',\n",
    "#                                data_format='channels_last', activation='relu',\n",
    "#                                kernel_initializer='glorot_normal',\n",
    "#                                bias_initializer=keras.initializers.constant(0.1),\n",
    "#                                name='convolution_{:d}'.format(filter_size))(embed)\n",
    "    \n",
    "#     max_pool_shape = (feature_size - filter_size + 1, 1)\n",
    "#     pool = keras.layers.MaxPool2D(pool_size=max_pool_shape,\n",
    "#                                   strides=(1, 1), padding='valid',\n",
    "#                                   data_format='channels_last',\n",
    "#                                   name='max_pooling_{:d}'.format(filter_size))(conv)\n",
    "    \n",
    "#     pool_outputs.append(pool)\n",
    "\n",
    "# pool_outputs = keras.layers.concatenate(pool_outputs, axis=-1, name='concatenate')\n",
    "# pool_outputs = keras.layers.Flatten(data_format='channels_last', name='flatten')(pool_outputs)\n",
    "# pool_outputs = keras.layers.Dropout(dropout_rate, name='dropout')(pool_outputs)\n",
    "\n",
    "\n",
    "# pool_outputs = keras.layers.Flatten(data_format='channels_last', name='flatten')(embed)\n",
    "# pool_outputs = keras.layers.Dropout(dropout_rate, name='dropout')(pool_outputs)\n",
    "\n",
    "\n",
    "outputs = keras.layers.Dense(num_classes, activation='softmax',\n",
    "                             kernel_initializer='glorot_normal',\n",
    "                             bias_initializer=keras.initializers.constant(0.1),\n",
    "                             name='dense')(outputs)\n",
    "\n",
    "\n",
    "model = keras.Model(inputs=[x1,x2], outputs=outputs)\n",
    "model.compile(loss='categorical_crossentropy', optimizer='adam', metrics=['accuracy'])\n",
    "\n",
    "model.summary()"
   ]
  },
  {
   "cell_type": "code",
   "execution_count": 28,
   "metadata": {},
   "outputs": [
    {
     "name": "stdout",
     "output_type": "stream",
     "text": [
      "Epoch 1/10\n",
      "25302/25302 [==============================] - 751s 30ms/step - loss: 0.8628 - accuracy: 0.7337 - val_loss: 0.8237 - val_accuracy: 0.7561\n",
      "Epoch 2/10\n",
      "25302/25302 [==============================] - 764s 30ms/step - loss: 0.6573 - accuracy: 0.7910 - val_loss: 0.8028 - val_accuracy: 0.7715\n",
      "Epoch 3/10\n",
      "25302/25302 [==============================] - 770s 30ms/step - loss: 0.6065 - accuracy: 0.8045 - val_loss: 0.7826 - val_accuracy: 0.7565\n",
      "Epoch 4/10\n",
      "25302/25302 [==============================] - 767s 30ms/step - loss: 0.5919 - accuracy: 0.8107 - val_loss: 0.6791 - val_accuracy: 0.7931\n",
      "Epoch 5/10\n",
      "25302/25302 [==============================] - 765s 30ms/step - loss: 0.5636 - accuracy: 0.8170 - val_loss: 0.7307 - val_accuracy: 0.7800\n",
      "Epoch 6/10\n",
      "25302/25302 [==============================] - 766s 30ms/step - loss: 0.5271 - accuracy: 0.8284 - val_loss: 0.6044 - val_accuracy: 0.8101\n",
      "Epoch 7/10\n",
      "25302/25302 [==============================] - 769s 30ms/step - loss: 0.4854 - accuracy: 0.8388 - val_loss: 0.6599 - val_accuracy: 0.8145\n",
      "Epoch 8/10\n",
      "25302/25302 [==============================] - 769s 30ms/step - loss: 0.4580 - accuracy: 0.8518 - val_loss: 0.6180 - val_accuracy: 0.8246\n",
      "Epoch 9/10\n",
      "25302/25302 [==============================] - 770s 30ms/step - loss: 0.4356 - accuracy: 0.8605 - val_loss: 0.6053 - val_accuracy: 0.8403\n"
     ]
    }
   ],
   "source": [
    "epochs = 10\n",
    "batch_size = 2\n",
    "\n",
    "history = model.fit([XX,XX_mask], YY, epochs=epochs, batch_size=batch_size,validation_split=0.3,callbacks=[EarlyStopping(monitor='val_loss', patience=3, min_delta=0.0001)])\n",
    "# history = model.fit(X_train, Y_train, epochs=epochs,steps_per_epoch=100, batch_size=batch_size,validation_split=0.1,callbacks=[EarlyStopping(monitor='val_loss', patience=3, min_delta=0.0001)])"
   ]
  },
  {
   "cell_type": "code",
   "execution_count": null,
   "metadata": {},
   "outputs": [],
   "source": []
  },
  {
   "cell_type": "code",
   "execution_count": null,
   "metadata": {},
   "outputs": [],
   "source": []
  },
  {
   "cell_type": "code",
   "execution_count": null,
   "metadata": {},
   "outputs": [],
   "source": []
  },
  {
   "cell_type": "code",
   "execution_count": null,
   "metadata": {},
   "outputs": [],
   "source": []
  },
  {
   "cell_type": "code",
   "execution_count": null,
   "metadata": {},
   "outputs": [],
   "source": []
  },
  {
   "cell_type": "code",
   "execution_count": null,
   "metadata": {},
   "outputs": [],
   "source": []
  },
  {
   "cell_type": "code",
   "execution_count": null,
   "metadata": {},
   "outputs": [],
   "source": []
  },
  {
   "cell_type": "code",
   "execution_count": null,
   "metadata": {},
   "outputs": [],
   "source": []
  },
  {
   "cell_type": "code",
   "execution_count": null,
   "metadata": {},
   "outputs": [],
   "source": []
  },
  {
   "cell_type": "markdown",
   "metadata": {},
   "source": [
    "# texTCNN"
   ]
  },
  {
   "cell_type": "code",
   "execution_count": 26,
   "metadata": {},
   "outputs": [],
   "source": [
    "from tensorflow.keras import layers"
   ]
  },
  {
   "cell_type": "code",
   "execution_count": 28,
   "metadata": {},
   "outputs": [],
   "source": [
    "from tensorflow import keras"
   ]
  },
  {
   "cell_type": "code",
   "execution_count": 29,
   "metadata": {},
   "outputs": [
    {
     "name": "stdout",
     "output_type": "stream",
     "text": [
      "Model: \"functional_9\"\n",
      "__________________________________________________________________________________________________\n",
      "Layer (type)                    Output Shape         Param #     Connected to                     \n",
      "==================================================================================================\n",
      "input_1 (InputLayer)            [(None, 512)]        0                                            \n",
      "__________________________________________________________________________________________________\n",
      "input_2 (InputLayer)            [(None, 512)]        0                                            \n",
      "__________________________________________________________________________________________________\n",
      "functional_7 (Functional)       (None, 512, 128)     4369408     input_1[0][0]                    \n",
      "                                                                 input_2[0][0]                    \n",
      "__________________________________________________________________________________________________\n",
      "conv1d (Conv1D)                 (None, 508, 128)     82048       functional_7[0][0]               \n",
      "__________________________________________________________________________________________________\n",
      "max_pooling1d (MaxPooling1D)    (None, 101, 128)     0           conv1d[0][0]                     \n",
      "__________________________________________________________________________________________________\n",
      "conv1d_1 (Conv1D)               (None, 97, 128)      82048       max_pooling1d[0][0]              \n",
      "__________________________________________________________________________________________________\n",
      "max_pooling1d_1 (MaxPooling1D)  (None, 19, 128)      0           conv1d_1[0][0]                   \n",
      "__________________________________________________________________________________________________\n",
      "conv1d_2 (Conv1D)               (None, 15, 128)      82048       max_pooling1d_1[0][0]            \n",
      "__________________________________________________________________________________________________\n",
      "global_max_pooling1d (GlobalMax (None, 128)          0           conv1d_2[0][0]                   \n",
      "__________________________________________________________________________________________________\n",
      "dense (Dense)                   (None, 256)          33024       global_max_pooling1d[0][0]       \n",
      "__________________________________________________________________________________________________\n",
      "dropout (Dropout)               (None, 256)          0           dense[0][0]                      \n",
      "__________________________________________________________________________________________________\n",
      "dense_1 (Dense)                 (None, 30)           7710        dropout[0][0]                    \n",
      "==================================================================================================\n",
      "Total params: 4,656,286\n",
      "Trainable params: 286,878\n",
      "Non-trainable params: 4,369,408\n",
      "__________________________________________________________________________________________________\n"
     ]
    }
   ],
   "source": [
    "max_seq_length = 512\n",
    "feature_size = max_seq_length\n",
    "dropout_rate = 0.2\n",
    "num_classes  = len( set( data['Query'] ) )\n",
    "\n",
    "\n",
    "model_path = r\"uncased_L-2_H-128_A-2/\"\n",
    "bert = load_trained_model_from_checkpoint(\n",
    "    model_path + \"bert_config.json\",\n",
    "    model_path + \"bert_model.ckpt\",\n",
    "    seq_len = max_seq_length\n",
    ")\n",
    "\n",
    "for layer in bert.layers:\n",
    "    layer.trainable = False\n",
    "    \n",
    "    \n",
    "x1 = keras.Input(shape=(None,))\n",
    "x2 = keras.Input(shape=(None,))\n",
    "embed = bert([x1, x2])\n",
    "\n",
    "\n",
    "x = layers.Conv1D(128, 5, activation=\"relu\",kernel_initializer='glorot_normal',\n",
    "                                   bias_initializer=keras.initializers.constant(0.1))(embed)\n",
    "x = layers.MaxPooling1D(5)(x)\n",
    "x = layers.Conv1D(128, 5, activation=\"relu\",kernel_initializer='glorot_normal',\n",
    "                                   bias_initializer=keras.initializers.constant(0.1))(x)\n",
    "x = layers.MaxPooling1D(5)(x)\n",
    "x = layers.Conv1D(128, 5, activation=\"relu\",kernel_initializer='glorot_normal',\n",
    "                                   bias_initializer=keras.initializers.constant(0.1))(x)\n",
    "x = layers.GlobalMaxPooling1D()(x)\n",
    "x = layers.Dense(256, activation=\"relu\")(x)\n",
    "x = layers.Dropout(0.3)(x)\n",
    "\n",
    "outputs = layers.Dense( num_classes , activation=\"softmax\")(x)\n",
    "model = keras.Model(inputs=[x1,x2], outputs=outputs)\n",
    "model.compile(loss='categorical_crossentropy', optimizer='adam', metrics=['accuracy'])\n",
    "\n",
    "\n",
    "# embed = keras.layers.Reshape((512, 128, 1), name='add_channel')(embed)\n",
    "\n",
    "\n",
    "\n",
    "# pool_outputs = keras.layers.Flatten(data_format='channels_last', name='flatten')(embed)\n",
    "\n",
    "# outputs = keras.layers.Dense(num_classes, activation='softmax',\n",
    "#                              kernel_initializer='glorot_normal',\n",
    "#                              bias_initializer=keras.initializers.constant(0.1),\n",
    "#                              name='dense')(pool_outputs)\n",
    "\n",
    "\n",
    "# model = keras.Model(inputs=[x1,x2], outputs=outputs)\n",
    "# model.compile(loss='categorical_crossentropy', optimizer='adam', metrics=['accuracy'])\n",
    "\n",
    "model.summary()"
   ]
  },
  {
   "cell_type": "code",
   "execution_count": 30,
   "metadata": {},
   "outputs": [
    {
     "name": "stdout",
     "output_type": "stream",
     "text": [
      "Epoch 1/2\n"
     ]
    },
    {
     "ename": "UnknownError",
     "evalue": " Failed to get convolution algorithm. This is probably because cuDNN failed to initialize, so try looking to see if a warning log message was printed above.\n\t [[node functional_9/conv1d/conv1d (defined at <ipython-input-30-c39918ba400f>:4) ]] [Op:__inference_train_function_9092]\n\nFunction call stack:\ntrain_function\n",
     "output_type": "error",
     "traceback": [
      "\u001b[0;31m---------------------------------------------------------------------------\u001b[0m",
      "\u001b[0;31mUnknownError\u001b[0m                              Traceback (most recent call last)",
      "\u001b[0;32m<ipython-input-30-c39918ba400f>\u001b[0m in \u001b[0;36m<module>\u001b[0;34m\u001b[0m\n\u001b[1;32m      2\u001b[0m \u001b[0mbatch_size\u001b[0m \u001b[0;34m=\u001b[0m \u001b[0;36m32\u001b[0m\u001b[0;34m\u001b[0m\u001b[0;34m\u001b[0m\u001b[0m\n\u001b[1;32m      3\u001b[0m \u001b[0;34m\u001b[0m\u001b[0m\n\u001b[0;32m----> 4\u001b[0;31m \u001b[0mhistory\u001b[0m \u001b[0;34m=\u001b[0m \u001b[0mmodel\u001b[0m\u001b[0;34m.\u001b[0m\u001b[0mfit\u001b[0m\u001b[0;34m(\u001b[0m\u001b[0;34m[\u001b[0m\u001b[0mXX\u001b[0m\u001b[0;34m,\u001b[0m\u001b[0mXX_mask\u001b[0m\u001b[0;34m]\u001b[0m\u001b[0;34m,\u001b[0m \u001b[0mYY\u001b[0m\u001b[0;34m,\u001b[0m \u001b[0mepochs\u001b[0m\u001b[0;34m=\u001b[0m\u001b[0mepochs\u001b[0m\u001b[0;34m,\u001b[0m \u001b[0mbatch_size\u001b[0m\u001b[0;34m=\u001b[0m\u001b[0mbatch_size\u001b[0m\u001b[0;34m,\u001b[0m\u001b[0mvalidation_split\u001b[0m\u001b[0;34m=\u001b[0m\u001b[0;36m0.2\u001b[0m\u001b[0;34m,\u001b[0m\u001b[0mcallbacks\u001b[0m\u001b[0;34m=\u001b[0m\u001b[0;34m[\u001b[0m\u001b[0mEarlyStopping\u001b[0m\u001b[0;34m(\u001b[0m\u001b[0mmonitor\u001b[0m\u001b[0;34m=\u001b[0m\u001b[0;34m'val_loss'\u001b[0m\u001b[0;34m,\u001b[0m \u001b[0mpatience\u001b[0m\u001b[0;34m=\u001b[0m\u001b[0;36m3\u001b[0m\u001b[0;34m,\u001b[0m \u001b[0mmin_delta\u001b[0m\u001b[0;34m=\u001b[0m\u001b[0;36m0.0001\u001b[0m\u001b[0;34m)\u001b[0m\u001b[0;34m]\u001b[0m\u001b[0;34m)\u001b[0m\u001b[0;34m\u001b[0m\u001b[0;34m\u001b[0m\u001b[0m\n\u001b[0m\u001b[1;32m      5\u001b[0m \u001b[0;31m# history = model.fit(X_train, Y_train, epochs=epochs,steps_per_epoch=100, batch_size=batch_size,validation_split=0.1,callbacks=[EarlyStopping(monitor='val_loss', patience=3, min_delta=0.0001)])\u001b[0m\u001b[0;34m\u001b[0m\u001b[0;34m\u001b[0m\u001b[0;34m\u001b[0m\u001b[0m\n",
      "\u001b[0;32m/usr/local/lib/python3.6/dist-packages/tensorflow/python/keras/engine/training.py\u001b[0m in \u001b[0;36m_method_wrapper\u001b[0;34m(self, *args, **kwargs)\u001b[0m\n\u001b[1;32m    106\u001b[0m   \u001b[0;32mdef\u001b[0m \u001b[0m_method_wrapper\u001b[0m\u001b[0;34m(\u001b[0m\u001b[0mself\u001b[0m\u001b[0;34m,\u001b[0m \u001b[0;34m*\u001b[0m\u001b[0margs\u001b[0m\u001b[0;34m,\u001b[0m \u001b[0;34m**\u001b[0m\u001b[0mkwargs\u001b[0m\u001b[0;34m)\u001b[0m\u001b[0;34m:\u001b[0m\u001b[0;34m\u001b[0m\u001b[0;34m\u001b[0m\u001b[0m\n\u001b[1;32m    107\u001b[0m     \u001b[0;32mif\u001b[0m \u001b[0;32mnot\u001b[0m \u001b[0mself\u001b[0m\u001b[0;34m.\u001b[0m\u001b[0m_in_multi_worker_mode\u001b[0m\u001b[0;34m(\u001b[0m\u001b[0;34m)\u001b[0m\u001b[0;34m:\u001b[0m  \u001b[0;31m# pylint: disable=protected-access\u001b[0m\u001b[0;34m\u001b[0m\u001b[0;34m\u001b[0m\u001b[0m\n\u001b[0;32m--> 108\u001b[0;31m       \u001b[0;32mreturn\u001b[0m \u001b[0mmethod\u001b[0m\u001b[0;34m(\u001b[0m\u001b[0mself\u001b[0m\u001b[0;34m,\u001b[0m \u001b[0;34m*\u001b[0m\u001b[0margs\u001b[0m\u001b[0;34m,\u001b[0m \u001b[0;34m**\u001b[0m\u001b[0mkwargs\u001b[0m\u001b[0;34m)\u001b[0m\u001b[0;34m\u001b[0m\u001b[0;34m\u001b[0m\u001b[0m\n\u001b[0m\u001b[1;32m    109\u001b[0m \u001b[0;34m\u001b[0m\u001b[0m\n\u001b[1;32m    110\u001b[0m     \u001b[0;31m# Running inside `run_distribute_coordinator` already.\u001b[0m\u001b[0;34m\u001b[0m\u001b[0;34m\u001b[0m\u001b[0;34m\u001b[0m\u001b[0m\n",
      "\u001b[0;32m/usr/local/lib/python3.6/dist-packages/tensorflow/python/keras/engine/training.py\u001b[0m in \u001b[0;36mfit\u001b[0;34m(self, x, y, batch_size, epochs, verbose, callbacks, validation_split, validation_data, shuffle, class_weight, sample_weight, initial_epoch, steps_per_epoch, validation_steps, validation_batch_size, validation_freq, max_queue_size, workers, use_multiprocessing)\u001b[0m\n\u001b[1;32m   1096\u001b[0m                 batch_size=batch_size):\n\u001b[1;32m   1097\u001b[0m               \u001b[0mcallbacks\u001b[0m\u001b[0;34m.\u001b[0m\u001b[0mon_train_batch_begin\u001b[0m\u001b[0;34m(\u001b[0m\u001b[0mstep\u001b[0m\u001b[0;34m)\u001b[0m\u001b[0;34m\u001b[0m\u001b[0;34m\u001b[0m\u001b[0m\n\u001b[0;32m-> 1098\u001b[0;31m               \u001b[0mtmp_logs\u001b[0m \u001b[0;34m=\u001b[0m \u001b[0mtrain_function\u001b[0m\u001b[0;34m(\u001b[0m\u001b[0miterator\u001b[0m\u001b[0;34m)\u001b[0m\u001b[0;34m\u001b[0m\u001b[0;34m\u001b[0m\u001b[0m\n\u001b[0m\u001b[1;32m   1099\u001b[0m               \u001b[0;32mif\u001b[0m \u001b[0mdata_handler\u001b[0m\u001b[0;34m.\u001b[0m\u001b[0mshould_sync\u001b[0m\u001b[0;34m:\u001b[0m\u001b[0;34m\u001b[0m\u001b[0;34m\u001b[0m\u001b[0m\n\u001b[1;32m   1100\u001b[0m                 \u001b[0mcontext\u001b[0m\u001b[0;34m.\u001b[0m\u001b[0masync_wait\u001b[0m\u001b[0;34m(\u001b[0m\u001b[0;34m)\u001b[0m\u001b[0;34m\u001b[0m\u001b[0;34m\u001b[0m\u001b[0m\n",
      "\u001b[0;32m/usr/local/lib/python3.6/dist-packages/tensorflow/python/eager/def_function.py\u001b[0m in \u001b[0;36m__call__\u001b[0;34m(self, *args, **kwds)\u001b[0m\n\u001b[1;32m    778\u001b[0m       \u001b[0;32melse\u001b[0m\u001b[0;34m:\u001b[0m\u001b[0;34m\u001b[0m\u001b[0;34m\u001b[0m\u001b[0m\n\u001b[1;32m    779\u001b[0m         \u001b[0mcompiler\u001b[0m \u001b[0;34m=\u001b[0m \u001b[0;34m\"nonXla\"\u001b[0m\u001b[0;34m\u001b[0m\u001b[0;34m\u001b[0m\u001b[0m\n\u001b[0;32m--> 780\u001b[0;31m         \u001b[0mresult\u001b[0m \u001b[0;34m=\u001b[0m \u001b[0mself\u001b[0m\u001b[0;34m.\u001b[0m\u001b[0m_call\u001b[0m\u001b[0;34m(\u001b[0m\u001b[0;34m*\u001b[0m\u001b[0margs\u001b[0m\u001b[0;34m,\u001b[0m \u001b[0;34m**\u001b[0m\u001b[0mkwds\u001b[0m\u001b[0;34m)\u001b[0m\u001b[0;34m\u001b[0m\u001b[0;34m\u001b[0m\u001b[0m\n\u001b[0m\u001b[1;32m    781\u001b[0m \u001b[0;34m\u001b[0m\u001b[0m\n\u001b[1;32m    782\u001b[0m       \u001b[0mnew_tracing_count\u001b[0m \u001b[0;34m=\u001b[0m \u001b[0mself\u001b[0m\u001b[0;34m.\u001b[0m\u001b[0m_get_tracing_count\u001b[0m\u001b[0;34m(\u001b[0m\u001b[0;34m)\u001b[0m\u001b[0;34m\u001b[0m\u001b[0;34m\u001b[0m\u001b[0m\n",
      "\u001b[0;32m/usr/local/lib/python3.6/dist-packages/tensorflow/python/eager/def_function.py\u001b[0m in \u001b[0;36m_call\u001b[0;34m(self, *args, **kwds)\u001b[0m\n\u001b[1;32m    838\u001b[0m         \u001b[0;31m# Lifting succeeded, so variables are initialized and we can run the\u001b[0m\u001b[0;34m\u001b[0m\u001b[0;34m\u001b[0m\u001b[0;34m\u001b[0m\u001b[0m\n\u001b[1;32m    839\u001b[0m         \u001b[0;31m# stateless function.\u001b[0m\u001b[0;34m\u001b[0m\u001b[0;34m\u001b[0m\u001b[0;34m\u001b[0m\u001b[0m\n\u001b[0;32m--> 840\u001b[0;31m         \u001b[0;32mreturn\u001b[0m \u001b[0mself\u001b[0m\u001b[0;34m.\u001b[0m\u001b[0m_stateless_fn\u001b[0m\u001b[0;34m(\u001b[0m\u001b[0;34m*\u001b[0m\u001b[0margs\u001b[0m\u001b[0;34m,\u001b[0m \u001b[0;34m**\u001b[0m\u001b[0mkwds\u001b[0m\u001b[0;34m)\u001b[0m\u001b[0;34m\u001b[0m\u001b[0;34m\u001b[0m\u001b[0m\n\u001b[0m\u001b[1;32m    841\u001b[0m     \u001b[0;32melse\u001b[0m\u001b[0;34m:\u001b[0m\u001b[0;34m\u001b[0m\u001b[0;34m\u001b[0m\u001b[0m\n\u001b[1;32m    842\u001b[0m       \u001b[0mcanon_args\u001b[0m\u001b[0;34m,\u001b[0m \u001b[0mcanon_kwds\u001b[0m \u001b[0;34m=\u001b[0m\u001b[0;31m \u001b[0m\u001b[0;31m\\\u001b[0m\u001b[0;34m\u001b[0m\u001b[0;34m\u001b[0m\u001b[0m\n",
      "\u001b[0;32m/usr/local/lib/python3.6/dist-packages/tensorflow/python/eager/function.py\u001b[0m in \u001b[0;36m__call__\u001b[0;34m(self, *args, **kwargs)\u001b[0m\n\u001b[1;32m   2827\u001b[0m     \u001b[0;32mwith\u001b[0m \u001b[0mself\u001b[0m\u001b[0;34m.\u001b[0m\u001b[0m_lock\u001b[0m\u001b[0;34m:\u001b[0m\u001b[0;34m\u001b[0m\u001b[0;34m\u001b[0m\u001b[0m\n\u001b[1;32m   2828\u001b[0m       \u001b[0mgraph_function\u001b[0m\u001b[0;34m,\u001b[0m \u001b[0margs\u001b[0m\u001b[0;34m,\u001b[0m \u001b[0mkwargs\u001b[0m \u001b[0;34m=\u001b[0m \u001b[0mself\u001b[0m\u001b[0;34m.\u001b[0m\u001b[0m_maybe_define_function\u001b[0m\u001b[0;34m(\u001b[0m\u001b[0margs\u001b[0m\u001b[0;34m,\u001b[0m \u001b[0mkwargs\u001b[0m\u001b[0;34m)\u001b[0m\u001b[0;34m\u001b[0m\u001b[0;34m\u001b[0m\u001b[0m\n\u001b[0;32m-> 2829\u001b[0;31m     \u001b[0;32mreturn\u001b[0m \u001b[0mgraph_function\u001b[0m\u001b[0;34m.\u001b[0m\u001b[0m_filtered_call\u001b[0m\u001b[0;34m(\u001b[0m\u001b[0margs\u001b[0m\u001b[0;34m,\u001b[0m \u001b[0mkwargs\u001b[0m\u001b[0;34m)\u001b[0m  \u001b[0;31m# pylint: disable=protected-access\u001b[0m\u001b[0;34m\u001b[0m\u001b[0;34m\u001b[0m\u001b[0m\n\u001b[0m\u001b[1;32m   2830\u001b[0m \u001b[0;34m\u001b[0m\u001b[0m\n\u001b[1;32m   2831\u001b[0m   \u001b[0;34m@\u001b[0m\u001b[0mproperty\u001b[0m\u001b[0;34m\u001b[0m\u001b[0;34m\u001b[0m\u001b[0m\n",
      "\u001b[0;32m/usr/local/lib/python3.6/dist-packages/tensorflow/python/eager/function.py\u001b[0m in \u001b[0;36m_filtered_call\u001b[0;34m(self, args, kwargs, cancellation_manager)\u001b[0m\n\u001b[1;32m   1846\u001b[0m                            resource_variable_ops.BaseResourceVariable))],\n\u001b[1;32m   1847\u001b[0m         \u001b[0mcaptured_inputs\u001b[0m\u001b[0;34m=\u001b[0m\u001b[0mself\u001b[0m\u001b[0;34m.\u001b[0m\u001b[0mcaptured_inputs\u001b[0m\u001b[0;34m,\u001b[0m\u001b[0;34m\u001b[0m\u001b[0;34m\u001b[0m\u001b[0m\n\u001b[0;32m-> 1848\u001b[0;31m         cancellation_manager=cancellation_manager)\n\u001b[0m\u001b[1;32m   1849\u001b[0m \u001b[0;34m\u001b[0m\u001b[0m\n\u001b[1;32m   1850\u001b[0m   \u001b[0;32mdef\u001b[0m \u001b[0m_call_flat\u001b[0m\u001b[0;34m(\u001b[0m\u001b[0mself\u001b[0m\u001b[0;34m,\u001b[0m \u001b[0margs\u001b[0m\u001b[0;34m,\u001b[0m \u001b[0mcaptured_inputs\u001b[0m\u001b[0;34m,\u001b[0m \u001b[0mcancellation_manager\u001b[0m\u001b[0;34m=\u001b[0m\u001b[0;32mNone\u001b[0m\u001b[0;34m)\u001b[0m\u001b[0;34m:\u001b[0m\u001b[0;34m\u001b[0m\u001b[0;34m\u001b[0m\u001b[0m\n",
      "\u001b[0;32m/usr/local/lib/python3.6/dist-packages/tensorflow/python/eager/function.py\u001b[0m in \u001b[0;36m_call_flat\u001b[0;34m(self, args, captured_inputs, cancellation_manager)\u001b[0m\n\u001b[1;32m   1922\u001b[0m       \u001b[0;31m# No tape is watching; skip to running the function.\u001b[0m\u001b[0;34m\u001b[0m\u001b[0;34m\u001b[0m\u001b[0;34m\u001b[0m\u001b[0m\n\u001b[1;32m   1923\u001b[0m       return self._build_call_outputs(self._inference_function.call(\n\u001b[0;32m-> 1924\u001b[0;31m           ctx, args, cancellation_manager=cancellation_manager))\n\u001b[0m\u001b[1;32m   1925\u001b[0m     forward_backward = self._select_forward_and_backward_functions(\n\u001b[1;32m   1926\u001b[0m         \u001b[0margs\u001b[0m\u001b[0;34m,\u001b[0m\u001b[0;34m\u001b[0m\u001b[0;34m\u001b[0m\u001b[0m\n",
      "\u001b[0;32m/usr/local/lib/python3.6/dist-packages/tensorflow/python/eager/function.py\u001b[0m in \u001b[0;36mcall\u001b[0;34m(self, ctx, args, cancellation_manager)\u001b[0m\n\u001b[1;32m    548\u001b[0m               \u001b[0minputs\u001b[0m\u001b[0;34m=\u001b[0m\u001b[0margs\u001b[0m\u001b[0;34m,\u001b[0m\u001b[0;34m\u001b[0m\u001b[0;34m\u001b[0m\u001b[0m\n\u001b[1;32m    549\u001b[0m               \u001b[0mattrs\u001b[0m\u001b[0;34m=\u001b[0m\u001b[0mattrs\u001b[0m\u001b[0;34m,\u001b[0m\u001b[0;34m\u001b[0m\u001b[0;34m\u001b[0m\u001b[0m\n\u001b[0;32m--> 550\u001b[0;31m               ctx=ctx)\n\u001b[0m\u001b[1;32m    551\u001b[0m         \u001b[0;32melse\u001b[0m\u001b[0;34m:\u001b[0m\u001b[0;34m\u001b[0m\u001b[0;34m\u001b[0m\u001b[0m\n\u001b[1;32m    552\u001b[0m           outputs = execute.execute_with_cancellation(\n",
      "\u001b[0;32m/usr/local/lib/python3.6/dist-packages/tensorflow/python/eager/execute.py\u001b[0m in \u001b[0;36mquick_execute\u001b[0;34m(op_name, num_outputs, inputs, attrs, ctx, name)\u001b[0m\n\u001b[1;32m     58\u001b[0m     \u001b[0mctx\u001b[0m\u001b[0;34m.\u001b[0m\u001b[0mensure_initialized\u001b[0m\u001b[0;34m(\u001b[0m\u001b[0;34m)\u001b[0m\u001b[0;34m\u001b[0m\u001b[0;34m\u001b[0m\u001b[0m\n\u001b[1;32m     59\u001b[0m     tensors = pywrap_tfe.TFE_Py_Execute(ctx._handle, device_name, op_name,\n\u001b[0;32m---> 60\u001b[0;31m                                         inputs, attrs, num_outputs)\n\u001b[0m\u001b[1;32m     61\u001b[0m   \u001b[0;32mexcept\u001b[0m \u001b[0mcore\u001b[0m\u001b[0;34m.\u001b[0m\u001b[0m_NotOkStatusException\u001b[0m \u001b[0;32mas\u001b[0m \u001b[0me\u001b[0m\u001b[0;34m:\u001b[0m\u001b[0;34m\u001b[0m\u001b[0;34m\u001b[0m\u001b[0m\n\u001b[1;32m     62\u001b[0m     \u001b[0;32mif\u001b[0m \u001b[0mname\u001b[0m \u001b[0;32mis\u001b[0m \u001b[0;32mnot\u001b[0m \u001b[0;32mNone\u001b[0m\u001b[0;34m:\u001b[0m\u001b[0;34m\u001b[0m\u001b[0;34m\u001b[0m\u001b[0m\n",
      "\u001b[0;31mUnknownError\u001b[0m:  Failed to get convolution algorithm. This is probably because cuDNN failed to initialize, so try looking to see if a warning log message was printed above.\n\t [[node functional_9/conv1d/conv1d (defined at <ipython-input-30-c39918ba400f>:4) ]] [Op:__inference_train_function_9092]\n\nFunction call stack:\ntrain_function\n"
     ]
    }
   ],
   "source": [
    "epochs = 2\n",
    "batch_size = 32\n",
    "\n",
    "history = model.fit([XX,XX_mask], YY, epochs=epochs, batch_size=batch_size,validation_split=0.2,callbacks=[EarlyStopping(monitor='val_loss', patience=3, min_delta=0.0001)])\n",
    "# history = model.fit(X_train, Y_train, epochs=epochs,steps_per_epoch=100, batch_size=batch_size,validation_split=0.1,callbacks=[EarlyStopping(monitor='val_loss', patience=3, min_delta=0.0001)])"
   ]
  },
  {
   "cell_type": "code",
   "execution_count": null,
   "metadata": {},
   "outputs": [],
   "source": []
  },
  {
   "cell_type": "code",
   "execution_count": null,
   "metadata": {},
   "outputs": [],
   "source": []
  },
  {
   "cell_type": "code",
   "execution_count": null,
   "metadata": {},
   "outputs": [],
   "source": []
  },
  {
   "cell_type": "code",
   "execution_count": null,
   "metadata": {},
   "outputs": [],
   "source": []
  },
  {
   "cell_type": "code",
   "execution_count": null,
   "metadata": {},
   "outputs": [],
   "source": []
  },
  {
   "cell_type": "code",
   "execution_count": null,
   "metadata": {},
   "outputs": [],
   "source": []
  },
  {
   "cell_type": "code",
   "execution_count": null,
   "metadata": {},
   "outputs": [],
   "source": []
  },
  {
   "cell_type": "code",
   "execution_count": null,
   "metadata": {},
   "outputs": [],
   "source": [
    "accr = model.evaluate(X_test,Y_test)\n",
    "print('Test set\\n  Loss: {:0.3f}\\n  Accuracy: {:0.3f}'.format(accr[0],accr[1]))"
   ]
  },
  {
   "cell_type": "code",
   "execution_count": null,
   "metadata": {},
   "outputs": [],
   "source": [
    "plt.title('Accuracy')\n",
    "plt.plot(history.history['accuracy'], label='train')\n",
    "plt.plot(history.history['val_accuracy'], label='test')\n",
    "plt.legend()\n",
    "plt.show()"
   ]
  },
  {
   "cell_type": "code",
   "execution_count": null,
   "metadata": {},
   "outputs": [],
   "source": [
    "XX.shape"
   ]
  },
  {
   "cell_type": "markdown",
   "metadata": {},
   "source": [
    "# random 500 data\n",
    "# extract middle layer as document distribution presentation"
   ]
  },
  {
   "cell_type": "code",
   "execution_count": null,
   "metadata": {},
   "outputs": [],
   "source": [
    "import random\n",
    "import tensorflow as tf\n",
    "\n",
    "x_list = []\n",
    "y_list = []\n",
    "\n",
    "index = 0\n",
    "while True:\n",
    "    if index >= 3000:\n",
    "        break\n",
    "    \n",
    "    try:\n",
    "        ranIndex = random.randint( 0,len( XX ) )\n",
    "\n",
    "        layer_output = model.get_layer('concatenate').output\n",
    "        intermediate_model = tf.keras.models.Model(inputs=model.input,outputs=layer_output)\n",
    "        intermediate_prediction = intermediate_model.predict( XX[ranIndex:ranIndex+1] )\n",
    "\n",
    "        Y_index = YY[ranIndex:ranIndex+1]\n",
    "\n",
    "        # print( YY )\n",
    "#         print( data['text_clean'][ranIndex] )\n",
    "#         print()\n",
    "#         print( data['Query'][ranIndex] )\n",
    "#         print()\n",
    "\n",
    "#         print( intermediate_prediction[0][0][0] )\n",
    "        x_list.append( intermediate_prediction[0][0][0] )\n",
    "#         y_list.append( data['Query'][ranIndex] )\n",
    "        y_list.append( YY[ranIndex] )\n",
    "#         print()\n",
    "        index += 1\n",
    "\n",
    "    except:\n",
    "        print( 'Error' )"
   ]
  },
  {
   "cell_type": "code",
   "execution_count": null,
   "metadata": {},
   "outputs": [],
   "source": [
    "c_list = [ np.argmax(y) for y in y_list ]"
   ]
  },
  {
   "cell_type": "markdown",
   "metadata": {},
   "source": [
    "# t-sne visualization"
   ]
  },
  {
   "cell_type": "code",
   "execution_count": null,
   "metadata": {},
   "outputs": [],
   "source": [
    "category_dict"
   ]
  },
  {
   "cell_type": "code",
   "execution_count": null,
   "metadata": {},
   "outputs": [],
   "source": [
    "from sklearn.manifold import TSNE\n",
    "from sklearn.datasets import load_iris\n",
    "from sklearn.decomposition import PCA\n",
    "import matplotlib.pyplot as plt\n",
    " \n",
    "X_tsne = TSNE(learning_rate=100).fit_transform( x_list )\n",
    "\n",
    "fig = plt.figure(figsize=(20, 16))\n",
    "ax = fig.add_subplot(111)\n",
    "\n",
    "ind = 0\n",
    "\n",
    "label_list = []\n",
    "for tem in X_tsne:\n",
    "    if c_list[ind] not in label_list:\n",
    "        ax.plot( tem[0], tem[1],label = category_dict[c_list[ind]]  )\n",
    "        label_list.append( c_list[ind] )\n",
    "        \n",
    "    ind +=1\n",
    "\n",
    "plt.scatter( X_tsne[:, 0], X_tsne[:, 1], c=c_list )\n",
    "plt.legend()"
   ]
  },
  {
   "cell_type": "code",
   "execution_count": null,
   "metadata": {},
   "outputs": [],
   "source": []
  },
  {
   "cell_type": "code",
   "execution_count": null,
   "metadata": {},
   "outputs": [],
   "source": []
  },
  {
   "cell_type": "code",
   "execution_count": null,
   "metadata": {},
   "outputs": [],
   "source": []
  },
  {
   "cell_type": "code",
   "execution_count": null,
   "metadata": {},
   "outputs": [],
   "source": []
  },
  {
   "cell_type": "code",
   "execution_count": null,
   "metadata": {},
   "outputs": [],
   "source": []
  }
 ],
 "metadata": {
  "kernelspec": {
   "display_name": "Python 3",
   "language": "python",
   "name": "python3"
  },
  "language_info": {
   "codemirror_mode": {
    "name": "ipython",
    "version": 3
   },
   "file_extension": ".py",
   "mimetype": "text/x-python",
   "name": "python",
   "nbconvert_exporter": "python",
   "pygments_lexer": "ipython3",
   "version": "3.6.9"
  }
 },
 "nbformat": 4,
 "nbformat_minor": 1
}
