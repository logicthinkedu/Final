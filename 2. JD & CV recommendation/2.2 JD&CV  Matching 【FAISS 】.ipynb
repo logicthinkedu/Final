{
 "cells": [
  {
   "cell_type": "markdown",
   "metadata": {},
   "source": [
    "## 1. train textCNN model\n",
    "## 2. extract the middle layer as document Vector\n",
    "## 3. transform JD&CV to Vector\n",
    "## 4. use FAISS to get most simmilar Vector from Vector Matrix"
   ]
  },
  {
   "cell_type": "code",
   "execution_count": 2,
   "metadata": {},
   "outputs": [],
   "source": [
    "from keras.models import Sequential\n",
    "from keras.layers import Conv1D, GlobalMaxPooling1D, Embedding, LSTM, MaxPooling1D,BatchNormalization,GRU, SpatialDropout1D\n",
    "from keras.layers.core import Dense, Dropout, Activation\n",
    "from keras.preprocessing.text import Tokenizer\n",
    "from keras import metrics, regularizers\n",
    "from keras.preprocessing import sequence\n",
    "import pandas as pd\n",
    "import numpy as np\n",
    "import matplotlib.pyplot as plt\n",
    "\n",
    "from keras.preprocessing.text import Tokenizer\n",
    "from keras.preprocessing.sequence import pad_sequences\n",
    "from keras.models import Sequential\n",
    "from keras.layers import Dense, Embedding, LSTM, SpatialDropout1D\n",
    "from sklearn.model_selection import train_test_split\n",
    "from keras.utils.np_utils import to_categorical\n",
    "from keras.callbacks import EarlyStopping\n",
    "from keras.layers import Dropout\n",
    "from bs4 import BeautifulSoup\n",
    "import re\n",
    "\n",
    "from sklearn.model_selection import train_test_split\n",
    "from sklearn.preprocessing import LabelBinarizer"
   ]
  },
  {
   "cell_type": "markdown",
   "metadata": {},
   "source": [
    "# import Job Description dataset"
   ]
  },
  {
   "cell_type": "code",
   "execution_count": 3,
   "metadata": {},
   "outputs": [
    {
     "data": {
      "text/html": [
       "<div>\n",
       "<style scoped>\n",
       "    .dataframe tbody tr th:only-of-type {\n",
       "        vertical-align: middle;\n",
       "    }\n",
       "\n",
       "    .dataframe tbody tr th {\n",
       "        vertical-align: top;\n",
       "    }\n",
       "\n",
       "    .dataframe thead th {\n",
       "        text-align: right;\n",
       "    }\n",
       "</style>\n",
       "<table border=\"1\" class=\"dataframe\">\n",
       "  <thead>\n",
       "    <tr style=\"text-align: right;\">\n",
       "      <th></th>\n",
       "      <th>Query</th>\n",
       "      <th>Description</th>\n",
       "    </tr>\n",
       "  </thead>\n",
       "  <tbody>\n",
       "    <tr>\n",
       "      <th>0</th>\n",
       "      <td>Administrative Assistant</td>\n",
       "      <td>This Administrative Assistant position is resp...</td>\n",
       "    </tr>\n",
       "    <tr>\n",
       "      <th>1</th>\n",
       "      <td>Administrative Assistant</td>\n",
       "      <td>ADMINISTRATIVE ASSISTANT Part Time The West Or...</td>\n",
       "    </tr>\n",
       "    <tr>\n",
       "      <th>2</th>\n",
       "      <td>Administrative Assistant</td>\n",
       "      <td>Administrative Assistant -  In Bus 26yrs Fashi...</td>\n",
       "    </tr>\n",
       "    <tr>\n",
       "      <th>3</th>\n",
       "      <td>Sales Representative</td>\n",
       "      <td>Are you ready for something new? Are you tired...</td>\n",
       "    </tr>\n",
       "    <tr>\n",
       "      <th>4</th>\n",
       "      <td>Customer Service Representative</td>\n",
       "      <td>Superior Staff Resources is currently seeking ...</td>\n",
       "    </tr>\n",
       "    <tr>\n",
       "      <th>5</th>\n",
       "      <td>Customer Service Representative</td>\n",
       "      <td>&lt;br /&gt;\\r&lt;span&gt;&lt;strong&gt;The Opportunity:&lt;/strong...</td>\n",
       "    </tr>\n",
       "    <tr>\n",
       "      <th>6</th>\n",
       "      <td>Java Developer</td>\n",
       "      <td>&lt;P&gt;&lt;STRONG&gt;As a member of the Web and Portal D...</td>\n",
       "    </tr>\n",
       "    <tr>\n",
       "      <th>7</th>\n",
       "      <td>Java Developer</td>\n",
       "      <td>&lt;BR&gt;\\r&lt;TABLE border=0 cellSpacing=0 cellPaddin...</td>\n",
       "    </tr>\n",
       "    <tr>\n",
       "      <th>8</th>\n",
       "      <td>Administrative Assistant</td>\n",
       "      <td>The main function of this role is to provide a...</td>\n",
       "    </tr>\n",
       "    <tr>\n",
       "      <th>9</th>\n",
       "      <td>Financial Analyst</td>\n",
       "      <td>Financial Analyst\\n Perform portfolio analysis...</td>\n",
       "    </tr>\n",
       "  </tbody>\n",
       "</table>\n",
       "</div>"
      ],
      "text/plain": [
       "                             Query  \\\n",
       "0         Administrative Assistant   \n",
       "1         Administrative Assistant   \n",
       "2         Administrative Assistant   \n",
       "3             Sales Representative   \n",
       "4  Customer Service Representative   \n",
       "5  Customer Service Representative   \n",
       "6                   Java Developer   \n",
       "7                   Java Developer   \n",
       "8         Administrative Assistant   \n",
       "9                Financial Analyst   \n",
       "\n",
       "                                         Description  \n",
       "0  This Administrative Assistant position is resp...  \n",
       "1  ADMINISTRATIVE ASSISTANT Part Time The West Or...  \n",
       "2  Administrative Assistant -  In Bus 26yrs Fashi...  \n",
       "3  Are you ready for something new? Are you tired...  \n",
       "4  Superior Staff Resources is currently seeking ...  \n",
       "5  <br />\\r<span><strong>The Opportunity:</strong...  \n",
       "6  <P><STRONG>As a member of the Web and Portal D...  \n",
       "7  <BR>\\r<TABLE border=0 cellSpacing=0 cellPaddin...  \n",
       "8  The main function of this role is to provide a...  \n",
       "9  Financial Analyst\\n Perform portfolio analysis...  "
      ]
     },
     "execution_count": 3,
     "metadata": {},
     "output_type": "execute_result"
    }
   ],
   "source": [
    "data = pd.read_csv(r'../Data/JD.csv',usecols = ['Query','Description'])\n",
    "data.head(10)"
   ]
  },
  {
   "cell_type": "markdown",
   "metadata": {},
   "source": [
    "# data clean"
   ]
  },
  {
   "cell_type": "code",
   "execution_count": 4,
   "metadata": {},
   "outputs": [],
   "source": [
    "data = data.reset_index(drop=True)\n",
    "REPLACE_BY_SPACE_RE = re.compile('[/(){}\\[\\]\\|@,;]')\n",
    "BAD_SYMBOLS_RE = re.compile('[^0-9a-z #+_]')\n",
    "\n",
    "def clean_text(text):\n",
    "#     text = BeautifulSoup(text, \"lxml\").text\n",
    "#     pat = re.compile('<[^>]+>', re.S)\n",
    "    text = text.replace(r'\\\\n', ' ').replace(r'\\\\r', ' ').replace(r'\\r', ' ').replace(r'\\n', ' ')\n",
    "    \n",
    "    cleanr = re.compile('<.*?>|&([a-z0-9]+|#[0-9]{1,6}|#x[0-9a-f]{1,6});')\n",
    "    text = cleanr.sub(' ', text)\n",
    "    \n",
    "#     text = text.replace(r'\\\\n', ' ').replace(r'\\\\r', ' ').replace(r'\\r', ' ').replace(r'\\n', ' ')\n",
    "    text = text.lower() # lowercase text\n",
    "    text = REPLACE_BY_SPACE_RE.sub(' ', text) # replace REPLACE_BY_SPACE_RE symbols by space in text. substitute the matched string in REPLACE_BY_SPACE_RE with space.\n",
    "    text = BAD_SYMBOLS_RE.sub('', text) # remove symbols which are in BAD_SYMBOLS_RE from text. substitute the matched string in BAD_SYMBOLS_RE with nothing. \n",
    "#    text = re.sub(r'\\W+', '', text)\n",
    "    text = ' '.join(word for word in text.split()) # remove stopwors from text\n",
    "    return text"
   ]
  },
  {
   "cell_type": "code",
   "execution_count": 5,
   "metadata": {},
   "outputs": [],
   "source": [
    "data['Query'] = data['Query'].apply(clean_text)\n",
    "data['Description'] = data['Description'].apply(clean_text)"
   ]
  },
  {
   "cell_type": "markdown",
   "metadata": {},
   "source": [
    "# sample"
   ]
  },
  {
   "cell_type": "code",
   "execution_count": 6,
   "metadata": {},
   "outputs": [],
   "source": [
    "import re\n",
    "from bs4 import BeautifulSoup\n",
    "\n",
    "def string_process(l):\n",
    "#     temp_list = [str(i).replace('\\\\n', ' ').replace('\\\\r', ' ').replace('\\r', ' ').replace('\\n', ' ').strip().lower() for i in nlp(l)]\n",
    "#     temp_string = ' '.join( temp_list )\n",
    "#     temp_list = [str(i) for i in nlp(temp_string)] \n",
    "    temp_list = l.split()\n",
    "    return temp_list"
   ]
  },
  {
   "cell_type": "code",
   "execution_count": 7,
   "metadata": {},
   "outputs": [
    {
     "data": {
      "text/html": [
       "<div>\n",
       "<style scoped>\n",
       "    .dataframe tbody tr th:only-of-type {\n",
       "        vertical-align: middle;\n",
       "    }\n",
       "\n",
       "    .dataframe tbody tr th {\n",
       "        vertical-align: top;\n",
       "    }\n",
       "\n",
       "    .dataframe thead th {\n",
       "        text-align: right;\n",
       "    }\n",
       "</style>\n",
       "<table border=\"1\" class=\"dataframe\">\n",
       "  <thead>\n",
       "    <tr style=\"text-align: right;\">\n",
       "      <th></th>\n",
       "      <th>Query</th>\n",
       "      <th>Description</th>\n",
       "      <th>text_clean</th>\n",
       "      <th>len</th>\n",
       "    </tr>\n",
       "  </thead>\n",
       "  <tbody>\n",
       "    <tr>\n",
       "      <th>0</th>\n",
       "      <td>administrative assistant</td>\n",
       "      <td>this administrative assistant position is resp...</td>\n",
       "      <td>[this, administrative, assistant, position, is...</td>\n",
       "      <td>90</td>\n",
       "    </tr>\n",
       "    <tr>\n",
       "      <th>1</th>\n",
       "      <td>administrative assistant</td>\n",
       "      <td>administrative assistant part time the west or...</td>\n",
       "      <td>[administrative, assistant, part, time, the, w...</td>\n",
       "      <td>70</td>\n",
       "    </tr>\n",
       "    <tr>\n",
       "      <th>2</th>\n",
       "      <td>administrative assistant</td>\n",
       "      <td>administrative assistant in bus 26yrs fashion ...</td>\n",
       "      <td>[administrative, assistant, in, bus, 26yrs, fa...</td>\n",
       "      <td>308</td>\n",
       "    </tr>\n",
       "    <tr>\n",
       "      <th>3</th>\n",
       "      <td>sales representative</td>\n",
       "      <td>are you ready for something new are you tired ...</td>\n",
       "      <td>[are, you, ready, for, something, new, are, yo...</td>\n",
       "      <td>83</td>\n",
       "    </tr>\n",
       "    <tr>\n",
       "      <th>4</th>\n",
       "      <td>customer service representative</td>\n",
       "      <td>superior staff resources is currently seeking ...</td>\n",
       "      <td>[superior, staff, resources, is, currently, se...</td>\n",
       "      <td>254</td>\n",
       "    </tr>\n",
       "    <tr>\n",
       "      <th>...</th>\n",
       "      <td>...</td>\n",
       "      <td>...</td>\n",
       "      <td>...</td>\n",
       "      <td>...</td>\n",
       "    </tr>\n",
       "    <tr>\n",
       "      <th>72287</th>\n",
       "      <td>business analyst</td>\n",
       "      <td>ability construct complex sql statement analyz...</td>\n",
       "      <td>[ability, construct, complex, sql, statement, ...</td>\n",
       "      <td>148</td>\n",
       "    </tr>\n",
       "    <tr>\n",
       "      <th>72288</th>\n",
       "      <td>business analyst</td>\n",
       "      <td>join u pursue disruptive new vision make machi...</td>\n",
       "      <td>[join, u, pursue, disruptive, new, vision, mak...</td>\n",
       "      <td>265</td>\n",
       "    </tr>\n",
       "    <tr>\n",
       "      <th>72289</th>\n",
       "      <td>business analyst</td>\n",
       "      <td>duty high level independent decision making au...</td>\n",
       "      <td>[duty, high, level, independent, decision, mak...</td>\n",
       "      <td>77</td>\n",
       "    </tr>\n",
       "    <tr>\n",
       "      <th>72290</th>\n",
       "      <td>business analyst</td>\n",
       "      <td>crowdstrike leading provider nextgeneration en...</td>\n",
       "      <td>[crowdstrike, leading, provider, nextgeneratio...</td>\n",
       "      <td>315</td>\n",
       "    </tr>\n",
       "    <tr>\n",
       "      <th>72291</th>\n",
       "      <td>business analyst</td>\n",
       "      <td>manager competitive intelligence driving force...</td>\n",
       "      <td>[manager, competitive, intelligence, driving, ...</td>\n",
       "      <td>341</td>\n",
       "    </tr>\n",
       "  </tbody>\n",
       "</table>\n",
       "<p>67588 rows × 4 columns</p>\n",
       "</div>"
      ],
      "text/plain": [
       "                                 Query  \\\n",
       "0             administrative assistant   \n",
       "1             administrative assistant   \n",
       "2             administrative assistant   \n",
       "3                 sales representative   \n",
       "4      customer service representative   \n",
       "...                                ...   \n",
       "72287                 business analyst   \n",
       "72288                 business analyst   \n",
       "72289                 business analyst   \n",
       "72290                 business analyst   \n",
       "72291                 business analyst   \n",
       "\n",
       "                                             Description  \\\n",
       "0      this administrative assistant position is resp...   \n",
       "1      administrative assistant part time the west or...   \n",
       "2      administrative assistant in bus 26yrs fashion ...   \n",
       "3      are you ready for something new are you tired ...   \n",
       "4      superior staff resources is currently seeking ...   \n",
       "...                                                  ...   \n",
       "72287  ability construct complex sql statement analyz...   \n",
       "72288  join u pursue disruptive new vision make machi...   \n",
       "72289  duty high level independent decision making au...   \n",
       "72290  crowdstrike leading provider nextgeneration en...   \n",
       "72291  manager competitive intelligence driving force...   \n",
       "\n",
       "                                              text_clean  len  \n",
       "0      [this, administrative, assistant, position, is...   90  \n",
       "1      [administrative, assistant, part, time, the, w...   70  \n",
       "2      [administrative, assistant, in, bus, 26yrs, fa...  308  \n",
       "3      [are, you, ready, for, something, new, are, yo...   83  \n",
       "4      [superior, staff, resources, is, currently, se...  254  \n",
       "...                                                  ...  ...  \n",
       "72287  [ability, construct, complex, sql, statement, ...  148  \n",
       "72288  [join, u, pursue, disruptive, new, vision, mak...  265  \n",
       "72289  [duty, high, level, independent, decision, mak...   77  \n",
       "72290  [crowdstrike, leading, provider, nextgeneratio...  315  \n",
       "72291  [manager, competitive, intelligence, driving, ...  341  \n",
       "\n",
       "[67588 rows x 4 columns]"
      ]
     },
     "execution_count": 7,
     "metadata": {},
     "output_type": "execute_result"
    }
   ],
   "source": [
    "data['text_clean'] = data['Description'].apply( string_process )\n",
    "data['len'] = data['text_clean'].apply(len)\n",
    "data = data[data['len'] < 500]\n",
    "data"
   ]
  },
  {
   "cell_type": "code",
   "execution_count": 8,
   "metadata": {},
   "outputs": [],
   "source": [
    "import numpy as np\n",
    "from gensim.models import KeyedVectors"
   ]
  },
  {
   "cell_type": "code",
   "execution_count": 9,
   "metadata": {},
   "outputs": [],
   "source": [
    "# load the Stanford GloVe model\n",
    "filename = r'../word2vec/glove.6B.100d.txt.word2vec'\n",
    "model = KeyedVectors.load_word2vec_format(filename, binary=False)"
   ]
  },
  {
   "cell_type": "code",
   "execution_count": 10,
   "metadata": {},
   "outputs": [
    {
     "name": "stderr",
     "output_type": "stream",
     "text": [
      "/home/lothar/.local/lib/python3.6/site-packages/ipykernel_launcher.py:2: DeprecationWarning: Call to deprecated `wv` (Attribute will be removed in 4.0.0, use self instead).\n",
      "  \n",
      "/home/lothar/.local/lib/python3.6/site-packages/ipykernel_launcher.py:5: DeprecationWarning: Call to deprecated `wv` (Attribute will be removed in 4.0.0, use self instead).\n",
      "  \"\"\"\n"
     ]
    }
   ],
   "source": [
    "word2idx = {\"PAD\": 0,\"UNK\": 1} # 初始化 `[word : token]` 字典，后期 tokenize 语料库就是用该词典。\n",
    "vocab_list = [(k, model.wv[k]) for k, v in model.wv.vocab.items()]\n",
    "\n",
    "# 存储所有 word2vec 中所有向量的数组，留意其中多一位，词向量全为 0， 用于 padding\n",
    "embeddings_matrix = np.zeros((len(model.wv.vocab.items()) + 2, model.vector_size))\n",
    "for i in range(len(vocab_list)):\n",
    "    word = vocab_list[i][0]\n",
    "    word2idx[word] = i + 2\n",
    "    embeddings_matrix[i + 2] = vocab_list[i][1]\n",
    "    \n",
    "embeddings_matrix[1] = np.mean(embeddings_matrix, axis=0)"
   ]
  },
  {
   "cell_type": "code",
   "execution_count": 11,
   "metadata": {},
   "outputs": [],
   "source": [
    "max_seq_length = 500"
   ]
  },
  {
   "cell_type": "code",
   "execution_count": 12,
   "metadata": {},
   "outputs": [],
   "source": [
    "def PreProcessInputData( text ):\n",
    "    word_labels = []\n",
    "\n",
    "    for sequence in text:\n",
    "        len_text = len(sequence)\n",
    "\n",
    "        ###########################################\n",
    "        temp_word_labels = []\n",
    "        for w in sequence:\n",
    "            temp_word_labels.append( word2idx.get( str(w).lower(),1 ) )\n",
    "\n",
    "        ###########################################\n",
    "        temp_word_labels = temp_word_labels + [0] * ( max_seq_length - len_text )\n",
    "        word_labels.append( temp_word_labels )\n",
    "\n",
    "    return word_labels"
   ]
  },
  {
   "cell_type": "code",
   "execution_count": 13,
   "metadata": {},
   "outputs": [],
   "source": [
    "def get_argmax( l ):\n",
    "    return np.argmax(l)"
   ]
  },
  {
   "cell_type": "code",
   "execution_count": 14,
   "metadata": {},
   "outputs": [],
   "source": [
    "XX = np.array( PreProcessInputData( data['text_clean'] ) )\n",
    "YY = pd.get_dummies(data['Query']).values"
   ]
  },
  {
   "cell_type": "code",
   "execution_count": 15,
   "metadata": {},
   "outputs": [
    {
     "data": {
      "text/html": [
       "<div>\n",
       "<style scoped>\n",
       "    .dataframe tbody tr th:only-of-type {\n",
       "        vertical-align: middle;\n",
       "    }\n",
       "\n",
       "    .dataframe tbody tr th {\n",
       "        vertical-align: top;\n",
       "    }\n",
       "\n",
       "    .dataframe thead th {\n",
       "        text-align: right;\n",
       "    }\n",
       "</style>\n",
       "<table border=\"1\" class=\"dataframe\">\n",
       "  <thead>\n",
       "    <tr style=\"text-align: right;\">\n",
       "      <th></th>\n",
       "      <th>Query</th>\n",
       "      <th>Description</th>\n",
       "      <th>text_clean</th>\n",
       "      <th>len</th>\n",
       "      <th>category</th>\n",
       "    </tr>\n",
       "  </thead>\n",
       "  <tbody>\n",
       "    <tr>\n",
       "      <th>0</th>\n",
       "      <td>administrative assistant</td>\n",
       "      <td>this administrative assistant position is resp...</td>\n",
       "      <td>[this, administrative, assistant, position, is...</td>\n",
       "      <td>90</td>\n",
       "      <td>2</td>\n",
       "    </tr>\n",
       "    <tr>\n",
       "      <th>1</th>\n",
       "      <td>administrative assistant</td>\n",
       "      <td>administrative assistant part time the west or...</td>\n",
       "      <td>[administrative, assistant, part, time, the, w...</td>\n",
       "      <td>70</td>\n",
       "      <td>2</td>\n",
       "    </tr>\n",
       "    <tr>\n",
       "      <th>2</th>\n",
       "      <td>administrative assistant</td>\n",
       "      <td>administrative assistant in bus 26yrs fashion ...</td>\n",
       "      <td>[administrative, assistant, in, bus, 26yrs, fa...</td>\n",
       "      <td>308</td>\n",
       "      <td>2</td>\n",
       "    </tr>\n",
       "    <tr>\n",
       "      <th>3</th>\n",
       "      <td>sales representative</td>\n",
       "      <td>are you ready for something new are you tired ...</td>\n",
       "      <td>[are, you, ready, for, something, new, are, yo...</td>\n",
       "      <td>83</td>\n",
       "      <td>24</td>\n",
       "    </tr>\n",
       "    <tr>\n",
       "      <th>4</th>\n",
       "      <td>customer service representative</td>\n",
       "      <td>superior staff resources is currently seeking ...</td>\n",
       "      <td>[superior, staff, resources, is, currently, se...</td>\n",
       "      <td>254</td>\n",
       "      <td>6</td>\n",
       "    </tr>\n",
       "    <tr>\n",
       "      <th>...</th>\n",
       "      <td>...</td>\n",
       "      <td>...</td>\n",
       "      <td>...</td>\n",
       "      <td>...</td>\n",
       "      <td>...</td>\n",
       "    </tr>\n",
       "    <tr>\n",
       "      <th>72287</th>\n",
       "      <td>business analyst</td>\n",
       "      <td>ability construct complex sql statement analyz...</td>\n",
       "      <td>[ability, construct, complex, sql, statement, ...</td>\n",
       "      <td>148</td>\n",
       "      <td>4</td>\n",
       "    </tr>\n",
       "    <tr>\n",
       "      <th>72288</th>\n",
       "      <td>business analyst</td>\n",
       "      <td>join u pursue disruptive new vision make machi...</td>\n",
       "      <td>[join, u, pursue, disruptive, new, vision, mak...</td>\n",
       "      <td>265</td>\n",
       "      <td>4</td>\n",
       "    </tr>\n",
       "    <tr>\n",
       "      <th>72289</th>\n",
       "      <td>business analyst</td>\n",
       "      <td>duty high level independent decision making au...</td>\n",
       "      <td>[duty, high, level, independent, decision, mak...</td>\n",
       "      <td>77</td>\n",
       "      <td>4</td>\n",
       "    </tr>\n",
       "    <tr>\n",
       "      <th>72290</th>\n",
       "      <td>business analyst</td>\n",
       "      <td>crowdstrike leading provider nextgeneration en...</td>\n",
       "      <td>[crowdstrike, leading, provider, nextgeneratio...</td>\n",
       "      <td>315</td>\n",
       "      <td>4</td>\n",
       "    </tr>\n",
       "    <tr>\n",
       "      <th>72291</th>\n",
       "      <td>business analyst</td>\n",
       "      <td>manager competitive intelligence driving force...</td>\n",
       "      <td>[manager, competitive, intelligence, driving, ...</td>\n",
       "      <td>341</td>\n",
       "      <td>4</td>\n",
       "    </tr>\n",
       "  </tbody>\n",
       "</table>\n",
       "<p>67588 rows × 5 columns</p>\n",
       "</div>"
      ],
      "text/plain": [
       "                                 Query  \\\n",
       "0             administrative assistant   \n",
       "1             administrative assistant   \n",
       "2             administrative assistant   \n",
       "3                 sales representative   \n",
       "4      customer service representative   \n",
       "...                                ...   \n",
       "72287                 business analyst   \n",
       "72288                 business analyst   \n",
       "72289                 business analyst   \n",
       "72290                 business analyst   \n",
       "72291                 business analyst   \n",
       "\n",
       "                                             Description  \\\n",
       "0      this administrative assistant position is resp...   \n",
       "1      administrative assistant part time the west or...   \n",
       "2      administrative assistant in bus 26yrs fashion ...   \n",
       "3      are you ready for something new are you tired ...   \n",
       "4      superior staff resources is currently seeking ...   \n",
       "...                                                  ...   \n",
       "72287  ability construct complex sql statement analyz...   \n",
       "72288  join u pursue disruptive new vision make machi...   \n",
       "72289  duty high level independent decision making au...   \n",
       "72290  crowdstrike leading provider nextgeneration en...   \n",
       "72291  manager competitive intelligence driving force...   \n",
       "\n",
       "                                              text_clean  len  category  \n",
       "0      [this, administrative, assistant, position, is...   90         2  \n",
       "1      [administrative, assistant, part, time, the, w...   70         2  \n",
       "2      [administrative, assistant, in, bus, 26yrs, fa...  308         2  \n",
       "3      [are, you, ready, for, something, new, are, yo...   83        24  \n",
       "4      [superior, staff, resources, is, currently, se...  254         6  \n",
       "...                                                  ...  ...       ...  \n",
       "72287  [ability, construct, complex, sql, statement, ...  148         4  \n",
       "72288  [join, u, pursue, disruptive, new, vision, mak...  265         4  \n",
       "72289  [duty, high, level, independent, decision, mak...   77         4  \n",
       "72290  [crowdstrike, leading, provider, nextgeneratio...  315         4  \n",
       "72291  [manager, competitive, intelligence, driving, ...  341         4  \n",
       "\n",
       "[67588 rows x 5 columns]"
      ]
     },
     "execution_count": 15,
     "metadata": {},
     "output_type": "execute_result"
    }
   ],
   "source": [
    "data['category'] = list( YY )\n",
    "data['category'] = data['category'].apply( get_argmax )\n",
    "data"
   ]
  },
  {
   "cell_type": "code",
   "execution_count": 16,
   "metadata": {},
   "outputs": [
    {
     "data": {
      "text/plain": [
       "{2: 'administrative assistant',\n",
       " 24: 'sales representative',\n",
       " 6: 'customer service representative',\n",
       " 12: 'java developer',\n",
       " 9: 'financial analyst',\n",
       " 17: 'project manager',\n",
       " 8: 'executive assistant',\n",
       " 13: 'maintenance technician',\n",
       " 16: 'physical therapist',\n",
       " 28: 'store manager',\n",
       " 27: 'staff accountant',\n",
       " 10: 'inside sales representative',\n",
       " 0: 'account executive',\n",
       " 18: 'receptionist',\n",
       " 26: 'senior accountant',\n",
       " 4: 'business analyst',\n",
       " 19: 'restaurant manager',\n",
       " 1: 'account representative',\n",
       " 20: 'retail sales associate',\n",
       " 25: 'sales representative account manager customer service',\n",
       " 23: 'sales management trainee',\n",
       " 11: 'janiking franchise business opportunity',\n",
       " 15: 'own your own franchise',\n",
       " 5: 'cashier',\n",
       " 22: 'sales franchise',\n",
       " 7: 'customer service sales representative part time work',\n",
       " 14: 'mobile tool sales franchise distributor',\n",
       " 3: 'benefits consultant',\n",
       " 21: 'sales customer service part or full time summer work'}"
      ]
     },
     "execution_count": 16,
     "metadata": {},
     "output_type": "execute_result"
    }
   ],
   "source": [
    "temp_DF = data[['Query','category']].drop_duplicates()\n",
    "\n",
    "category_dict = {}\n",
    "for ind, row in temp_DF.iterrows():\n",
    "    category_dict[ row['category'] ] = row['Query']\n",
    "\n",
    "category_dict"
   ]
  },
  {
   "cell_type": "code",
   "execution_count": 17,
   "metadata": {},
   "outputs": [
    {
     "name": "stdout",
     "output_type": "stream",
     "text": [
      "(54070, 500) (54070, 29)\n",
      "(13518, 500) (13518, 29)\n"
     ]
    }
   ],
   "source": [
    "X_train, X_test, Y_train, Y_test = train_test_split( XX,YY, test_size = 0.2, random_state = 42)\n",
    "print( X_train.shape, Y_train.shape )\n",
    "print( X_test.shape, Y_test.shape )"
   ]
  },
  {
   "cell_type": "code",
   "execution_count": 18,
   "metadata": {},
   "outputs": [
    {
     "data": {
      "text/plain": [
       "29"
      ]
     },
     "execution_count": 18,
     "metadata": {},
     "output_type": "execute_result"
    }
   ],
   "source": [
    "len( set( data['Query'] ) )"
   ]
  },
  {
   "cell_type": "code",
   "execution_count": null,
   "metadata": {},
   "outputs": [],
   "source": []
  },
  {
   "cell_type": "markdown",
   "metadata": {},
   "source": [
    "# textCNN  Embeding"
   ]
  },
  {
   "cell_type": "code",
   "execution_count": 19,
   "metadata": {},
   "outputs": [
    {
     "name": "stdout",
     "output_type": "stream",
     "text": [
      "WARNING:tensorflow:From /home/lothar/conda/envs/my_TF_CPU_py36/lib/python3.6/site-packages/tensorflow_core/python/keras/initializers.py:119: calling RandomUniform.__init__ (from tensorflow.python.ops.init_ops) with dtype is deprecated and will be removed in a future version.\n",
      "Instructions for updating:\n",
      "Call initializer instance with the dtype argument instead of passing it to the constructor\n",
      "WARNING:tensorflow:From /home/lothar/conda/envs/my_TF_CPU_py36/lib/python3.6/site-packages/tensorflow_core/python/ops/resource_variable_ops.py:1630: calling BaseResourceVariable.__init__ (from tensorflow.python.ops.resource_variable_ops) with constraint is deprecated and will be removed in a future version.\n",
      "Instructions for updating:\n",
      "If using Keras pass *_constraint arguments to layers.\n",
      "Model: \"model\"\n",
      "__________________________________________________________________________________________________\n",
      "Layer (type)                    Output Shape         Param #     Connected to                     \n",
      "==================================================================================================\n",
      "input_data (InputLayer)         [(None, 500)]        0                                            \n",
      "__________________________________________________________________________________________________\n",
      "embedding (Embedding)           (None, 500, 100)     40000200    input_data[0][0]                 \n",
      "__________________________________________________________________________________________________\n",
      "add_channel (Reshape)           (None, 500, 100, 1)  0           embedding[0][0]                  \n",
      "__________________________________________________________________________________________________\n",
      "convolution_3 (Conv2D)          (None, 498, 1, 150)  45150       add_channel[0][0]                \n",
      "__________________________________________________________________________________________________\n",
      "convolution_4 (Conv2D)          (None, 497, 1, 150)  60150       add_channel[0][0]                \n",
      "__________________________________________________________________________________________________\n",
      "convolution_5 (Conv2D)          (None, 496, 1, 150)  75150       add_channel[0][0]                \n",
      "__________________________________________________________________________________________________\n",
      "max_pooling_3 (MaxPooling2D)    (None, 1, 1, 150)    0           convolution_3[0][0]              \n",
      "__________________________________________________________________________________________________\n",
      "max_pooling_4 (MaxPooling2D)    (None, 1, 1, 150)    0           convolution_4[0][0]              \n",
      "__________________________________________________________________________________________________\n",
      "max_pooling_5 (MaxPooling2D)    (None, 1, 1, 150)    0           convolution_5[0][0]              \n",
      "__________________________________________________________________________________________________\n",
      "concatenate (Concatenate)       (None, 1, 1, 450)    0           max_pooling_3[0][0]              \n",
      "                                                                 max_pooling_4[0][0]              \n",
      "                                                                 max_pooling_5[0][0]              \n",
      "__________________________________________________________________________________________________\n",
      "flatten (Flatten)               (None, 450)          0           concatenate[0][0]                \n",
      "__________________________________________________________________________________________________\n",
      "dropout (Dropout)               (None, 450)          0           flatten[0][0]                    \n",
      "__________________________________________________________________________________________________\n",
      "dense (Dense)                   (None, 29)           13079       dropout[0][0]                    \n",
      "==================================================================================================\n",
      "Total params: 40,193,729\n",
      "Trainable params: 193,529\n",
      "Non-trainable params: 40,000,200\n",
      "__________________________________________________________________________________________________\n"
     ]
    }
   ],
   "source": [
    "from tensorflow import keras\n",
    "\n",
    "feature_size = max_seq_length\n",
    "dropout_rate = 0.2\n",
    "num_classes  = len( set( data['Query'] ) )\n",
    "\n",
    "inputs = keras.Input(shape=(500,), name='input_data')\n",
    "\n",
    "embed = keras.layers.Embedding(\n",
    "    len(embeddings_matrix), \n",
    "    100,\n",
    "    weights=[embeddings_matrix],\n",
    "    trainable=False,\n",
    "#     mask_zero=True,\n",
    "    input_length=XX.shape[1]\n",
    "    )(inputs)\n",
    "# single channel. If using real embedding, you can set one static\n",
    "embed = keras.layers.Reshape((500, 100, 1), name='add_channel')(embed)\n",
    "\n",
    "pool_outputs = []\n",
    "for filter_size in [3,4,5]:\n",
    "    filter_shape = (filter_size, 100)\n",
    "    conv = keras.layers.Conv2D(150, filter_shape, strides=(1, 1), padding='valid',\n",
    "                               data_format='channels_last', activation='relu',\n",
    "                               kernel_initializer='glorot_normal',\n",
    "                               bias_initializer=keras.initializers.constant(0.1),\n",
    "                               name='convolution_{:d}'.format(filter_size))(embed)\n",
    "    max_pool_shape = (feature_size - filter_size + 1, 1)\n",
    "    pool = keras.layers.MaxPool2D(pool_size=max_pool_shape,\n",
    "                                  strides=(1, 1), padding='valid',\n",
    "                                  data_format='channels_last',\n",
    "                                  name='max_pooling_{:d}'.format(filter_size))(conv)\n",
    "    pool_outputs.append(pool)\n",
    "\n",
    "pool_outputs = keras.layers.concatenate(pool_outputs, axis=-1, name='concatenate')\n",
    "pool_outputs = keras.layers.Flatten(data_format='channels_last', name='flatten')(pool_outputs)\n",
    "pool_outputs = keras.layers.Dropout(dropout_rate, name='dropout')(pool_outputs)\n",
    "\n",
    "outputs = keras.layers.Dense(num_classes, activation='softmax',\n",
    "                             kernel_initializer='glorot_normal',\n",
    "                             bias_initializer=keras.initializers.constant(0.1),\n",
    "                             name='dense')(pool_outputs)\n",
    "\n",
    "model = keras.Model(inputs=inputs, outputs=outputs)\n",
    "# model.compile(loss='categorical_crossentropy', optimizer='adam', metrics=['accuracy'])\n",
    "\n",
    "model.summary()"
   ]
  },
  {
   "cell_type": "code",
   "execution_count": 21,
   "metadata": {},
   "outputs": [
    {
     "name": "stdout",
     "output_type": "stream",
     "text": [
      "Train on 43256 samples, validate on 10814 samples\n",
      "Epoch 1/5\n",
      "43256/43256 [==============================] - 287s 7ms/sample - loss: 0.5487 - acc: 0.8601 - val_loss: 0.2038 - val_acc: 0.9399\n",
      "Epoch 2/5\n",
      "43256/43256 [==============================] - 285s 7ms/sample - loss: 0.1886 - acc: 0.9426 - val_loss: 0.1802 - val_acc: 0.9502\n",
      "Epoch 3/5\n",
      "43256/43256 [==============================] - 301s 7ms/sample - loss: 0.1430 - acc: 0.9547 - val_loss: 0.1596 - val_acc: 0.9489\n",
      "Epoch 4/5\n",
      "43256/43256 [==============================] - 289s 7ms/sample - loss: 0.1184 - acc: 0.9624 - val_loss: 0.1518 - val_acc: 0.9546\n",
      "Epoch 5/5\n",
      "43256/43256 [==============================] - 287s 7ms/sample - loss: 0.1007 - acc: 0.9678 - val_loss: 0.1497 - val_acc: 0.9521\n"
     ]
    }
   ],
   "source": [
    "epochs = 5\n",
    "batch_size = 128\n",
    "\n",
    "model.compile(loss='categorical_crossentropy', optimizer='adam', metrics=['accuracy'])\n",
    "history = model.fit(X_train, Y_train, epochs=epochs, batch_size=batch_size,validation_split=0.2) #,callbacks=[EarlyStopping(monitor='val_loss', patience=3, min_delta=0.0001)]"
   ]
  },
  {
   "cell_type": "code",
   "execution_count": 22,
   "metadata": {},
   "outputs": [
    {
     "name": "stdout",
     "output_type": "stream",
     "text": [
      "13518/13518 [==============================] - 38s 3ms/sample - loss: 0.1440 - acc: 0.9525\n",
      "Test set\n",
      "  Loss: 0.144\n",
      "  Accuracy: 0.953\n"
     ]
    }
   ],
   "source": [
    "accr = model.evaluate(X_test,Y_test)\n",
    "print('Test set\\n  Loss: {:0.3f}\\n  Accuracy: {:0.3f}'.format(accr[0],accr[1]))"
   ]
  },
  {
   "cell_type": "code",
   "execution_count": 23,
   "metadata": {},
   "outputs": [
    {
     "data": {
      "text/plain": [
       "(67588, 500)"
      ]
     },
     "execution_count": 23,
     "metadata": {},
     "output_type": "execute_result"
    }
   ],
   "source": [
    "XX.shape"
   ]
  },
  {
   "cell_type": "markdown",
   "metadata": {},
   "source": [
    "# sample 500 data\n",
    "# extract middle layer as document distribution presentation"
   ]
  },
  {
   "cell_type": "code",
   "execution_count": 44,
   "metadata": {},
   "outputs": [],
   "source": [
    "import random\n",
    "import tensorflow as tf\n",
    "\n",
    "x_list = []\n",
    "y_list = []\n",
    "\n",
    "index = 0\n",
    "while True:\n",
    "    if index >= 3000:\n",
    "        break\n",
    "    \n",
    "    try:\n",
    "        ranIndex = random.randint( 0,len( XX ) )\n",
    "\n",
    "        layer_output = model.get_layer('concatenate').output\n",
    "        intermediate_model = tf.keras.models.Model(inputs=model.input,outputs=layer_output)\n",
    "        intermediate_prediction = intermediate_model.predict( XX[ranIndex:ranIndex+1] )\n",
    "\n",
    "        Y_index = YY[ranIndex:ranIndex+1]\n",
    "\n",
    "#         print( intermediate_prediction[0][0][0] )\n",
    "        x_list.append( intermediate_prediction[0][0][0] )\n",
    "#         y_list.append( data['Query'][ranIndex] )\n",
    "        y_list.append( YY[ranIndex] )\n",
    "#         print()\n",
    "        index += 1\n",
    "\n",
    "    except:\n",
    "        print( 'Error' )"
   ]
  },
  {
   "cell_type": "code",
   "execution_count": 45,
   "metadata": {},
   "outputs": [],
   "source": [
    "c_list = [ np.argmax(y) for y in y_list ]"
   ]
  },
  {
   "cell_type": "markdown",
   "metadata": {},
   "source": [
    "# t-sne visualization"
   ]
  },
  {
   "cell_type": "code",
   "execution_count": 46,
   "metadata": {},
   "outputs": [
    {
     "data": {
      "text/plain": [
       "<matplotlib.legend.Legend at 0x7faeabedf5f8>"
      ]
     },
     "execution_count": 46,
     "metadata": {},
     "output_type": "execute_result"
    },
    {
     "data": {
      "image/png": "[encoded data removed]",
      "text/plain": [
       "<Figure size 1440x1152 with 1 Axes>"
      ]
     },
     "metadata": {
      "needs_background": "light"
     },
     "output_type": "display_data"
    }
   ],
   "source": [
    "from sklearn.manifold import TSNE\n",
    "from sklearn.datasets import load_iris\n",
    "from sklearn.decomposition import PCA\n",
    "import matplotlib.pyplot as plt\n",
    " \n",
    "X_tsne = TSNE(learning_rate=100).fit_transform( x_list )\n",
    "\n",
    "fig = plt.figure(figsize=(20, 16))\n",
    "ax = fig.add_subplot(111)\n",
    "\n",
    "ind = 0\n",
    "\n",
    "label_list = []\n",
    "for tem in X_tsne:\n",
    "    if c_list[ind] not in label_list:\n",
    "        ax.plot( tem[0], tem[1],label = category_dict[c_list[ind]]  )\n",
    "        label_list.append( c_list[ind] )\n",
    "        \n",
    "    ind +=1\n",
    "\n",
    "plt.scatter( X_tsne[:, 0], X_tsne[:, 1], c=c_list )\n",
    "plt.legend()"
   ]
  },
  {
   "cell_type": "code",
   "execution_count": null,
   "metadata": {},
   "outputs": [],
   "source": []
  },
  {
   "cell_type": "code",
   "execution_count": null,
   "metadata": {},
   "outputs": [],
   "source": []
  },
  {
   "cell_type": "code",
   "execution_count": null,
   "metadata": {},
   "outputs": [],
   "source": []
  },
  {
   "cell_type": "markdown",
   "metadata": {},
   "source": [
    "# find the best Match 【FAISS】"
   ]
  },
  {
   "cell_type": "code",
   "execution_count": 47,
   "metadata": {},
   "outputs": [],
   "source": [
    "def get_Vector_Presentation( XX ):\n",
    "    layer_output = model.get_layer('concatenate').output\n",
    "    intermediate_model = tf.keras.models.Model(inputs=model.input,outputs=layer_output)\n",
    "    intermediate_prediction = intermediate_model.predict( XX )\n",
    "    # intermediate_prediction = intermediate_model.predict( Resume_XX[0:1] )\n",
    "    return intermediate_prediction"
   ]
  },
  {
   "cell_type": "markdown",
   "metadata": {},
   "source": [
    "# transform CV to Vector"
   ]
  },
  {
   "cell_type": "code",
   "execution_count": 48,
   "metadata": {},
   "outputs": [
    {
     "name": "stdout",
     "output_type": "stream",
     "text": [
      "(65, 500)\n"
     ]
    }
   ],
   "source": [
    "Resume_DF = pd.read_excel( 'Resumes.xlsx' ,usecols = ['title','description'])\n",
    "\n",
    "Resume_DF['title'] = Resume_DF['title'].apply( clean_text )\n",
    "Resume_DF['description'] = Resume_DF['description'].apply( clean_text )\n",
    "\n",
    "Resume_DF['text_clean'] = Resume_DF['description'].apply( string_process )\n",
    "Resume_DF['len'] = Resume_DF['text_clean'].apply(len)\n",
    "Resume_DF = Resume_DF[Resume_DF['len'] < 500]\n",
    "\n",
    "Resume_XX = np.array( PreProcessInputData( Resume_DF['text_clean'] ) )\n",
    "intermediate_prediction = get_Vector_Presentation(Resume_XX)\n",
    "\n",
    "Resume_Vector_List = []\n",
    "for i in range(0,len(intermediate_prediction)):\n",
    "    Resume_Vector_List.append( intermediate_prediction[i][0][0] )\n",
    "    \n",
    "print( Resume_XX.shape )"
   ]
  },
  {
   "cell_type": "markdown",
   "metadata": {},
   "source": [
    "# transform JD to Vector"
   ]
  },
  {
   "cell_type": "code",
   "execution_count": 49,
   "metadata": {},
   "outputs": [
    {
     "data": {
      "text/plain": [
       "(67588, 450)"
      ]
     },
     "execution_count": 49,
     "metadata": {},
     "output_type": "execute_result"
    }
   ],
   "source": [
    "intermediate_prediction = get_Vector_Presentation( XX )\n",
    "\n",
    "JD_Vector_List = []\n",
    "for i in range(0,len(intermediate_prediction)):\n",
    "    JD_Vector_List.append( intermediate_prediction[i][0][0] )\n",
    "    \n",
    "np.array( JD_Vector_List ).shape"
   ]
  },
  {
   "cell_type": "code",
   "execution_count": null,
   "metadata": {},
   "outputs": [],
   "source": []
  },
  {
   "cell_type": "markdown",
   "metadata": {},
   "source": [
    "# use FAISS building Index"
   ]
  },
  {
   "cell_type": "code",
   "execution_count": 50,
   "metadata": {},
   "outputs": [],
   "source": [
    "import numpy as np\n",
    "import faiss                   # make faiss available\n",
    "\n",
    "# 构造数据\n",
    "import time\n",
    "d = 450                           # dimension\n",
    "nb = len(JD_Vector_List)                      # database size\n",
    "nq = len(Resume_Vector_List)                       # nb of queries\n",
    "np.random.seed(1234)             # make reproducible\n",
    "\n",
    "xb = np.array( JD_Vector_List ).astype('float32')\n",
    "xq = np.array( Resume_Vector_List ).astype('float32')"
   ]
  },
  {
   "cell_type": "code",
   "execution_count": 51,
   "metadata": {},
   "outputs": [
    {
     "name": "stdout",
     "output_type": "stream",
     "text": [
      "CPU times: user 83 µs, sys: 4 µs, total: 87 µs\n",
      "Wall time: 396 µs\n",
      "True\n",
      "67588\n"
     ]
    }
   ],
   "source": [
    "# 为向量集构建IndexFlatL2索引，它是最简单的索引类型，只执行强力L2距离搜索\n",
    "%time index = faiss.IndexFlatL2(d)   # build the index\n",
    "print(index.is_trained)\n",
    "index.add(xb)                  # add vectors to the index\n",
    "print(index.ntotal)"
   ]
  },
  {
   "cell_type": "markdown",
   "metadata": {},
   "source": [
    "# get a random CV"
   ]
  },
  {
   "cell_type": "code",
   "execution_count": 91,
   "metadata": {},
   "outputs": [
    {
     "name": "stdout",
     "output_type": "stream",
     "text": [
      "55\n",
      "CPU times: user 17.5 ms, sys: 34 µs, total: 17.5 ms\n",
      "Wall time: 15.9 ms\n",
      "[50128 16689 60673 30708 51942]\n",
      "------------------------------------------------------------------------------------------------------------------------\n",
      "java developer\n",
      "\n",
      "java developerjunior process associate ustglobalrockville mdjava developerpyramid systems inc washington dc2017 11 develop web applications in java html css icefaces using eclipse write scripts in sql to update databases work to improve website accessibilityjunior process associateustglobal2016 11 2017 11 refactored java programs using spring sts developed web applications in javascript angularjs nodejs html css on webstorm ide utilized cucumber for java testing utilized protractor and jasmine for javascript angularjs testing used apache subversion and git for version control experimented with mobile development using swift via xcode and java via android studioacademic internustglobal2016 6 2016 11 improved communication and soft skills programmed with java sql html languages utilized eclipse ide sqldeveloper log4j2 maven tomcat and command linevisiting instructorflorida atlantic university2015 1 2015 8 taught 2 sections methods of calculus and 3 sections math for liberal arts 2 prepared and executed over 200 hours in lectures using microsoft powerpoint used blackboard and mymathlab to communicate with students and manage grades used mymathlab and testgen to create and assign course materials such as quizzes and examsgraduate teaching assistantflorida atlantic university2012 8 2014 12 tutored students in courses such as algebra statistics calculus and discrete mathematics taught 3 sections of methods of calculus prepared and executed lesson plans in cooperation with the methods of calculus coordinatormaster of science mathematicsflorida atlantic university2014 12 bachelor of science applied mathematics and computer scienceuniversity of pittsburgh2011 5 bachelor of arts creative writinguniversity of pittsburgh2007 5 java 2 angularjs 1 javascript 1 html 2 mathematics 7 icefaces 1 sql 1\n"
     ]
    }
   ],
   "source": [
    "import random\n",
    "ranIndex = random.randint( 0,len( Resume_Vector_List ) )\n",
    "print( ranIndex )\n",
    "\n",
    "k = 5\n",
    "%time D, I = index.search(xq[ranIndex:ranIndex+1], k)     # actual search\n",
    "print(I[0][:5])                   # neighbors of the 5 first queries\n",
    "\n",
    "print( '-'* 120 )\n",
    "print( Resume_DF['title'].iloc[ranIndex] )\n",
    "print()\n",
    "print( Resume_DF['description'].iloc[ranIndex] )"
   ]
  },
  {
   "cell_type": "markdown",
   "metadata": {},
   "source": [
    "# return simmilar JD  top-k"
   ]
  },
  {
   "cell_type": "code",
   "execution_count": 92,
   "metadata": {
    "scrolled": false
   },
   "outputs": [
    {
     "name": "stdout",
     "output_type": "stream",
     "text": [
      "50128\n",
      "------------------------------------------------------------------------------------------------------------------------\n",
      "java developer\n",
      "this position will support contracts with both commercial and department of defenseclients candidates must be wellversed in the java programming language along withone or more corresponding technologies such as java persistence api java eeapplication servers soap and rest services xsd xml web services stacks anduser interface technologies such as html css javascript java server faces extjs and or jquery candidates will specify design implement and test javabasedgraphical user interfaces web mobile applications and backend application dataservices candidate will also apply agile development methodologies this positionrequires the candidate to have superior writing and communication skills be detailoriented and have the ability to work both individually and as part of a team educationbachelors or masters degree in computer science computer engineering or relatedfield desired skills course work programming languages and frameworks java java ee preferred or c# netsoftware modeling objectoriented analysis and design uml software integration patternsuser interface javascript jquery extjs java server faces rest serviceclients play framework portlets html5 css3 objectivec or java me web services xsd xml json jaxrs jaxws soap wsdl rest jpa soapui loadui apache cxf or other web service stack apache tomcat orother application server spring spring remoting apache solreclipse ant maven excellent communication writing and proofreading skills ability to convey technical and complex concepts for a variety of audiences ability to work both individually and in a team environment selfstarter and highly organized proficient in ms office word powerpoint or visio is a plus\n",
      "16689\n",
      "------------------------------------------------------------------------------------------------------------------------\n",
      "java developer\n",
      "short description contractors to work in an agile development environment with close interactions with an agile team and product owners business complete description experience with fixed income investments is highly desirable experience with an agile development framework scrum xp is highly desirable contractors must have test driven development experience 57 years of active java j2ee application development experience and or 57 years of active microsoft net framework application development experienced preferred expert level experience with spring framework hibernate core java patterns maven uml junit xml jsp javascript html websphere jdbc pl sql experience with grails hudson adp 30 build and release management is highly desired contractor must be able to work independently contractor must be a selfinitiator contractor must be able to work closely with senior business partners be able to articulate positions and facilitate working sessions practitioners of the it application development profession primarily focus on providing high quality cost effective information technology solutions to business partners by creating new or modifying and or supporting existing software applications associates are expected to design code analyze configure unit test and maintain applications with full competency devises or modifies procedures to solve complex problems considering computer equipment capacity and limitations operating time and form of desired results designs codes tests debugs and documents those programs competent to work at the highest technical level of all phases of applications programming activities behavior characteristics undergraduate studies in computer science management information systems mathematics or related field is preferred required desired skills skill required desired amount of experience expertise rating java j2ee required 5 years indepth knowledge microsoft net required 5 years indepth knowledge spring required 0 expert knowledge hibernate required 0 expert knowledge core java patterns required 0 expert knowledge maven required 0 expert knowledge uml required 0 expert knowledge junit required 0 expert knowledge xml required 0 expert knowledge jsp required 0 expert knowledge javascript required 0 expert knowledge html required 0 expert knowledge websphere required 0 expert knowledge jdbc required 0 expert knowledge pl sql required 0 expert knowledge grails highly desired 0 working knowledge hudson highly desired 0 working knowledge adp 30 highly desired 0 working knowledge fixed income investments highly desired 0 working knowledge agile dev framework scrum xp highly desired 0 working knowledge\n",
      "60673\n",
      "------------------------------------------------------------------------------------------------------------------------\n",
      "java developer\n",
      "position summary our commercial softwareclient is looking to immediately hire a java web developer to join their local development team here this is an outstanding opportunity for experienced web application developers to join a fun creative and challenging environment our ideal candidate must have solid experience developing largescale hightraffic webbased applicationsexperience is important but equally valuable is the ability to work in a fast paced dynamic environment to create solutions that meet the company standards this critical position and will be responsible for architecting and implementing key new features improving the scalability of the product and implementing a mobile version of the application position requirements 3+ years of recent java web development experience strong java programming and debugging skills strong experience developing web applications and user interfaces with java technologies especially jdbc and jsp servlets struts 2 tomcat and apache experience developing with web presentation technologies especially ajax json javascript css and understanding of multibrowser compatibility history of developing largescale high performance saas based applications preferably used by the general public strong written and verbal skills preferred candidates would also meet the following criteria development experience with mysql java based reporting tools jdbc and xml experience with the agile development methodology apache tomcat eclipse jmeter and subversion experience is a plus passionate about web technologies and ui innovations managed small to medium size groups of technical people worked with product management to define requirements write technical specifications and meet release integration and development with social media apps facebook twitter a plus bachelor of science or better in computer science mis or other computer related degrees cb\n",
      "30708\n",
      "------------------------------------------------------------------------------------------------------------------------\n",
      "java developer\n",
      "job functions will include not only coding but also commenting and testing all code producedresponsibilities will include ui development using html css and javascript build deploy tasks and troubleshooting during integration and system acceptance testing applications are being developed for key longterm clients and their customers so quality and reliability is of utmost importance responsibilities will also include application design database design quoting estimating and working closely with account management teams to identify features and requirements individual must have good technical skills and be able to develop an application to specifications critical skills include java web development web application frameworks stripes struts spring webwork persistence and orm software mybatis ibatis hibernate jpa and sql applicant should be well versed in software architecture and java design patterns bonus skills include stripes mybatis db2 as 400 iseries javascript ajax eclipse ide javadoc junit html css lucene solr and microsoft sql server\n",
      "51942\n",
      "------------------------------------------------------------------------------------------------------------------------\n",
      "java developer\n",
      "job classification contract must interview in person long term 1 year plus questions call 8143314538 email ronaldhaas modiscom position responsibilities design develop program document and implement multiplatform applications must have the ability to analyze user environments and create business technical specifications work with ecommerce group vendors and others applications in a development environment support local and remote users of with purchased and custom applications through training where applicable and developing enhancements as well as performing troubleshooting and debugging create definitions of requirements functional specifications and user manuals perform iterative cycle testing with users in order to achieve userdefined results conduct program performance reliability and data validation testing and coordinate deployment of applications into production via our development and qa environments experience required 6+ yrs it experience 5+ yrs java programming experience 3+ yrs systems analysis and design jboss webservice including testing webdevelopment j2ee java frameworks struts spring hibernate javascript server portal unix linux sql eclipse sql developer excellent communication skills education required 4 yrs computer science business degree or equivalent work experience preferred experience sun solaris oracle 11g ajax jsp servlets html plsql jboss 42\n"
     ]
    }
   ],
   "source": [
    "for ind in I[0][:5]:\n",
    "    print(ind)\n",
    "    print('-' * 120)\n",
    "    print( data['Query'].iloc[ind] )\n",
    "    print( data['Description'].iloc[ind] )"
   ]
  },
  {
   "cell_type": "code",
   "execution_count": null,
   "metadata": {},
   "outputs": [],
   "source": []
  },
  {
   "cell_type": "code",
   "execution_count": null,
   "metadata": {},
   "outputs": [],
   "source": []
  },
  {
   "cell_type": "code",
   "execution_count": null,
   "metadata": {},
   "outputs": [],
   "source": []
  }
 ],
 "metadata": {
  "kernelspec": {
   "display_name": "tf_GPU_py36",
   "language": "python",
   "name": "tf_gpu_py36"
  },
  "language_info": {
   "codemirror_mode": {
    "name": "ipython",
    "version": 3
   },
   "file_extension": ".py",
   "mimetype": "text/x-python",
   "name": "python",
   "nbconvert_exporter": "python",
   "pygments_lexer": "ipython3",
   "version": "3.6.10"
  }
 },
 "nbformat": 4,
 "nbformat_minor": 1
}
