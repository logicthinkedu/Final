{
 "cells": [
  {
   "cell_type": "code",
   "execution_count": 20,
   "metadata": {},
   "outputs": [],
   "source": [
    "import pandas as pd"
   ]
  },
  {
   "cell_type": "code",
   "execution_count": 21,
   "metadata": {},
   "outputs": [
    {
     "data": {
      "text/html": [
       "<div>\n",
       "<style scoped>\n",
       "    .dataframe tbody tr th:only-of-type {\n",
       "        vertical-align: middle;\n",
       "    }\n",
       "\n",
       "    .dataframe tbody tr th {\n",
       "        vertical-align: top;\n",
       "    }\n",
       "\n",
       "    .dataframe thead th {\n",
       "        text-align: right;\n",
       "    }\n",
       "</style>\n",
       "<table border=\"1\" class=\"dataframe\">\n",
       "  <thead>\n",
       "    <tr style=\"text-align: right;\">\n",
       "      <th></th>\n",
       "      <th>ID</th>\n",
       "      <th>Unnamed: 0</th>\n",
       "      <th>Query</th>\n",
       "      <th>Description</th>\n",
       "    </tr>\n",
       "  </thead>\n",
       "  <tbody>\n",
       "    <tr>\n",
       "      <th>6</th>\n",
       "      <td>388</td>\n",
       "      <td>388</td>\n",
       "      <td>Java Developer</td>\n",
       "      <td>&lt;P&gt;&lt;STRONG&gt;As a member of the Web and Portal D...</td>\n",
       "    </tr>\n",
       "    <tr>\n",
       "      <th>7</th>\n",
       "      <td>395</td>\n",
       "      <td>395</td>\n",
       "      <td>Java Developer</td>\n",
       "      <td>&lt;BR&gt;\\r&lt;TABLE border=0 cellSpacing=0 cellPaddin...</td>\n",
       "    </tr>\n",
       "    <tr>\n",
       "      <th>11</th>\n",
       "      <td>713</td>\n",
       "      <td>713</td>\n",
       "      <td>Java Developer</td>\n",
       "      <td>&lt;strong&gt;Application Developer-Senior-Java&lt;br&gt;\\...</td>\n",
       "    </tr>\n",
       "    <tr>\n",
       "      <th>118</th>\n",
       "      <td>4631</td>\n",
       "      <td>4631</td>\n",
       "      <td>Java Developer</td>\n",
       "      <td>&lt;b&gt;Responsibilities:&lt;/b&gt; Kforce is seeking a m...</td>\n",
       "    </tr>\n",
       "    <tr>\n",
       "      <th>132</th>\n",
       "      <td>4873</td>\n",
       "      <td>4873</td>\n",
       "      <td>Java Developer</td>\n",
       "      <td>&lt;b&gt;Responsibilities:&lt;/b&gt; Our client is looking...</td>\n",
       "    </tr>\n",
       "    <tr>\n",
       "      <th>...</th>\n",
       "      <td>...</td>\n",
       "      <td>...</td>\n",
       "      <td>...</td>\n",
       "      <td>...</td>\n",
       "    </tr>\n",
       "    <tr>\n",
       "      <th>71866</th>\n",
       "      <td>1114580</td>\n",
       "      <td>1114580</td>\n",
       "      <td>Java Developer</td>\n",
       "      <td>Energize Global Services CJSC is looking for J...</td>\n",
       "    </tr>\n",
       "    <tr>\n",
       "      <th>71871</th>\n",
       "      <td>1114616</td>\n",
       "      <td>1114616</td>\n",
       "      <td>Java Developer</td>\n",
       "      <td>Workfront is a technology company that needs a...</td>\n",
       "    </tr>\n",
       "    <tr>\n",
       "      <th>71875</th>\n",
       "      <td>1114710</td>\n",
       "      <td>1114710</td>\n",
       "      <td>Java Developer</td>\n",
       "      <td>EPAM Systems, Inc. is seeking Java Developers ...</td>\n",
       "    </tr>\n",
       "    <tr>\n",
       "      <th>71889</th>\n",
       "      <td>1114949</td>\n",
       "      <td>1114949</td>\n",
       "      <td>Java Developer</td>\n",
       "      <td>Monitis is looking for a Java Developer who wi...</td>\n",
       "    </tr>\n",
       "    <tr>\n",
       "      <th>71895</th>\n",
       "      <td>1115103</td>\n",
       "      <td>1115103</td>\n",
       "      <td>Java Developer</td>\n",
       "      <td>NASDAQ OMX Armenia is seeking an energetic Jav...</td>\n",
       "    </tr>\n",
       "  </tbody>\n",
       "</table>\n",
       "<p>1796 rows × 4 columns</p>\n",
       "</div>"
      ],
      "text/plain": [
       "            ID  Unnamed: 0           Query  \\\n",
       "6          388         388  Java Developer   \n",
       "7          395         395  Java Developer   \n",
       "11         713         713  Java Developer   \n",
       "118       4631        4631  Java Developer   \n",
       "132       4873        4873  Java Developer   \n",
       "...        ...         ...             ...   \n",
       "71866  1114580     1114580  Java Developer   \n",
       "71871  1114616     1114616  Java Developer   \n",
       "71875  1114710     1114710  Java Developer   \n",
       "71889  1114949     1114949  Java Developer   \n",
       "71895  1115103     1115103  Java Developer   \n",
       "\n",
       "                                             Description  \n",
       "6      <P><STRONG>As a member of the Web and Portal D...  \n",
       "7      <BR>\\r<TABLE border=0 cellSpacing=0 cellPaddin...  \n",
       "11     <strong>Application Developer-Senior-Java<br>\\...  \n",
       "118    <b>Responsibilities:</b> Kforce is seeking a m...  \n",
       "132    <b>Responsibilities:</b> Our client is looking...  \n",
       "...                                                  ...  \n",
       "71866  Energize Global Services CJSC is looking for J...  \n",
       "71871  Workfront is a technology company that needs a...  \n",
       "71875  EPAM Systems, Inc. is seeking Java Developers ...  \n",
       "71889  Monitis is looking for a Java Developer who wi...  \n",
       "71895  NASDAQ OMX Armenia is seeking an energetic Jav...  \n",
       "\n",
       "[1796 rows x 4 columns]"
      ]
     },
     "execution_count": 21,
     "metadata": {},
     "output_type": "execute_result"
    }
   ],
   "source": [
    "data = pd.read_csv(r'dataset/JD_dataset.csv')\n",
    "# data = data.sample(3000)\n",
    "data = data[data['Query'] == 'Java Developer']\n",
    "# data.to_csv(r'dataset/JD_3000.csv',encoding ='utf-8 sig',index = False)\n",
    "data.columns = ['ID','Unnamed: 0','Query','Description']\n",
    "data.to_csv(r'dataset/JD_3000.csv',encoding ='utf-8 sig',index = False)\n",
    "data"
   ]
  },
  {
   "cell_type": "code",
   "execution_count": 30,
   "metadata": {},
   "outputs": [
    {
     "name": "stdout",
     "output_type": "stream",
     "text": [
      "We are looking to identify at least 5 more developers for an Army Contract in Springfield, VA.  Many of the requirements below are ideal but if you don't possess all of them training will be provided on the job.  Must be able to obtain a DOD Secret Clearance.  \\r\\r\\rPosition Description \\rDesigns, develops, and implements web-based Java applications to support business requirements. Follows approved life cycle methodologies, creates design documents, and performs program coding and testing. Resolves technical issues through troubleshooting, debugging, research, and investigation.  Familiar with software development concepts, practices, and procedures (i.e. Java, EJB 3.0, JSP, JSF, HTML, SQL, Javascript). Relies on extensive experience and judgment to plan and accomplish goals.  \\rPrinciple Duties and Responsibilities:\\r\\r    Experience in building enterprise software or large scale web application required\\r    Strong Java and J EE software development required\\r    Experience in servlets and JSP development required\\r    Hands-on experience with EJB3 or ORM software (hibernate, toplink, JDO, etc) required\\r    Ability to work across all layers of the application, from back-end databases through to the user interface\\r    In-depth knowledge with relational database, such SQL Server or Oracle, is required\\r    Agile/Iterative development methodology\\r    SQL; AJAX; JBoss; Jasper Reports\\r    Working knowledge of database relational design, data normalization and experience with JDBC drivers\\r    Experience in JavaServer Faces (JSF) is highly desirable\\r    Experience working on high scalable, distributed, high transaction applications is a plus\\r    Experience with creating web services or implementing client portion of web service is desirable\\r    Experience in Software as a Service (SaaS) is a plus\\r    Knowledge of design patterns is a plus\\r    Experience in JavaScript is a plus.\\r\\rJob Specifications:\\r\\r    A bachelors degree in Computer Science or Engineering and at least 6 years of Java experience working with server side applications, 7 years of experience can be substituted for a degree\\r    Candidates must be clearable US Citizens or hold at least an interim DOD security clearance\\r\n"
     ]
    }
   ],
   "source": [
    "print( BeautifulSoup(data.sample(1).iloc[0]['Description']).text )"
   ]
  },
  {
   "cell_type": "code",
   "execution_count": 28,
   "metadata": {},
   "outputs": [
    {
     "data": {
      "text/plain": [
       "\"We are looking to identify at least 5 more developers for an Army Contract in Springfield, VA.\\xa0 Many of the requirements below are ideal but if you don't possess all of them training will be provided on the job.\\xa0 Must be able to obtain a DOD Secret Clearance.\\xa0    Position Description  Designs, develops, and implements web-based Java applications to support business requirements. Follows approved life cycle methodologies, creates design documents, and performs program coding and testing. Resolves technical issues through troubleshooting, debugging, research, and investigation.\\xa0 Familiar with software development concepts, practices, and procedures (i.e. Java, EJB 3.0, JSP, JSF, HTML, SQL, Javascript). Relies on extensive experience and judgment to plan and accomplish goals.\\xa0  Principle Duties and Responsibilities:  Experience in building enterprise software or large scale web application required Strong Java and J EE software development required Experience in servlets and JSP development required Hands-on experience with EJB3 or ORM software (hibernate, toplink, JDO, etc) required Ability to work across all layers of the application, from back-end databases through to the user interface In-depth knowledge with relational database, such SQL Server or Oracle, is required Agile/Iterative development methodology SQL; AJAX; JBoss; Jasper Reports Working knowledge of database relational design, data normalization and experience with JDBC drivers Experience in JavaServer Faces (JSF) is highly desirable Experience working on high scalable, distributed, high transaction applications is a plus Experience with creating web services or implementing client portion of web service is desirable Experience in Software as a Service (SaaS) is a plus Knowledge of design patterns is a plus Experience in JavaScript is a plus.  Job Specifications:  A bachelors degree in Computer Science or Engineering and at least 6 years of Java experience working with server side applications, 7 years of experience can be substituted for a degree Candidates must be clearable US Citizens or hold at least an interim DOD security clearance \\n\""
      ]
     },
     "execution_count": 28,
     "metadata": {},
     "output_type": "execute_result"
    }
   ],
   "source": [
    "from bs4 import BeautifulSoup\n",
    "\n",
    "BeautifulSoup(\"\"\"<p>We are looking to identify at least 5 more developers for an Army Contract in Springfield, VA.&nbsp; Many of the requirements below are ideal but if you don't possess all of them training will be provided on the job.&nbsp; Must be able to obtain a DOD Secret Clearance.&nbsp; <br>\\r<br>\\r</p>\\r<p><b><span>Position Description </span></b></p>\\r<p><span>Designs, develops, and implements web-based Java applications to support business requirements. Follows approved life cycle methodologies, creates design documents, and performs program coding and testing. Resolves technical issues through troubleshooting, debugging, research, and investigation.&nbsp; Familiar with software development concepts, practices, and procedures (i.e. Java, EJB 3.0, JSP, JSF, HTML, SQL, Javascript). Relies on extensive experience and judgment to plan and accomplish goals.&nbsp; </span></p>\\r<p><b><span>Principle Duties and Responsibilities:</span></b></p>\\r<ul>\\r    <li>Experience in building enterprise software or large scale web application required</li>\\r    <li>Strong Java and J EE software development required</li>\\r    <li>Experience in servlets and JSP development required</li>\\r    <li>Hands-on experience with EJB3 or ORM software (hibernate, toplink, JDO, etc) required</li>\\r    <li>Ability to work across all layers of the application, from back-end databases through to the user interface</li>\\r    <li>In-depth knowledge with relational database, such SQL Server or Oracle, is required</li>\\r    <li>Agile/Iterative development methodology</li>\\r    <li>SQL; AJAX; JBoss; Jasper Reports</li>\\r    <li>Working knowledge of database relational design, data normalization and experience with JDBC drivers</li>\\r    <li>Experience in JavaServer Faces (JSF) is highly desirable</li>\\r    <li>Experience working on high scalable, distributed, high transaction applications is a plus</li>\\r    <li>Experience with creating web services or implementing client portion of web service is desirable</li>\\r    <li>Experience in Software as a Service (SaaS) is a plus</li>\\r    <li>Knowledge of design patterns is a plus</li>\\r    <li>Experience in JavaScript is a plus.</li>\\r</ul>\\r<p><span><b><span>Job Specifications:</span></b></span></p>\\r<ul>\\r    <li>A bachelors degree in Computer Science or Engineering and at least 6 years of Java experience working with server side applications, 7 years of experience can be substituted for a degree</li>\\r    <li>Candidates must be clearable US Citizens or hold at least an interim DOD security clearance</li>\\r</ul>\n",
    "\"\"\").text"
   ]
  },
  {
   "cell_type": "code",
   "execution_count": null,
   "metadata": {},
   "outputs": [],
   "source": []
  },
  {
   "cell_type": "code",
   "execution_count": null,
   "metadata": {},
   "outputs": [],
   "source": []
  },
  {
   "cell_type": "code",
   "execution_count": 16,
   "metadata": {},
   "outputs": [
    {
     "data": {
      "text/html": [
       "<div>\n",
       "<style scoped>\n",
       "    .dataframe tbody tr th:only-of-type {\n",
       "        vertical-align: middle;\n",
       "    }\n",
       "\n",
       "    .dataframe tbody tr th {\n",
       "        vertical-align: top;\n",
       "    }\n",
       "\n",
       "    .dataframe thead th {\n",
       "        text-align: right;\n",
       "    }\n",
       "</style>\n",
       "<table border=\"1\" class=\"dataframe\">\n",
       "  <thead>\n",
       "    <tr style=\"text-align: right;\">\n",
       "      <th></th>\n",
       "      <th>label</th>\n",
       "      <th>title</th>\n",
       "      <th>description</th>\n",
       "    </tr>\n",
       "  </thead>\n",
       "  <tbody>\n",
       "    <tr>\n",
       "      <th>0</th>\n",
       "      <td>data</td>\n",
       "      <td>BUSINESS ANALYST</td>\n",
       "      <td>� 10 years experience in roles as a product le...</td>\n",
       "    </tr>\n",
       "    <tr>\n",
       "      <th>1</th>\n",
       "      <td>data</td>\n",
       "      <td>Systems Analyst                               ...</td>\n",
       "      <td>▪ outstanding abilities in leadership, organiz...</td>\n",
       "    </tr>\n",
       "    <tr>\n",
       "      <th>2</th>\n",
       "      <td>data</td>\n",
       "      <td>MAINFRAME COBOL PROGRAMMER ANALYST</td>\n",
       "      <td>as a fully qualified it professional with 25 y...</td>\n",
       "    </tr>\n",
       "    <tr>\n",
       "      <th>3</th>\n",
       "      <td>data</td>\n",
       "      <td>Senior Business Analyst - Sungard Financial So...</td>\n",
       "      <td>ashish kansalsenior business analyst - sungard...</td>\n",
       "    </tr>\n",
       "    <tr>\n",
       "      <th>4</th>\n",
       "      <td>data</td>\n",
       "      <td>Business Analyst</td>\n",
       "      <td>business analystsingapore-graduated with a deg...</td>\n",
       "    </tr>\n",
       "    <tr>\n",
       "      <th>...</th>\n",
       "      <td>...</td>\n",
       "      <td>...</td>\n",
       "      <td>...</td>\n",
       "    </tr>\n",
       "    <tr>\n",
       "      <th>79</th>\n",
       "      <td>developer</td>\n",
       "      <td>Java Lead/Architect</td>\n",
       "      <td>java lead/architectrichardson, tx-java lead/ar...</td>\n",
       "    </tr>\n",
       "    <tr>\n",
       "      <th>80</th>\n",
       "      <td>developer</td>\n",
       "      <td>Java Developer</td>\n",
       "      <td>java developerjava developercolorado springs, ...</td>\n",
       "    </tr>\n",
       "    <tr>\n",
       "      <th>81</th>\n",
       "      <td>developer</td>\n",
       "      <td>Java &amp; Web Development Instructor</td>\n",
       "      <td>java &amp; web development instructorlos angeles, ...</td>\n",
       "    </tr>\n",
       "    <tr>\n",
       "      <th>82</th>\n",
       "      <td>developer</td>\n",
       "      <td>Java Developer</td>\n",
       "      <td>java developerjava developer - integra technol...</td>\n",
       "    </tr>\n",
       "    <tr>\n",
       "      <th>83</th>\n",
       "      <td>developer</td>\n",
       "      <td>Java Developer</td>\n",
       "      <td>java developerjava developerrichmond, va-java ...</td>\n",
       "    </tr>\n",
       "  </tbody>\n",
       "</table>\n",
       "<p>84 rows × 3 columns</p>\n",
       "</div>"
      ],
      "text/plain": [
       "        label                                              title  \\\n",
       "0        data                                   BUSINESS ANALYST   \n",
       "1        data  Systems Analyst                               ...   \n",
       "2        data                 MAINFRAME COBOL PROGRAMMER ANALYST   \n",
       "3        data  Senior Business Analyst - Sungard Financial So...   \n",
       "4        data                                   Business Analyst   \n",
       "..        ...                                                ...   \n",
       "79  developer                                Java Lead/Architect   \n",
       "80  developer                                     Java Developer   \n",
       "81  developer                  Java & Web Development Instructor   \n",
       "82  developer                                     Java Developer   \n",
       "83  developer                                     Java Developer   \n",
       "\n",
       "                                          description  \n",
       "0   � 10 years experience in roles as a product le...  \n",
       "1   ▪ outstanding abilities in leadership, organiz...  \n",
       "2   as a fully qualified it professional with 25 y...  \n",
       "3   ashish kansalsenior business analyst - sungard...  \n",
       "4   business analystsingapore-graduated with a deg...  \n",
       "..                                                ...  \n",
       "79  java lead/architectrichardson, tx-java lead/ar...  \n",
       "80  java developerjava developercolorado springs, ...  \n",
       "81  java & web development instructorlos angeles, ...  \n",
       "82  java developerjava developer - integra technol...  \n",
       "83  java developerjava developerrichmond, va-java ...  \n",
       "\n",
       "[84 rows x 3 columns]"
      ]
     },
     "execution_count": 16,
     "metadata": {},
     "output_type": "execute_result"
    }
   ],
   "source": [
    "resume_DF = pd.read_excel(r'/home/lothar/Desktop/DataSet/Resumes.xlsx')\n",
    "resume_DF"
   ]
  },
  {
   "cell_type": "code",
   "execution_count": null,
   "metadata": {},
   "outputs": [],
   "source": [
    "\"\"\"\n",
    "project managerproject manager - ace furniture pte ltdsingapore-performance-driven, organized and passionate project and purchasing executive skilled in planning, resource, budgeting and scheduling a project. experienced in liaising with clients and negotiating with suppliers from china, hong kong, dubai and europe.work experienceproject managerace furniture pte ltd-january 2018 to present• sourcing material for project• read through furniture shop drawing ;• factory visit ;• follow production ;• arrange shipment ;• site set upproject sourcing consultantace furniture pte ltd-may 2017 to january 2018sourcing material for id designer and prepare mood board base on 3d drawing. ;• processing appointment for designer with client. ;• assist for iso documentations.interior marketing associate21 bukit batok crescent, wcega tower - singapore-october 2008 to may 2017singapore, 658065) ; ;• negotiated with suppliers in china and dubai to achieve cost savings (average 5%-7% of total project cost) for the company. ;• liaised directly with clients (china, hong kong, dubai, malaysia, saudi) to understand their requirements and drive direction of the project. ;• knowledge in preparation of tender, procedures and submissions of tender. ;• coordinated the completion of project tasks with different members of company's subsidiaries. ;• preparation of budgets, profit forecasts and project tenders to ensure company's profitability and capacity to deliver project on time and quality. ;• matched purchase order with invoices and record necessary information. ;• reviewed files, records and other documents to obtain information and respond to requests. ;• completed and mailed bills, contracts, policies, invoices and checks. ;• attend domestic and international exhibitions to increase relevant products knowledge. ;• entitled to quality control with inspect finished goods before deliver to clients. ;• arrange shipping documents. ;• liaise with production and logistic department to ensure optimal practices in all processes. ;• planning, budgeting and scheduling to achieve costs effectiveness. ;• work with designer for mood board and material selection. ;• on site: supervision workers to locate all the ff&e as per layout plan. after set up prepare check list for site manager to signeducationbachelor of electronic commerce in electronic commercehua zhong university of science and technology2007skillsmarketing (8 years), auto cad (less than 1 year), cad (less than 1 year), microsoft office (less than 1 year), ms office (less than 1 year)additional information• ability to work under pressure with diligence and positive attitude. ;• able to learn quickly and perform tasks independently. ;• high attention to detail and capacity for self-motivation. ;• entrepreneurial mindset when negotiating with clients and suppliers. ;• able to work effectively across different cultures and countries. ; ;skills ;• consolidations ;• negotiation skills ;• operations analysis ;• online marketing strategies ;• able to speak mandarin, english ;• it skills (microsoft office, cad designs(fundamentals) ;• problem-solving\n",
    "\"\"\""
   ]
  },
  {
   "cell_type": "code",
   "execution_count": null,
   "metadata": {},
   "outputs": [],
   "source": [
    "\"\"\"\n",
    "lead java developer - deloitte consulting llp-➢ over 3 years of programming experience and knowledge of full software development life cycle (sldc)➢ made immense client impact for the state of virginia, by creating an automation process to communicate with interface partners, wells fargo and xerox to disburse benefits to the citizens ;➢ technical lead in developing snap ebt (food stamps) and tanf (cash assistance) programs for the state of virginia. till date, this system has issued $1.3 billion dollars covering over 350,000 families per month ;➢ knowledge of web technologies including html5, javascript, node.js, php, angular, css3, bootstrap ;➢ 3 years of experience in java, java ee, ejb with hands on experience with mysql and oracle databases ;➢ experience working in agile development (scrum methodology)lead java developerdeloitte consulting llp - mechanicsburg, pa-2017 9     va integrated eligibility modernization - virginia dept. of social services (va-ie) ; ;va eligibility modernization is to extend the deloitte implementations of virginia case management ;system (vacms) to enable residents of virginia to apply for assistance, determine eligibility and issue benefits for various programs. ;as development and technical lead, i've lead a team of 4 developers to design, develop and deliver self-sustained automated process to issue benefits for snap ebt (food assistance), tanf (cash assistance) and top (treasury offset program) programs. my responsibilities include: ;➢ conduct sessions with clients and business analysts to discuss requirements, scope and design ;➢ led technical design and implementation activities ;➢ develop initial framework using appropriate design patterns and by accommodating principles of object-oriented programming ;➢ help team in accomplishing development tasks ;➢ coordinate with testing, training and deployment teams to support development activities ;➢ interface with various partners viz. irs, equifax, xerox, wells fargo, and federal treasury ;➢ support qat, uat and provide quick turnaround to any defects raised ;➢ after production release, support for enhancement and maintenance activities ;environment: java 1.6, jsp, java ee, ejb, deloitte custom bridges, oracle sql, ibm rad 8.5.1, websphere application server (was), clear-case, javascript, clear questjava developerdeloitte consulting llp-2015 5    2017 8 developed front-end and back-end of the application using java and java ee technologies ;➢ developed web layer, screens of the applications using deloitte custom framework, jsp and ejb ;➢ using javamail api, developed e-mail notification system for sending reports and errors ;➢ prepared and maintained technical design document (tdd) and business design document ;➢ participated in client demos, provided sit, uat and production support for defect fixing ;environment: java, j2ee, ejb, jsp, oracle sql technologies and websphere, ibm rad, oracle sqlandroid developer (intern)cmc ltd-2012 6    2012 8 worked on project i-track a gps tracking android mobile app. ;➢ developed android mobile application which tracks the mobile using the user's mobile gps. ;➢ developed a website for above application to view all the tracked locations chronologically. ;➢  it tracks the current location for every 30 min or for every 500m change in distance. ;environment: java, android, php, html, and cssmaster of science - computer sciencethe state university of new york at buffalo - buffalo, ny2013 8    2015 2 bachelor of engineering - computer scienceuniversity college of engineering, osmania university2009 9    2013 5 java (3 ), ejb (3 ), jsp (3 ), oracle (3 ), rad (3 )https://www.linkedin.com/in/krishna-teja-kandhibanda-8a22b283更多信息technical skills ;programming languages: c, c++, java, j2ee, ejb bean, jsp, c# ;web technologies: html, javascript, css, node.js, bootstrap, angularjs and php ;databases: mysql, mongodb, oracle sql ;cloud computing: aws ;development tools: sublime text, vs code, eclipse, rad, oracle sql developer, ibm clear case ;operating systems: windows, mac os x, android, blackberry os\n",
    "\"\"\""
   ]
  },
  {
   "cell_type": "code",
   "execution_count": null,
   "metadata": {},
   "outputs": [],
   "source": [
    "\"\"\"\n",
    "test engineer to join as a designer in a respectable organization. where i can contribute my skills and experience in designing for the mutual growth and progress.  employment snapshot  wide experience of designing in multiple projects and different capacities.  • well developed engineering and layout designing skills.  • proficiency in autocad, microsoft office suite and other applications that aid in the process of designing.  • adaptable to work for long hours under extreme circumstances and climates.  • excellent communication, analytical and problem solving skills  work experience test engineer  stc third eye december 2010 to december 2012  roles and responsibilities as a test engineer  • preparing test plan, functional system integration test plan and conducting test effort estimation for each release  • designing test strategy, approving test cases and setting up of test environment for manual integration system testing and user acceptance testing  • identifying & analyzing the defects, questionable functions, errors, program functionality, outputs, online screens and content  • monitoring & tracking projects, demand forecasts, time over-runs to ensure timely execution of projects    • directing, leading and motivating workforce, leading testing group in transformational assignments, imparting continuous on job training for accomplishing greater operational effectiveness / efficiency.  designer  rockcitybuilders december 2009 to 2010  roles and responsibilities as a designer  • designed the architecture layout, floor plans, project details and material requirements.  • communicated with the clients and assisted them in possible modifications and alterations.  • coordinated with the warehousing department for proper storage of raw materials  • performed cost estimates and quality testing  • documented technical specifications  • coordinated with different departments for completion of projects within deadline.  • assisted in the lane planning across the industrial estate  • mentored junior designers on practical methods and tools of civil designing.  education diploma in computer engneering  anna university 2005\n",
    "\"\"\""
   ]
  },
  {
   "cell_type": "code",
   "execution_count": null,
   "metadata": {},
   "outputs": [],
   "source": []
  },
  {
   "cell_type": "code",
   "execution_count": null,
   "metadata": {},
   "outputs": [],
   "source": []
  }
 ],
 "metadata": {
  "kernelspec": {
   "display_name": "Python 3",
   "language": "python",
   "name": "python3"
  },
  "language_info": {
   "codemirror_mode": {
    "name": "ipython",
    "version": 3
   },
   "file_extension": ".py",
   "mimetype": "text/x-python",
   "name": "python",
   "nbconvert_exporter": "python",
   "pygments_lexer": "ipython3",
   "version": "3.7.6"
  }
 },
 "nbformat": 4,
 "nbformat_minor": 4
}
